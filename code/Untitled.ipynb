{
 "cells": [
  {
   "cell_type": "code",
   "execution_count": 7,
   "metadata": {
    "collapsed": true
   },
   "outputs": [],
   "source": [
    "import pickle\n",
    "import json"
   ]
  },
  {
   "cell_type": "code",
   "execution_count": 10,
   "metadata": {},
   "outputs": [
    {
     "name": "stdout",
     "output_type": "stream",
     "text": [
      "bpr_item.pkl             itemID_tags_map.pkl      user_bundle_map.pkl\r\n",
      "bundle_discount_map.pkl  item_id_lookup.pkl       user_item_map.pkl\r\n",
      "bundle_item_map.pkl      sgd_tags.pkl\r\n",
      "bundle_price_map         tag_array\r\n"
     ]
    }
   ],
   "source": [
    "% ls ../data/new_data"
   ]
  },
  {
   "cell_type": "code",
   "execution_count": 11,
   "metadata": {},
   "outputs": [],
   "source": [
    "folder = '../data/new_data'\n",
    "user_bundle_map=pickle.load(open(folder + '/user_bundle_map.pkl','rb'))\n",
    "bundle_item_map = pickle.load(open(folder + '/bundle_item_map.pkl','rb'))\n",
    "user_item_map = pickle.load(open(folder + '/user_item_map.pkl','rb'))"
   ]
  },
  {
   "cell_type": "code",
   "execution_count": 23,
   "metadata": {
    "scrolled": false
   },
   "outputs": [
    {
     "name": "stdout",
     "output_type": "stream",
     "text": [
      "18\n",
      "set([2336, 448, 1154, 132, 7, 106, 237, 206, 111, 16, 88, 142, 213, 24, 164, 124, 138, 117])\n",
      "YY\n"
     ]
    }
   ],
   "source": [
    "for user in user_bundle_map:\n",
    "    items = set([])\n",
    "    for bid in user_bundle_map[user]:\n",
    "        for itemID in bundle_item_map[bid]:\n",
    "            items.add(itemID)\n",
    "    print len(items)\n",
    "    print items\n",
    "    if len(items - user_item_map[user]) > 0:\n",
    "        print items - user_item_map[user]\n",
    "    if len(user_item_map[user] - items) > 0:\n",
    "        print 'YY'\n",
    "        break"
   ]
  },
  {
   "cell_type": "code",
   "execution_count": 22,
   "metadata": {},
   "outputs": [
    {
     "name": "stdout",
     "output_type": "stream",
     "text": [
      "423\n"
     ]
    }
   ],
   "source": [
    "import numpy as np\n",
    "print np.random.choice(list(user_item_map[user]), 1)[0]"
   ]
  },
  {
   "cell_type": "code",
   "execution_count": 24,
   "metadata": {},
   "outputs": [
    {
     "name": "stdout",
     "output_type": "stream",
     "text": [
      "<type 'set'>\n"
     ]
    }
   ],
   "source": [
    "print type(user_item_map[user]), type()"
   ]
  },
  {
   "cell_type": "code",
   "execution_count": null,
   "metadata": {
    "collapsed": true
   },
   "outputs": [],
   "source": []
  }
 ],
 "metadata": {
  "anaconda-cloud": {},
  "kernelspec": {
   "display_name": "Python [conda env:py2]",
   "language": "python",
   "name": "conda-env-py2-py"
  },
  "language_info": {
   "codemirror_mode": {
    "name": "ipython",
    "version": 2
   },
   "file_extension": ".py",
   "mimetype": "text/x-python",
   "name": "python",
   "nbconvert_exporter": "python",
   "pygments_lexer": "ipython2",
   "version": "2.7.13"
  }
 },
 "nbformat": 4,
 "nbformat_minor": 2
}
