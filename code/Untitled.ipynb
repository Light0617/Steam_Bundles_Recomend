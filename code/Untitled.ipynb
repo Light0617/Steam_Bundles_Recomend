{
 "cells": [
  {
   "cell_type": "code",
   "execution_count": 2,
   "metadata": {
    "collapsed": true
   },
   "outputs": [],
   "source": [
    "import pickle\n",
    "import json"
   ]
  },
  {
   "cell_type": "code",
   "execution_count": 3,
   "metadata": {},
   "outputs": [],
   "source": [
    "folder = '../data/new_data'\n",
    "user_item_map = pickle.load(open(folder + '/user_item_map.pkl','rb'))\n",
    "user_bundle_map = pickle.load(open(folder + '/user_bundle_map.pkl','rb'))"
   ]
  },
  {
   "cell_type": "code",
   "execution_count": null,
   "metadata": {
    "collapsed": true
   },
   "outputs": [],
   "source": [
    "dict = {}\n",
    "for user in user_bundle_map:\n",
    "    count = len(user_bundle_map[user])\n",
    "    dict[count] = dict.get(count, 0) + 1 "
   ]
  },
  {
   "cell_type": "code",
   "execution_count": 15,
   "metadata": {
    "collapsed": true
   },
   "outputs": [],
   "source": [
    "def get_ratio(map):\n",
    "    dict = {}\n",
    "    for user in map:\n",
    "        count = len(map[user])\n",
    "        dict[count] = dict.get(count, 0) + 1 \n",
    "    cnt = 0\n",
    "    for key in sorted(dict):\n",
    "        if key < 5:\n",
    "            cnt += dict[key]\n",
    "    print cnt\n",
    "    return cnt / float(len(user_item_map))"
   ]
  },
  {
   "cell_type": "code",
   "execution_count": 16,
   "metadata": {
    "scrolled": false
   },
   "outputs": [
    {
     "name": "stdout",
     "output_type": "stream",
     "text": [
      "2022\n",
      "0.0682347382985\n",
      "24410\n",
      "0.823743799143\n"
     ]
    }
   ],
   "source": [
    "print get_ratio(user_item_map)\n",
    "print get_ratio(user_bundle_map)"
   ]
  },
  {
   "cell_type": "code",
   "execution_count": 11,
   "metadata": {},
   "outputs": [
    {
     "name": "stdout",
     "output_type": "stream",
     "text": [
      "0.23011507441\n"
     ]
    }
   ],
   "source": [
    "print cnt / float(len(user_item_map))"
   ]
  },
  {
   "cell_type": "code",
   "execution_count": 17,
   "metadata": {},
   "outputs": [
    {
     "data": {
      "text/plain": [
       "0.7806955287437899"
      ]
     },
     "execution_count": 17,
     "metadata": {},
     "output_type": "execute_result"
    }
   ],
   "source": [
    "2200.0 / 2818"
   ]
  },
  {
   "cell_type": "code",
   "execution_count": null,
   "metadata": {
    "collapsed": true
   },
   "outputs": [],
   "source": []
  }
 ],
 "metadata": {
  "anaconda-cloud": {},
  "kernelspec": {
   "display_name": "Python [conda env:py2]",
   "language": "python",
   "name": "conda-env-py2-py"
  },
  "language_info": {
   "codemirror_mode": {
    "name": "ipython",
    "version": 2
   },
   "file_extension": ".py",
   "mimetype": "text/x-python",
   "name": "python",
   "nbconvert_exporter": "python",
   "pygments_lexer": "ipython2",
   "version": "2.7.13"
  }
 },
 "nbformat": 4,
 "nbformat_minor": 2
}
