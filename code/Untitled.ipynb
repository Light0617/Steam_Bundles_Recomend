{
 "cells": [
  {
   "cell_type": "code",
   "execution_count": 9,
   "metadata": {
    "collapsed": true
   },
   "outputs": [],
   "source": [
    "import pickle\n",
    "import json"
   ]
  },
  {
   "cell_type": "code",
   "execution_count": 6,
   "metadata": {
    "collapsed": true
   },
   "outputs": [],
   "source": [
    "folder = '../data/processed_data'\n",
    "bundle_item_map=pickle.load(open(folder + '/bundle_item_map','rb'))\n",
    "bundle_final_price_map = pickle.load(open(folder + '/bundle_final_price_map','rb'))"
   ]
  },
  {
   "cell_type": "code",
   "execution_count": 5,
   "metadata": {},
   "outputs": [
    {
     "name": "stdout",
     "output_type": "stream",
     "text": [
      "0 set([291, 742, 1705, 1303, 1868, 1581, 1403, 2547, 1304, 2515, 739, 2744, 1305, 1147])\n"
     ]
    }
   ],
   "source": [
    "for k in bundle_item_map:\n",
    "    print k, bundle_item_map[k]\n",
    "    break"
   ]
  },
  {
   "cell_type": "code",
   "execution_count": 8,
   "metadata": {},
   "outputs": [
    {
     "name": "stdout",
     "output_type": "stream",
     "text": [
      "1 66.46\n"
     ]
    }
   ],
   "source": [
    "for k in bundle_final_price_map:\n",
    "    print k, bundle_final_price_map[k]\n",
    "    break"
   ]
  },
  {
   "cell_type": "code",
   "execution_count": 16,
   "metadata": {
    "collapsed": true
   },
   "outputs": [],
   "source": [
    "bundle_json=json.load(open('../../steam/bundle_data.json','rb'))"
   ]
  },
  {
   "cell_type": "code",
   "execution_count": 30,
   "metadata": {},
   "outputs": [
    {
     "name": "stdout",
     "output_type": "stream",
     "text": [
      "bundle_id 450\n",
      "bundle_final_price $66.46\n",
      "bundle_price $73.86\n",
      "450 12.56\n"
     ]
    }
   ],
   "source": [
    "for k in bundle_json:\n",
    "    for k1 in k:\n",
    "        print 'bundle_id', k['bundle_id']\n",
    "        print 'bundle_final_price', k['bundle_final_price']\n",
    "        print 'bundle_price', k['bundle_price']\n",
    "        break\n",
    "    break\n",
    "print 450, bundle_final_price_map[450]"
   ]
  },
  {
   "cell_type": "code",
   "execution_count": 26,
   "metadata": {},
   "outputs": [
    {
     "data": {
      "text/plain": [
       "12.56"
      ]
     },
     "execution_count": 26,
     "metadata": {},
     "output_type": "execute_result"
    }
   ],
   "source": [
    "bundle_final_price_map[450]"
   ]
  },
  {
   "cell_type": "code",
   "execution_count": 6,
   "metadata": {},
   "outputs": [
    {
     "data": {
      "text/plain": [
       "98"
      ]
     },
     "execution_count": 6,
     "metadata": {},
     "output_type": "execute_result"
    }
   ],
   "source": [
    "8200 * 12  / 1000"
   ]
  },
  {
   "cell_type": "code",
   "execution_count": null,
   "metadata": {
    "collapsed": true
   },
   "outputs": [],
   "source": [
    "10"
   ]
  }
 ],
 "metadata": {
  "anaconda-cloud": {},
  "kernelspec": {
   "display_name": "Python [conda env:py2]",
   "language": "python",
   "name": "conda-env-py2-py"
  },
  "language_info": {
   "codemirror_mode": {
    "name": "ipython",
    "version": 2
   },
   "file_extension": ".py",
   "mimetype": "text/x-python",
   "name": "python",
   "nbconvert_exporter": "python",
   "pygments_lexer": "ipython2",
   "version": "2.7.13"
  }
 },
 "nbformat": 4,
 "nbformat_minor": 2
}
