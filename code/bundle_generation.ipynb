{
 "cells": [
  {
   "cell_type": "code",
   "execution_count": 1,
   "metadata": {},
   "outputs": [],
   "source": [
    "import pickle\n",
    "import matplotlib.pyplot as plt\n",
    "import numpy as np\n",
    "from collections import defaultdict\n",
    "import pandas as pd\n",
    "import matplotlib.pyplot as plt\n",
    "import csv\n",
    "from lib import *\n",
    "%matplotlib inline"
   ]
  },
  {
   "cell_type": "code",
   "execution_count": 2,
   "metadata": {
    "collapsed": true
   },
   "outputs": [],
   "source": [
    "import os\n",
    "os.environ['THEANO_FLAGS']='mode=FAST_RUN,device=gpu,lib.cnmem=0.7,floatX=float32'"
   ]
  },
  {
   "cell_type": "markdown",
   "metadata": {},
   "source": [
    "## Bundle model begins"
   ]
  },
  {
   "cell_type": "code",
   "execution_count": 53,
   "metadata": {
    "collapsed": true
   },
   "outputs": [],
   "source": [
    "folder = '../data/new_data'\n",
    "bundle_item_map=pickle.load(open(folder + '/bundle_item_map.pkl','rb'))\n",
    "bundle_price_map = pickle.load(open(fold + '/bundle_price_map', 'r'))\n",
    "bundle_discount_map = pickle.load(open(\"../data/new_data/bundle_discount_map.pkl\", \"rb\"))\n",
    "bundle_price_arr = [bundle_price_map[i] for i in range(len(bundle_price_map)) if i]\n",
    "bundle_discount_arr = [bundle_discount_map[i] for i in range(len(bundle_discount_map))]"
   ]
  },
  {
   "cell_type": "code",
   "execution_count": 4,
   "metadata": {
    "collapsed": true
   },
   "outputs": [],
   "source": [
    "folder = '../data/train_test'\n",
    "bpr_item = pickle.load(open(folder +'/bpr_item.pkl','rb'))"
   ]
  },
  {
   "cell_type": "code",
   "execution_count": 5,
   "metadata": {
    "collapsed": true,
    "scrolled": false
   },
   "outputs": [],
   "source": [
    "H_item=bpr_item.H.eval()\n",
    "B_item=bpr_item.B.eval()\n",
    "W_item=bpr_item.W.eval()\n",
    "TG_item=bpr_item.TG.eval()"
   ]
  },
  {
   "cell_type": "code",
   "execution_count": 141,
   "metadata": {
    "collapsed": true
   },
   "outputs": [],
   "source": [
    "folder = '../data/train_test'\n",
    "sgd_users = pickle.load(open(folder +  \"/sgd_users.pkl\", \"rb\" ))\n",
    "sgd_pos_items = pickle.load(open(folder +  \"/sgd_pos_items.pkl\", \"rb\" ))\n",
    "sgd_neg_items = pickle.load(open(folder +  \"/sgd_neg_items.pkl\", \"rb\" ))\n",
    "sgd_pos_bundles = pickle.load(open(folder +  \"/sgd_pos_bundles.pkl\", \"rb\" ))\n",
    "sgd_neg_bundles = pickle.load(open(folder +  \"/sgd_neg_bundles.pkl\", \"rb\" ))\n",
    "sgd_pos_len = pickle.load(open(folder +  \"/sgd_pos_len.pkl\", \"rb\" ))\n",
    "sgd_neg_len = pickle.load(open(folder +  \"/sgd_neg_len.pkl\", \"rb\" ))\n",
    "sgd_pos_diversity = pickle.load(open(folder +  \"/sgd_pos_diversity.pkl\", \"rb\" ))\n",
    "sgd_neg_diversity = pickle.load(open(folder +  \"/sgd_neg_diversity.pkl\", \"rb\" ))"
   ]
  },
  {
   "cell_type": "code",
   "execution_count": 7,
   "metadata": {
    "collapsed": true
   },
   "outputs": [],
   "source": [
    "test_users = pickle.load(open(folder +  \"/test_users.pkl\", \"rb\" ))\n",
    "test_pos_items = pickle.load(open(folder +  \"/test_pos_items.pkl\", \"rb\" ))\n",
    "test_neg_items = pickle.load(open(folder +  \"/test_neg_items.pkl\", \"rb\" ))\n",
    "test_pos_bundles = pickle.load(open(folder +  \"/test_pos_bundles.pkl\", \"rb\" ))\n",
    "test_neg_bundles = pickle.load(open(folder +  \"/test_neg_bundles.pkl\", \"rb\" ))\n",
    "test_n1 = pickle.load(open(folder +  \"/test_n1.pkl\", \"rb\" ))\n",
    "test_n2 = pickle.load(open(folder +  \"/test_n2.pkl\", \"rb\" ))\n",
    "test_pos_diversity = pickle.load(open(folder +  \"/test_pos_diversity.pkl\", \"rb\" ))\n",
    "test_neg_diversity =pickle.load(open(folder +  \"/test_neg_diversity.pkl\", \"rb\" ))"
   ]
  },
  {
   "cell_type": "code",
   "execution_count": 142,
   "metadata": {
    "collapsed": true
   },
   "outputs": [],
   "source": [
    "sgd_pos_discount_percent = [bundle_discount_map[x] for x in sgd_pos_bundles]\n",
    "sgd_neg_discount_percent = [bundle_discount_map[x] for x in sgd_neg_bundles]"
   ]
  },
  {
   "cell_type": "code",
   "execution_count": 153,
   "metadata": {
    "collapsed": true
   },
   "outputs": [],
   "source": [
    "test_pos_discount_percent = [bundle_discount_map[x] for x in test_pos_bundles]\n",
    "test_neg_discount_percent = [bundle_discount_map[x] for x in test_neg_bundles]"
   ]
  },
  {
   "cell_type": "code",
   "execution_count": 8,
   "metadata": {
    "collapsed": true
   },
   "outputs": [],
   "source": [
    "# item_id_lookup =  pickle.load(open(\"../data/new_data/item_id_lookup.pkl\", \"rb\"))\n",
    "# user_item_map =  pickle.load(open(\"../data/new_data/user_item_map.pkl\", \"rb\"))\n",
    "# tag_array = pickle.load(open(\"../data/new_data/tag_array\", \"rb\"))\n",
    "# bundle_discount_map = pickle.load(open(\"../data/new_data/bundle_discount_map.pkl\", \"rb\"))\n",
    "# bundle_item_map = pickle.load(open(\"../data/new_data/bundle_item_map.pkl\", \"rb\"))"
   ]
  },
  {
   "cell_type": "code",
   "execution_count": 9,
   "metadata": {
    "collapsed": true
   },
   "outputs": [],
   "source": [
    "# max_bundle_size = np.max([len(bundle_item_map[key]) for key in bundle_item_map])\n",
    "# num_items = len(item_id_lookup)\n",
    "# num_users = len(user_item_map)\n",
    "# num_tags = len(tag_array.T)"
   ]
  },
  {
   "cell_type": "code",
   "execution_count": 10,
   "metadata": {
    "collapsed": true
   },
   "outputs": [],
   "source": [
    "# folder = '../data/train_test'\n",
    "# pickle.dump(num_items, open(folder +  \"/num_items\", \"wb\" ))\n",
    "# pickle.dump(max_bundle_size, open(folder +  \"/max_bundle_size\", \"wb\" ))\n",
    "# pickle.dump(num_users, open(folder +  \"/num_users\", \"wb\" ))\n",
    "# pickle.dump(num_tags, open(folder +  \"/num_tags\", \"wb\" ))"
   ]
  },
  {
   "cell_type": "code",
   "execution_count": 11,
   "metadata": {
    "collapsed": true
   },
   "outputs": [],
   "source": [
    "num_items = pickle.load(open(folder +  \"/num_items\", \"r\" ))\n",
    "max_bundle_size = pickle.load(open(folder +  \"/max_bundle_size\", \"r\" ))\n",
    "num_users = pickle.load(open(folder +  \"/num_users\", \"r\" ))\n",
    "num_tags = 327"
   ]
  },
  {
   "cell_type": "code",
   "execution_count": 12,
   "metadata": {},
   "outputs": [
    {
     "name": "stdout",
     "output_type": "stream",
     "text": [
      "(2516, 10)\n",
      "(2516,)\n",
      "(2516, 327)\n"
     ]
    }
   ],
   "source": [
    "H_item = np.concatenate((H_item,np.zeros((1,np.shape(H_item)[1]))),axis=0)\n",
    "H_item=np.array(H_item).astype('float32')\n",
    "print np.shape(H_item)\n",
    "\n",
    "\n",
    "B_item = np.append(B_item,0)\n",
    "B_item=np.array(B_item).astype('float32')\n",
    "print np.shape(B_item)\n",
    "\n",
    "A_item = np.concatenate((TG_item,np.zeros((1,np.shape(TG_item)[1]))),axis=0)\n",
    "A_item=np.array(A_item).astype('float32')\n",
    "print np.shape(A_item)"
   ]
  },
  {
   "cell_type": "code",
   "execution_count": 146,
   "metadata": {},
   "outputs": [
    {
     "name": "stdout",
     "output_type": "stream",
     "text": [
      "(2516, 327)\n"
     ]
    }
   ],
   "source": [
    "TG_item = np.concatenate((TG_item,np.zeros((1,np.shape(TG_item)[1]))),axis=0)\n",
    "TG_item=np.array(TG_item).astype('float32')\n",
    "print np.shape(TG_item)"
   ]
  },
  {
   "cell_type": "markdown",
   "metadata": {
    "collapsed": true
   },
   "source": [
    "## nonlinear discount"
   ]
  },
  {
   "cell_type": "code",
   "execution_count": 25,
   "metadata": {
    "collapsed": true
   },
   "outputs": [],
   "source": [
    "class BPR_Buncle5(object):\n",
    "    def __init__(self, rank, bundle_size, n_users, n_items, n_tags, bundle_discount_arr, bundle_price_arr, lambda_u = 0.0025, lambda_i = 0.0025, lambda_j = 0.00025, lambda_d = 0.0025, lambda_p = 0.00025, lambda_A = 0.01, lambda_bias = 0.0, learning_rate = 0.05):\n",
    "        \n",
    "        self._rank = rank\n",
    "        self._bundle_rank = bundle_size + 1\n",
    "        self._n_users = n_users\n",
    "        self._n_items = n_items\n",
    "        self._n_bundle = len(bundle_discount_map)\n",
    "        self.bundle_discount_arr = theano.shared(np.array(bundle_discount_arr))\n",
    "        self.bundle_price_arr = theano.shared(np.array(bundle_price_arr))\n",
    "        self._lambda_u = lambda_u\n",
    "        self._lambda_i = lambda_i\n",
    "        self._lambda_j = lambda_j\n",
    "        self._lambda_d = lambda_d\n",
    "        self._lambda_p = lambda_p\n",
    "        self._lambda_bias = lambda_bias\n",
    "        self._lambda_A = lambda_A\n",
    "        self._learning_rate = learning_rate\n",
    "        \n",
    "        self._n_tags = n_tags\n",
    "        self._configure_theano()\n",
    "        self._generate_train_model_item_function()\n",
    "        self._generate_test_model_function()\n",
    "\n",
    "    def _configure_theano(self):\n",
    "        theano.config.mode = 'FAST_RUN'\n",
    "        theano.config.floatX = 'float32'\n",
    "    \n",
    "    def _generate_train_model_item_function(self):\n",
    "        u = T.lvector('u')\n",
    "        i = T.lmatrix('i')\n",
    "        j = T.lmatrix('j')\n",
    "        n1 = T.lvector('n1')#num of items in pos bundle\n",
    "        n2 = T.lvector('n2')\n",
    "        di = T.dvector('di')#cb\n",
    "        dj = T.dvector('dj')#cb\n",
    "        bi = T.lvector('bi')\n",
    "        bj = T.lvector('bj')\n",
    "        \n",
    "        self.W1 = bpr_item.W #Pu\n",
    "        self.H1 = theano.shared(H_item.astype('float32'), name='H')#Qi\n",
    "        self.B1 = theano.shared(B_item.astype('float32'), name='B')#Bi\n",
    "        self.TG1 = theano.shared(A_item.astype('float32'), name='TG')\n",
    "        self.theta1 = bpr_item.theta\n",
    "        \n",
    "        self.M1 = theano.shared(numpy.random.random((self._rank, self._rank)).astype('float64'), name='M1')#w\n",
    "        self.M2 = theano.shared(numpy.random.random((self._rank, self._rank)).astype('float64'), name='M2')#u\n",
    "        self.BDu = theano.shared(numpy.random.rand(), name='bdu')#discount\n",
    "        self.K = theano.shared(numpy.random.rand(), name='K')#k\n",
    "        self.D = theano.shared(numpy.random.rand(), name='D')#C\n",
    "        self.N = theano.shared(numpy.random.random(self._bundle_rank).astype('float32'), name='N')#Nb\n",
    "        self.A1 = theano.shared(numpy.random.random((self._n_tags, self._n_tags)), name='A1')\n",
    "        self.A2 = theano.shared(numpy.random.random((self._n_tags, self._n_tags)), name='A2')\n",
    "                                \n",
    "        discount_price_i =  self.bundle_price_arr[bi] / (1 - self.bundle_discount_arr[bi]) * self.bundle_discount_arr[bi]\n",
    "        discount_price_j =  self.bundle_price_arr[bj] / (1 - self.bundle_discount_arr[bj]) * self.bundle_discount_arr[bj]\n",
    "        \n",
    "        x_ui = T.dot(T.dot(self.W1[u],self.M2), T.dot(self.M1, self.H1[i].sum(axis=1).T/n1)).diagonal() + self.K*(self.B1[i].T/n1).T.sum(axis=1) + self.N[n1] + self.D*di + T.dot(T.dot(self.theta1[u],self.A1), T.dot(self.A2, self.TG1[i].sum(axis=1).T/n1)).diagonal()\\\n",
    "                + self.BDu * T.nnet.sigmoid(theano.tensor.tan(self.bundle_discount_arr[bi] * theano.tensor.constant(np.pi).eval()))\n",
    "        x_uj = T.dot(T.dot(self.W1[u],self.M2), T.dot(self.M1, self.H1[j].sum(axis=1).T/n2)).diagonal() + self.K*(self.B1[j].T/n2).T.sum(axis=1) + self.N[n2] + self.D*dj + T.dot(T.dot(self.theta1[u],self.A1), T.dot(self.A2, self.TG1[j].sum(axis=1).T/n1)).diagonal()\\\n",
    "                + self.BDu * T.nnet.sigmoid(theano.tensor.tan(self.bundle_discount_arr[bj] * theano.tensor.constant(np.pi).eval()))\n",
    "        \n",
    "        \n",
    "        x_uij = T.nnet.sigmoid(x_ui-x_uj)\n",
    "        obj = T.sum(T.log(x_uij) - self._lambda_u * (self.M1 ** 2).sum() - \\\n",
    "                    self._lambda_u * (self.M2 ** 2).sum()  - self._lambda_d * (self.K**2) - self._lambda_d * (self.D**2)\\\n",
    "                    -self._lambda_p * (self.N[n2]**2) - self._lambda_p * (self.N[n1]**2)) - self._lambda_A * (self.A1 ** 2).sum() - self._lambda_A * (self.A2 ** 2).sum()\\\n",
    "                    - 0.001 * (self.BDu ** 2)\n",
    "        cost = - obj\n",
    "\n",
    "        g_cost_M1 = T.grad(cost=cost, wrt=self.M1)\n",
    "        g_cost_M2 = T.grad(cost=cost, wrt=self.M2)\n",
    "        g_cost_K = T.grad(cost=cost, wrt=self.K)\n",
    "        g_cost_N = T.grad(cost=cost, wrt=self.N)\n",
    "        g_cost_D = T.grad(cost=cost, wrt=self.D)\n",
    "        g_cost_A1 = T.grad(cost=cost, wrt=self.A1)\n",
    "        g_cost_A2 = T.grad(cost=cost, wrt=self.A2)\n",
    "        g_cost_BDu = T.grad(cost=cost, wrt=self.BDu)\n",
    "        \n",
    "        updates = [(self.M1, self.M1 - self._learning_rate * .001* g_cost_M1), (self.M2, self.M2 - self._learning_rate *.001* g_cost_M2), \n",
    "                   (self.K, self.K - self._learning_rate * .001*g_cost_K), (self.N, self.N - self._learning_rate *g_cost_N),\n",
    "                  (self.D, self.D - self._learning_rate * g_cost_D), \n",
    "                   (self.A1, self.A1-self._learning_rate * .001 * g_cost_A1), (self.A2, self.A2-self._learning_rate * .001 * g_cost_A2),\n",
    "                  (self.BDu, self.BDu-self._learning_rate * .001 * g_cost_BDu)]\n",
    "\n",
    "        self.train_model_item = theano.function(inputs=[u, i, j, n1, n2, di, dj, bi, bj], outputs=cost, updates=updates)\n",
    "\n",
    "    \n",
    "    def train(self, s_users=None, s_pos_items=None, s_neg_items=None, s_pos_len=None, s_neg_len=None,\n",
    "             s_pos_diversity=None, s_neg_diversity=None, bd_pos_bundle = None, bd_neg_bundle = None, batch_size=1000):\n",
    "        \n",
    "        if len(s_users) < batch_size:\n",
    "            sys.stderr.write(\"WARNING: Batch size is greater than number of training samples, switching to a batch size of %s\\n\" % str(len(train_data)))\n",
    "            batch_size = len(s_users)\n",
    "        \n",
    "        sgd_users, sgd_pos_items, sgd_neg_items = s_users, s_pos_items, s_neg_items\n",
    "        n_sgd_samples = len(s_users)\n",
    "\n",
    "        z = 0\n",
    "        t2 = t1 = t0 = time.time()\n",
    "        while (z+1)*batch_size < n_sgd_samples:\n",
    "            \n",
    "            self.train_model_item(\n",
    "                sgd_users[z*batch_size: (z+1)*batch_size],\n",
    "                sgd_pos_items[z*batch_size: (z+1)*batch_size],\n",
    "                sgd_neg_items[z*batch_size: (z+1)*batch_size],\n",
    "                s_pos_len[z*batch_size: (z+1)*batch_size],\n",
    "                s_neg_len[z*batch_size: (z+1)*batch_size],\n",
    "                s_pos_diversity[z*batch_size: (z+1)*batch_size],\n",
    "                s_neg_diversity[z*batch_size: (z+1)*batch_size],\n",
    "                bd_pos_bundle[z*batch_size: (z+1)*batch_size],\n",
    "                bd_neg_bundle[z*batch_size: (z+1)*batch_size]\n",
    "            )\n",
    "            z += 1\n",
    "            t2 = time.time()\n",
    "            sys.stderr.write(\"\\rProcessed %s ( %.2f%% ) in %.4f seconds\" %(str(z*batch_size), 100.0 * float(z*batch_size)/n_sgd_samples, t2 - t1))\n",
    "            sys.stderr.flush()\n",
    "            t1 = t2\n",
    "        if n_sgd_samples > 0:\n",
    "            sys.stderr.write(\"\\nTotal training time %.2f seconds; %e per sample\\n\" % (t2 - t0, (t2 - t0)/n_sgd_samples))\n",
    "            sys.stderr.flush()\n",
    "    \n",
    "    def _generate_test_model_function(self):\n",
    "        u = T.lvector('u')\n",
    "        i = T.lmatrix('i')\n",
    "        j = T.lmatrix('j')\n",
    "        n1 = T.lvector('n1')\n",
    "        n2 = T.lvector('n2')\n",
    "        di = T.dvector('di')\n",
    "        dj = T.dvector('dj')\n",
    "        bi = T.lvector('bi')\n",
    "        bj = T.lvector('bj')\n",
    "        \n",
    "        x_ui = T.dot(T.dot(self.W1[u],self.M2), T.dot(self.M1, self.H1[i].sum(axis=1).T/n1)).diagonal() + self.K*(self.B1[i].T/n1).T.sum(axis=1) + self.N[n1] + self.D*di + T.dot(T.dot(self.theta1[u],self.A1), T.dot(self.A2, self.TG1[i].sum(axis=1).T/n1)).diagonal()\\\n",
    "                + self.BDu * T.nnet.sigmoid(theano.tensor.tan(self.bundle_discount_arr[bi] * theano.tensor.constant(np.pi).eval()))\n",
    "        x_uj = T.dot(T.dot(self.W1[u],self.M2), T.dot(self.M1, self.H1[j].sum(axis=1).T/n2)).diagonal() + self.K*(self.B1[j].T/n2).T.sum(axis=1) + self.N[n2] + self.D*dj + T.dot(T.dot(self.theta1[u],self.A1), T.dot(self.A2, self.TG1[j].sum(axis=1).T/n1)).diagonal()\\\n",
    "                + self.BDu * T.nnet.sigmoid(theano.tensor.tan(self.bundle_discount_arr[bj] * theano.tensor.constant(np.pi).eval()))\n",
    "\n",
    "        y_ui = x_ui - self.BDu * T.nnet.sigmoid(theano.tensor.tan(self.bundle_discount_arr[bi] * theano.tensor.constant(np.pi).eval()))\n",
    "        y_uj = x_uj - self.BDu * T.nnet.sigmoid(theano.tensor.tan(self.bundle_discount_arr[bj] * theano.tensor.constant(np.pi).eval()))\n",
    "\n",
    "        x_uij = x_ui-x_uj\n",
    "#         x_uij = y_ui-y_uj\n",
    "        #self.test_model = theano.function(inputs=[u, i, j, n1, n2, di, dj, bi, bj], outputs=x_uij)\n",
    "        out = [x_uij, x_ui, x_uj, y_ui, y_uj]\n",
    "        self.test_model = theano.function(inputs=[u, i, j, n1, n2, di, dj, bi, bj], outputs= out)\n",
    "        \n",
    "    def test_bundle(self, sgd_users, sgd_pos_items, sgd_neg_items, s_pos_len, s_neg_len,\n",
    "                    s_pos_diversity, s_neg_diversity, bd_pos_bundle, bd_neg_bundle, batch_size=1000):\n",
    "        \n",
    "        auc_values = []\n",
    "        z = 0\n",
    "        t2 = t1 = t0 = time.time()\n",
    "        n_sgd_samples = len(sgd_users)\n",
    "        x_uis, x_ujs, y_uis, y_ujs = [], [], [], []\n",
    "        while (z+1)*batch_size < n_sgd_samples:\n",
    "            pref_list, xu1, xu2, yu1, yu2 =self.test_model(\n",
    "                sgd_users[z*batch_size: (z+1)*batch_size],\n",
    "                sgd_pos_items[z*batch_size: (z+1)*batch_size],\n",
    "                sgd_neg_items[z*batch_size: (z+1)*batch_size],\n",
    "                s_pos_len[z*batch_size: (z+1)*batch_size],\n",
    "                s_neg_len[z*batch_size: (z+1)*batch_size],\n",
    "                s_pos_diversity[z*batch_size: (z+1)*batch_size],\n",
    "                s_neg_diversity[z*batch_size: (z+1)*batch_size],\n",
    "                bd_pos_bundle[z*batch_size: (z+1)*batch_size],\n",
    "                bd_neg_bundle[z*batch_size: (z+1)*batch_size]\n",
    "            )\n",
    "            x_uis += [x for x in xu1]\n",
    "            x_ujs += [x for x in xu2]\n",
    "            y_uis += [x for x in yu1]\n",
    "            y_ujs += [x for x in yu2]\n",
    "            z += 1\n",
    "            t2 = time.time()\n",
    "            sys.stderr.write(\"\\rProcessed %s ( %.2f%% ) in %.4f seconds\" %(str(z*batch_size), 100.0 * float(z*batch_size)/n_sgd_samples, t2 - t1))\n",
    "            t1 = t2\n",
    "            \n",
    "            sys.stderr.write(\"pref%d\" % len(pref_list))\n",
    "            sys.stderr.flush()\n",
    "            auc = np.sum([1.0 if a > 0.0 else 0.0 for a in pref_list])\n",
    "            auc /= batch_size\n",
    "            \n",
    "            auc_values.append(auc)\n",
    "            sys.stderr.write(\"\\rCurrent AUC mean (%s samples): %0.5f\" % (str(z*batch_size), numpy.mean(auc_values)))\n",
    "            sys.stderr.flush()\n",
    "        sys.stderr.write(\"\\n\")\n",
    "        sys.stderr.flush()\n",
    "        return numpy.mean(auc_values)\n",
    "        #return [x_uis, x_ujs, y_uis, y_ujs]"
   ]
  },
  {
   "cell_type": "code",
   "execution_count": 26,
   "metadata": {},
   "outputs": [
    {
     "name": "stdout",
     "output_type": "stream",
     "text": [
      "82 29633 2515 327\n"
     ]
    }
   ],
   "source": [
    "print max_bundle_size, num_users, num_items, num_tags"
   ]
  },
  {
   "cell_type": "code",
   "execution_count": 27,
   "metadata": {},
   "outputs": [],
   "source": [
    "bpr_bundle5 = BPR_Buncle5(10, max_bundle_size, num_users, num_items, \\\n",
    "                        num_tags, bundle_discount_arr, bundle_price_arr)"
   ]
  },
  {
   "cell_type": "code",
   "execution_count": 28,
   "metadata": {},
   "outputs": [
    {
     "name": "stderr",
     "output_type": "stream",
     "text": [
      "Processed 2101000 ( 99.99% ) in 0.7656 seconds\n",
      "Total training time 968.28 seconds; 4.608338e-04 per sample\n"
     ]
    }
   ],
   "source": [
    "bpr_bundle5.train(s_users=sgd_users, s_pos_items=sgd_pos_items, s_neg_items=sgd_neg_items, \n",
    "            s_pos_len=sgd_pos_len, s_neg_len=sgd_neg_len, s_pos_diversity=sgd_pos_diversity,\n",
    "            s_neg_diversity=sgd_neg_diversity, \\\n",
    "                bd_pos_bundle = sgd_pos_bundles, bd_neg_bundle = sgd_neg_bundles)"
   ]
  },
  {
   "cell_type": "code",
   "execution_count": 29,
   "metadata": {},
   "outputs": [
    {
     "name": "stderr",
     "output_type": "stream",
     "text": [
      "Current AUC mean (420000 samples): 0.93355ndspref1000\n"
     ]
    }
   ],
   "source": [
    "res5 = bpr_bundle5.test_bundle(test_users, test_pos_items, test_neg_items, test_n1, test_n2,\\\n",
    "                       test_pos_diversity, test_neg_diversity,\\\n",
    "                      test_pos_bundles, test_neg_bundles)"
   ]
  },
  {
   "cell_type": "code",
   "execution_count": 135,
   "metadata": {},
   "outputs": [],
   "source": [
    "import theano, numpy\n",
    "import theano.tensor as T\n",
    "import time\n",
    "import sys\n",
    "from collections import defaultdict\n",
    "\n",
    "class BPR_Bundle(object):\n",
    "\n",
    "    def __init__(self, rank, bundle_size, n_users, n_items, n_tags, lambda_u = 0.0025, lambda_i = 0.0025, lambda_j = 0.00025, lambda_d = 0.0025, lambda_p = 0.00025, lambda_A = 0.01, lambda_bias = 0.0, learning_rate = 0.05):\n",
    "        \n",
    "        self._rank = rank\n",
    "        self._bundle_rank = bundle_size + 1\n",
    "        self._n_users = n_users\n",
    "        self._n_items = n_items\n",
    "        self._lambda_u = lambda_u\n",
    "        self._lambda_i = lambda_i\n",
    "        self._lambda_j = lambda_j\n",
    "        self._lambda_d = lambda_d\n",
    "        self._lambda_p = lambda_p\n",
    "        self._lambda_bias = lambda_bias\n",
    "        self._lambda_A = lambda_A\n",
    "        self._lambda_DP = 0.01\n",
    "        # self.DP = theano.shared(discount_array.astype('float32'), name='DP')\n",
    "        self._n_tags = n_tags\n",
    "\n",
    "        self._learning_rate = learning_rate\n",
    "        self._configure_theano()\n",
    "        self._generate_train_model_item_function()\n",
    "        self._generate_test_model_function()\n",
    "\n",
    "    def _configure_theano(self):\n",
    "        theano.config.mode = 'FAST_RUN'\n",
    "        theano.config.floatX = 'float32'\n",
    "    \n",
    "    def _generate_train_model_item_function(self):\n",
    "        u = T.lvector('u')\n",
    "        i = T.lmatrix('i')\n",
    "        j = T.lmatrix('j')\n",
    "        n1 = T.lvector('n1')#num of items in pos bundle\n",
    "        n2 = T.lvector('n2')\n",
    "        di = T.dvector('di')#cb\n",
    "        dj = T.dvector('dj')#cb\n",
    "        DPi = T.dvector('DPi') # discount percent i\n",
    "        DPj = T.dvector('DPj')\n",
    "\n",
    "        \n",
    "        self.W1 = bpr_item.W #Pu\n",
    "        self.H1 = theano.shared(H_item.astype('float32'), name='H')#Qi\n",
    "        self.B1 = theano.shared(B_item.astype('float32'), name='B')#Bi\n",
    "        self.TG1 = theano.shared(TG_item.astype('float32'), name='TG')\n",
    "        self.theta1 = bpr_item.theta\n",
    "        \n",
    "        self.M1 = theano.shared(numpy.random.random((self._rank, self._rank)).astype('float64'), name='M1')#w\n",
    "        self.M2 = theano.shared(numpy.random.random((self._rank, self._rank)).astype('float64'), name='M2')#u\n",
    "        self.K = theano.shared(numpy.random.rand(), name='K')#k\n",
    "        self.D = theano.shared(numpy.random.rand(), name='D')#C\n",
    "        self.N = theano.shared(numpy.random.random(self._bundle_rank).astype('float32'), name='N')#Nb\n",
    "        self.A1 = theano.shared(numpy.random.random((self._n_tags, self._n_tags)), name='A1')\n",
    "        self.A2 = theano.shared(numpy.random.random((self._n_tags, self._n_tags)), name='A2')\n",
    "        self.J = theano.shared(numpy.random.random(self._n_users).astype('float64'), name='J') # discount rate parameter\n",
    "        \n",
    "        x_ui = T.dot(T.dot(self.W1[u],self.M2), T.dot(self.M1, self.H1[i].sum(axis=1).T/n1)).diagonal() + self.K*(self.B1[i].T/n1).T.sum(axis=1) + self.N[n1] + self.D*di + T.dot(T.dot(self.theta1[u],self.A1), T.dot(self.A2, self.TG1[i].sum(axis=1).T/n1)).diagonal() + self.J[u] * DPi\n",
    "        x_uj = T.dot(T.dot(self.W1[u],self.M2), T.dot(self.M1, self.H1[j].sum(axis=1).T/n2)).diagonal() + self.K*(self.B1[j].T/n2).T.sum(axis=1) + self.N[n2] + self.D*dj + T.dot(T.dot(self.theta1[u],self.A1), T.dot(self.A2, self.TG1[j].sum(axis=1).T/n2)).diagonal() + self.J[u] * DPj\n",
    "        \n",
    "        x_uij = T.nnet.sigmoid(x_ui-x_uj)\n",
    "        obj = T.sum(T.log(x_uij) - self._lambda_u * (self.M1 ** 2).sum() - \\\n",
    "                    self._lambda_u * (self.M2 ** 2).sum()  - self._lambda_d * (self.K**2) - self._lambda_d * (self.D**2) \\\n",
    "                    - self._lambda_p * (self.N[n2]**2) - self._lambda_p * (self.N[n1]**2) \\\n",
    "                    - self._lambda_A * (self.A1 ** 2).sum() - self._lambda_A * (self.A2 ** 2).sum() \\\n",
    "                    - self._lambda_DP * (self.J[u]**2))\n",
    "        cost = - obj\n",
    "\n",
    "        g_cost_M1 = T.grad(cost=cost, wrt=self.M1)\n",
    "        g_cost_M2 = T.grad(cost=cost, wrt=self.M2)\n",
    "        g_cost_K = T.grad(cost=cost, wrt=self.K)\n",
    "        g_cost_N = T.grad(cost=cost, wrt=self.N)\n",
    "        g_cost_D = T.grad(cost=cost, wrt=self.D)\n",
    "        g_cost_A1 = T.grad(cost=cost, wrt=self.A1)\n",
    "        g_cost_A2 = T.grad(cost=cost, wrt=self.A2)\n",
    "        g_cost_J = T.grad(cost=cost, wrt=self.J)\n",
    "        \n",
    "        updates = [(self.M1, self.M1 - self._learning_rate * .001* g_cost_M1), (self.M2, self.M2 - self._learning_rate *.001* g_cost_M2), \n",
    "                   (self.K, self.K - self._learning_rate * .001*g_cost_K), (self.N, self.N - self._learning_rate *g_cost_N),\n",
    "                  (self.D, self.D - self._learning_rate * g_cost_D), \n",
    "                   (self.A1, self.A1-self._learning_rate * .001 * g_cost_A1), (self.A2, self.A2-self._learning_rate * .001 * g_cost_A2),\n",
    "                  (self.J, self.J-self._learning_rate * .001 * g_cost_J)]\n",
    "\n",
    "        self.train_model_item = theano.function(inputs=[u, i, j, n1, n2, di, dj, DPi, DPj], outputs=cost, updates=updates)\n",
    "\n",
    "    \n",
    "    def train(self, s_users=None, s_pos_items=None, s_neg_items=None, s_pos_len=None, s_neg_len=None,\n",
    "             s_pos_diversity=None, s_neg_diversity=None, s_pos_discount_percent=None, s_neg_discount_percent=None, \n",
    "              batch_size=1000):\n",
    "        \n",
    "        if len(s_users) < batch_size:\n",
    "            sys.stderr.write(\"WARNING: Batch size is greater than number of training samples, switching to a batch size of %s\\n\" % str(len(train_data)))\n",
    "            batch_size = len(s_users)\n",
    "        \n",
    "        sgd_users, sgd_pos_items, sgd_neg_items = s_users, s_pos_items, s_neg_items\n",
    "        n_sgd_samples = len(s_users)\n",
    "\n",
    "        z = 0\n",
    "        t2 = t1 = t0 = time.time()\n",
    "        while (z+1)*batch_size < n_sgd_samples:\n",
    "            \n",
    "            self.train_model_item(\n",
    "                sgd_users[z*batch_size: (z+1)*batch_size],\n",
    "                sgd_pos_items[z*batch_size: (z+1)*batch_size],\n",
    "                sgd_neg_items[z*batch_size: (z+1)*batch_size],\n",
    "                s_pos_len[z*batch_size: (z+1)*batch_size],\n",
    "                s_neg_len[z*batch_size: (z+1)*batch_size],\n",
    "                s_pos_diversity[z*batch_size: (z+1)*batch_size],\n",
    "                s_neg_diversity[z*batch_size: (z+1)*batch_size],\n",
    "                s_pos_discount_percent[z*batch_size: (z+1)*batch_size],\n",
    "                s_neg_discount_percent[z*batch_size: (z+1)*batch_size],\n",
    "            )\n",
    "            z += 1\n",
    "            t2 = time.time()\n",
    "            sys.stderr.write(\"\\rProcessed %s ( %.2f%% ) in %.4f seconds\" %(str(z*batch_size), 100.0 * float(z*batch_size)/n_sgd_samples, t2 - t1))\n",
    "            sys.stderr.flush()\n",
    "            t1 = t2\n",
    "        if n_sgd_samples > 0:\n",
    "            sys.stderr.write(\"\\nTotal training time %.2f seconds; %e per sample\\n\" % (t2 - t0, (t2 - t0)/n_sgd_samples))\n",
    "            sys.stderr.flush()\n",
    "    \n",
    "    def _generate_test_model_function(self):\n",
    "        u = T.lvector('u')\n",
    "        i = T.lmatrix('i')\n",
    "        j = T.lmatrix('j')\n",
    "        n1 = T.lvector('n1')\n",
    "        n2 = T.lvector('n2')\n",
    "        di = T.dvector('di')\n",
    "        dj = T.dvector('dj')\n",
    "        DPi = T.dvector('DPi') # discount percent i\n",
    "        DPj = T.dvector('DPj')\n",
    "        \n",
    "        x_ui = T.dot(T.dot(self.W1[u],self.M2), T.dot(self.M1, self.H1[i].sum(axis=1).T/n1)).diagonal() + self.K*(self.B1[i].T/n1).T.sum(axis=1) + self.N[n1] + self.D*di + T.dot(T.dot(self.theta1[u],self.A1), T.dot(self.A2, self.TG1[i].sum(axis=1).T/n1)).diagonal() + self.J[u] * DPi\n",
    "        x_uj = T.dot(T.dot(self.W1[u],self.M2), T.dot(self.M1, self.H1[j].sum(axis=1).T/n2)).diagonal() + self.K*(self.B1[j].T/n2).T.sum(axis=1) + self.N[n2] + self.D*dj + T.dot(T.dot(self.theta1[u],self.A1), T.dot(self.A2, self.TG1[j].sum(axis=1).T/n2)).diagonal() + self.J[u] * DPj\n",
    "        \n",
    "        x_uij = x_ui-x_uj\n",
    "        self.test_model = theano.function(inputs=[u, i, j, n1, n2, di, dj, DPi, DPj], outputs=x_uij)\n",
    "        \n",
    "    def test_bundle(self, sgd_users, sgd_pos_items, sgd_neg_items, s_pos_len, s_neg_len, s_pos_diversity, s_neg_diversity, s_pos_discount_percent, s_neg_discount_percent, batch_size=1000):\n",
    "        \n",
    "        auc_values = []\n",
    "        z = 0\n",
    "        t2 = t1 = t0 = time.time()\n",
    "        n_sgd_samples = len(sgd_users)\n",
    "        while (z+1)*batch_size < n_sgd_samples:\n",
    "            pref_list=self.test_model(\n",
    "                sgd_users[z*batch_size: (z+1)*batch_size],\n",
    "                sgd_pos_items[z*batch_size: (z+1)*batch_size],\n",
    "                sgd_neg_items[z*batch_size: (z+1)*batch_size],\n",
    "                s_pos_len[z*batch_size: (z+1)*batch_size],\n",
    "                s_neg_len[z*batch_size: (z+1)*batch_size],\n",
    "                s_pos_diversity[z*batch_size: (z+1)*batch_size],\n",
    "                s_neg_diversity[z*batch_size: (z+1)*batch_size],\n",
    "                s_pos_discount_percent[z*batch_size: (z+1)*batch_size],\n",
    "                s_neg_discount_percent[z*batch_size: (z+1)*batch_size],\n",
    "            )\n",
    "            z += 1\n",
    "            t2 = time.time()\n",
    "            sys.stderr.write(\"\\rProcessed %s ( %.2f%% ) in %.4f seconds\" %(str(z*batch_size), 100.0 * float(z*batch_size)/n_sgd_samples, t2 - t1))\n",
    "            t1 = t2\n",
    "            \n",
    "            auc = np.sum([1.0 if a>0.0 else 0.0 for a in pref_list])\n",
    "            auc /= batch_size\n",
    "            \n",
    "            auc_values.append(auc)\n",
    "            sys.stderr.write(\"\\rCurrent AUC mean (%s samples): %0.5f\" % (str(z*batch_size), numpy.mean(auc_values)))\n",
    "            sys.stderr.flush()\n",
    "        \n",
    "        sys.stderr.write(\"\\n\")\n",
    "        sys.stderr.flush()\n",
    "        return numpy.mean(auc_values)"
   ]
  },
  {
   "cell_type": "code",
   "execution_count": 150,
   "metadata": {},
   "outputs": [],
   "source": [
    "bpr_bundle = BPR_Bundle(10, max_bundle_size, num_users, num_items, num_tags)"
   ]
  },
  {
   "cell_type": "code",
   "execution_count": 145,
   "metadata": {},
   "outputs": [
    {
     "name": "stdout",
     "output_type": "stream",
     "text": [
      "82 29633 2515 327\n"
     ]
    }
   ],
   "source": [
    "print max_bundle_size, num_users, num_items, num_tags"
   ]
  },
  {
   "cell_type": "code",
   "execution_count": 151,
   "metadata": {},
   "outputs": [
    {
     "name": "stderr",
     "output_type": "stream",
     "text": [
      "Processed 2101000 ( 99.99% ) in 0.5728 seconds\n",
      "Total training time 892.65 seconds; 4.248395e-04 per sample\n"
     ]
    }
   ],
   "source": [
    "bpr_bundle.train(s_users=sgd_users, s_pos_items=sgd_pos_items, s_neg_items=sgd_neg_items, \n",
    "          s_pos_len=sgd_pos_len, s_neg_len=sgd_neg_len, s_pos_diversity=sgd_pos_diversity,\n",
    "          s_neg_diversity=sgd_neg_diversity, \n",
    "          s_pos_discount_percent = sgd_pos_discount_percent,\n",
    "          s_neg_discount_percent = sgd_neg_discount_percent)"
   ]
  },
  {
   "cell_type": "code",
   "execution_count": 154,
   "metadata": {},
   "outputs": [
    {
     "name": "stderr",
     "output_type": "stream",
     "text": [
      "Current AUC mean (420000 samples): 0.93375nds\n"
     ]
    },
    {
     "data": {
      "text/plain": [
       "0.93375238095238111"
      ]
     },
     "execution_count": 154,
     "metadata": {},
     "output_type": "execute_result"
    }
   ],
   "source": [
    "bpr_bundle.test_bundle(test_users, test_pos_items, test_neg_items, test_n1, test_n2,\\\n",
    "                       test_pos_diversity, test_neg_diversity,\\\n",
    "                      test_pos_discount_percent, test_neg_discount_percent)"
   ]
  },
  {
   "cell_type": "markdown",
   "metadata": {},
   "source": [
    "# recover bundle discount model"
   ]
  },
  {
   "cell_type": "code",
   "execution_count": 84,
   "metadata": {
    "collapsed": true
   },
   "outputs": [],
   "source": [
    "class BPR_Buncle6(object):\n",
    "    def __init__(self, rank, bundle_size, n_users, n_items, n_tags, bundle_discount_arr, bundle_price_arr, lambda_u = 0.0025, lambda_i = 0.0025, lambda_j = 0.00025, lambda_d = 0.0025, lambda_p = 0.00025, lambda_A = 0.01, lambda_bias = 0.0, learning_rate = 0.05):\n",
    "        \n",
    "        self._rank = rank\n",
    "        self._bundle_rank = bundle_size + 1\n",
    "        self._n_users = n_users\n",
    "        self._n_items = n_items\n",
    "        self._n_bundle = len(bundle_discount_map)\n",
    "        self.bundle_discount_arr = theano.shared(np.array(bundle_discount_arr))\n",
    "        self.bundle_price_arr = theano.shared(np.array(bundle_price_arr))\n",
    "        self._lambda_u = lambda_u\n",
    "        self._lambda_i = lambda_i\n",
    "        self._lambda_j = lambda_j\n",
    "        self._lambda_d = lambda_d\n",
    "        self._lambda_p = lambda_p\n",
    "        self._lambda_bias = lambda_bias\n",
    "        self._lambda_A = lambda_A\n",
    "        self._learning_rate = learning_rate\n",
    "        \n",
    "        self._n_tags = n_tags\n",
    "        self._configure_theano()\n",
    "        self._generate_train_model_item_function()\n",
    "        self._generate_test_model_function()\n",
    "\n",
    "    def _configure_theano(self):\n",
    "        theano.config.mode = 'FAST_RUN'\n",
    "        theano.config.floatX = 'float32'\n",
    "    \n",
    "    def _generate_train_model_item_function(self):\n",
    "        u = T.lvector('u')\n",
    "        i = T.lmatrix('i')\n",
    "        j = T.lmatrix('j')\n",
    "        n1 = T.lvector('n1')#num of items in pos bundle\n",
    "        n2 = T.lvector('n2')\n",
    "        di = T.dvector('di')#cb\n",
    "        dj = T.dvector('dj')#cb\n",
    "        bi = T.lvector('bi')\n",
    "        bj = T.lvector('bj')\n",
    "        \n",
    "        self.W1 = bpr_item.W #Pu\n",
    "        self.H1 = theano.shared(H_item.astype('float32'), name='H')#Qi\n",
    "        self.B1 = theano.shared(B_item.astype('float32'), name='B')#Bi\n",
    "        self.TG1 = theano.shared(A_item.astype('float32'), name='TG')\n",
    "        self.theta1 = bpr_item.theta\n",
    "        \n",
    "        self.M1 = theano.shared(numpy.random.random((self._rank, self._rank)).astype('float64'), name='M1')#w\n",
    "        self.M2 = theano.shared(numpy.random.random((self._rank, self._rank)).astype('float64'), name='M2')#u\n",
    "        self.BDu = theano.shared(numpy.random.rand(), name='bdu')#discount\n",
    "        self.K = theano.shared(numpy.random.rand(), name='K')#k\n",
    "        self.D = theano.shared(numpy.random.rand(), name='D')#C\n",
    "        self.N = theano.shared(numpy.random.random(self._bundle_rank).astype('float32'), name='N')#Nb\n",
    "        self.A1 = theano.shared(numpy.random.random((self._n_tags, self._n_tags)), name='A1')\n",
    "        self.A2 = theano.shared(numpy.random.random((self._n_tags, self._n_tags)), name='A2')\n",
    "                                \n",
    "        discount_price_i =  self.bundle_price_arr[bi] / (1 - self.bundle_discount_arr[bi]) * self.bundle_discount_arr[bi]\n",
    "        discount_price_j =  self.bundle_price_arr[bj] / (1 - self.bundle_discount_arr[bj]) * self.bundle_discount_arr[bj]\n",
    "        \n",
    "        x_ui = T.dot(T.dot(self.W1[u],self.M2), T.dot(self.M1, self.H1[i].sum(axis=1).T/n1)).diagonal() + self.K*(self.B1[i].T/n1).T.sum(axis=1) + self.N[n1] + self.D*di + T.dot(T.dot(self.theta1[u],self.A1), T.dot(self.A2, self.TG1[i].sum(axis=1).T/n1)).diagonal()\\\n",
    "                + self.BDu * T.nnet.sigmoid(theano.tensor.tan(self.bundle_discount_arr[bi] * theano.tensor.constant(np.pi).eval()))\n",
    "        x_uj = T.dot(T.dot(self.W1[u],self.M2), T.dot(self.M1, self.H1[j].sum(axis=1).T/n2)).diagonal() + self.K*(self.B1[j].T/n2).T.sum(axis=1) + self.N[n2] + self.D*dj + T.dot(T.dot(self.theta1[u],self.A1), T.dot(self.A2, self.TG1[j].sum(axis=1).T/n1)).diagonal()\\\n",
    "                + self.BDu * T.nnet.sigmoid(theano.tensor.tan(self.bundle_discount_arr[bj] * theano.tensor.constant(np.pi).eval()))\n",
    "        \n",
    "        \n",
    "        x_uij = T.nnet.sigmoid(x_ui-x_uj)\n",
    "        obj = T.sum(T.log(x_uij) - self._lambda_u * (self.M1 ** 2).sum() - \\\n",
    "                    self._lambda_u * (self.M2 ** 2).sum()  - self._lambda_d * (self.K**2) - self._lambda_d * (self.D**2)\\\n",
    "                    -self._lambda_p * (self.N[n2]**2) - self._lambda_p * (self.N[n1]**2)) - self._lambda_A * (self.A1 ** 2).sum() - self._lambda_A * (self.A2 ** 2).sum()\\\n",
    "                    - 0.001 * (self.BDu ** 2)\n",
    "        cost = - obj\n",
    "\n",
    "        g_cost_M1 = T.grad(cost=cost, wrt=self.M1)\n",
    "        g_cost_M2 = T.grad(cost=cost, wrt=self.M2)\n",
    "        g_cost_K = T.grad(cost=cost, wrt=self.K)\n",
    "        g_cost_N = T.grad(cost=cost, wrt=self.N)\n",
    "        g_cost_D = T.grad(cost=cost, wrt=self.D)\n",
    "        g_cost_A1 = T.grad(cost=cost, wrt=self.A1)\n",
    "        g_cost_A2 = T.grad(cost=cost, wrt=self.A2)\n",
    "        g_cost_BDu = T.grad(cost=cost, wrt=self.BDu)\n",
    "        \n",
    "        updates = [(self.M1, self.M1 - self._learning_rate * .001* g_cost_M1), (self.M2, self.M2 - self._learning_rate *.001* g_cost_M2), \n",
    "                   (self.K, self.K - self._learning_rate * .001*g_cost_K), (self.N, self.N - self._learning_rate *g_cost_N),\n",
    "                  (self.D, self.D - self._learning_rate * g_cost_D), \n",
    "                   (self.A1, self.A1-self._learning_rate * .001 * g_cost_A1), (self.A2, self.A2-self._learning_rate * .001 * g_cost_A2),\n",
    "                  (self.BDu, self.BDu-self._learning_rate * .001 * g_cost_BDu)]\n",
    "\n",
    "        self.train_model_item = theano.function(inputs=[u, i, j, n1, n2, di, dj, bi, bj], outputs=cost, updates=updates)\n",
    "\n",
    "    \n",
    "    def train(self, s_users=None, s_pos_items=None, s_neg_items=None, s_pos_len=None, s_neg_len=None,\n",
    "             s_pos_diversity=None, s_neg_diversity=None, bd_pos_bundle = None, bd_neg_bundle = None, batch_size=1000):\n",
    "        \n",
    "        if len(s_users) < batch_size:\n",
    "            sys.stderr.write(\"WARNING: Batch size is greater than number of training samples, switching to a batch size of %s\\n\" % str(len(train_data)))\n",
    "            batch_size = len(s_users)\n",
    "        \n",
    "        sgd_users, sgd_pos_items, sgd_neg_items = s_users, s_pos_items, s_neg_items\n",
    "        n_sgd_samples = len(s_users)\n",
    "\n",
    "        z = 0\n",
    "        t2 = t1 = t0 = time.time()\n",
    "        while (z+1)*batch_size < n_sgd_samples:\n",
    "            \n",
    "            self.train_model_item(\n",
    "                sgd_users[z*batch_size: (z+1)*batch_size],\n",
    "                sgd_pos_items[z*batch_size: (z+1)*batch_size],\n",
    "                sgd_neg_items[z*batch_size: (z+1)*batch_size],\n",
    "                s_pos_len[z*batch_size: (z+1)*batch_size],\n",
    "                s_neg_len[z*batch_size: (z+1)*batch_size],\n",
    "                s_pos_diversity[z*batch_size: (z+1)*batch_size],\n",
    "                s_neg_diversity[z*batch_size: (z+1)*batch_size],\n",
    "                bd_pos_bundle[z*batch_size: (z+1)*batch_size],\n",
    "                bd_neg_bundle[z*batch_size: (z+1)*batch_size]\n",
    "            )\n",
    "            z += 1\n",
    "            t2 = time.time()\n",
    "            sys.stderr.write(\"\\rProcessed %s ( %.2f%% ) in %.4f seconds\" %(str(z*batch_size), 100.0 * float(z*batch_size)/n_sgd_samples, t2 - t1))\n",
    "            sys.stderr.flush()\n",
    "            t1 = t2\n",
    "        if n_sgd_samples > 0:\n",
    "            sys.stderr.write(\"\\nTotal training time %.2f seconds; %e per sample\\n\" % (t2 - t0, (t2 - t0)/n_sgd_samples))\n",
    "            sys.stderr.flush()\n",
    "    \n",
    "    def _generate_test_model_function(self):\n",
    "        u = T.lvector('u')\n",
    "        i = T.lmatrix('i')\n",
    "        j = T.lmatrix('j')\n",
    "        n1 = T.lvector('n1')\n",
    "        n2 = T.lvector('n2')\n",
    "        di = T.dvector('di')\n",
    "        dj = T.dvector('dj')\n",
    "        \n",
    "        x_ui = T.dot(T.dot(self.W1[u],self.M2), T.dot(self.M1, self.H1[i].sum(axis=1).T/n1)).diagonal() + self.K*(self.B1[i].T/n1).T.sum(axis=1) + self.N[n1] + self.D*di + T.dot(T.dot(self.theta1[u],self.A1), T.dot(self.A2, self.TG1[i].sum(axis=1).T/n1)).diagonal()\n",
    "        x_uj = T.dot(T.dot(self.W1[u],self.M2), T.dot(self.M1, self.H1[j].sum(axis=1).T/n2)).diagonal() + self.K*(self.B1[j].T/n2).T.sum(axis=1) + self.N[n2] + self.D*dj + T.dot(T.dot(self.theta1[u],self.A1), T.dot(self.A2, self.TG1[j].sum(axis=1).T/n1)).diagonal()\n",
    "        \n",
    "        x_uij = x_ui-x_uj\n",
    "        self.test_model = theano.function(inputs=[u, i, j, n1, n2, di, dj], outputs=x_uij)\n",
    "        \n",
    "    def test_bundle(self, sgd_users, sgd_pos_items, sgd_neg_items, s_pos_len, s_neg_len,\n",
    "                    s_pos_diversity, s_neg_diversity, batch_size=1000):\n",
    "        \n",
    "        auc_values = []\n",
    "        z = 0\n",
    "        t2 = t1 = t0 = time.time()\n",
    "        n_sgd_samples = len(sgd_users)\n",
    "        while (z+1)*batch_size < n_sgd_samples:\n",
    "            pref_list=self.test_model(\n",
    "                sgd_users[z*batch_size: (z+1)*batch_size],\n",
    "                sgd_pos_items[z*batch_size: (z+1)*batch_size],\n",
    "                sgd_neg_items[z*batch_size: (z+1)*batch_size],\n",
    "                s_pos_len[z*batch_size: (z+1)*batch_size],\n",
    "                s_neg_len[z*batch_size: (z+1)*batch_size],\n",
    "                s_pos_diversity[z*batch_size: (z+1)*batch_size],\n",
    "                s_neg_diversity[z*batch_size: (z+1)*batch_size]\n",
    "            )\n",
    "            z += 1\n",
    "            t2 = time.time()\n",
    "            sys.stderr.write(\"\\rProcessed %s ( %.2f%% ) in %.4f seconds\" %(str(z*batch_size), 100.0 * float(z*batch_size)/n_sgd_samples, t2 - t1))\n",
    "            t1 = t2\n",
    "            \n",
    "            sys.stderr.write(\"pref%d\" % len(pref_list))\n",
    "            sys.stderr.flush()\n",
    "            auc = np.sum([1.0 if a > 0.0 else 0.0 for a in pref_list])\n",
    "            auc /= batch_size\n",
    "            \n",
    "            auc_values.append(auc)\n",
    "            sys.stderr.write(\"\\rCurrent AUC mean (%s samples): %0.5f\" % (str(z*batch_size), numpy.mean(auc_values)))\n",
    "            sys.stderr.flush()\n",
    "        sys.stderr.write(\"\\n\")\n",
    "        sys.stderr.flush()\n",
    "        return numpy.mean(auc_values)"
   ]
  },
  {
   "cell_type": "code",
   "execution_count": 85,
   "metadata": {},
   "outputs": [],
   "source": [
    "bpr_bundle6 = BPR_Buncle6(10, max_bundle_size, num_users, num_items, \\\n",
    "                        num_tags, bundle_discount_arr, bundle_price_arr)"
   ]
  },
  {
   "cell_type": "code",
   "execution_count": 86,
   "metadata": {},
   "outputs": [
    {
     "name": "stderr",
     "output_type": "stream",
     "text": [
      "Processed 2101000 ( 99.99% ) in 0.8005 seconds\n",
      "Total training time 1879.47 seconds; 8.945020e-04 per sample\n"
     ]
    }
   ],
   "source": [
    "bpr_bundle6.train(s_users=sgd_users, s_pos_items=sgd_pos_items, s_neg_items=sgd_neg_items, \n",
    "            s_pos_len=sgd_pos_len, s_neg_len=sgd_neg_len, s_pos_diversity=sgd_pos_diversity,\n",
    "            s_neg_diversity=sgd_neg_diversity, \\\n",
    "                bd_pos_bundle = sgd_pos_bundles, bd_neg_bundle = sgd_neg_bundles)"
   ]
  },
  {
   "cell_type": "code",
   "execution_count": 87,
   "metadata": {},
   "outputs": [
    {
     "name": "stderr",
     "output_type": "stream",
     "text": [
      "Current AUC mean (420000 samples): 0.93136ndspref1000\n"
     ]
    },
    {
     "data": {
      "text/plain": [
       "0.93135952380952391"
      ]
     },
     "execution_count": 87,
     "metadata": {},
     "output_type": "execute_result"
    }
   ],
   "source": [
    "bpr_bundle6.test_bundle(test_users, test_pos_items, test_neg_items, test_n1, test_n2,\\\n",
    "                       test_pos_diversity, test_neg_diversity)"
   ]
  },
  {
   "cell_type": "markdown",
   "metadata": {},
   "source": [
    "# generate_bundle"
   ]
  },
  {
   "cell_type": "code",
   "execution_count": 30,
   "metadata": {
    "collapsed": true
   },
   "outputs": [],
   "source": [
    "folder = '../data/new_data'\n",
    "user_item_map = pickle.load(open(folder + '/user_item_map.pkl','rb'))\n",
    "user_bundle_map = pickle.load(open(folder + '/user_bundle_map.pkl','rb'))\n",
    "items_set = set(pickle.load(open(folder + '/item_id_lookup.pkl','rb')).keys())"
   ]
  },
  {
   "cell_type": "code",
   "execution_count": 170,
   "metadata": {},
   "outputs": [],
   "source": [
    "item_pick_prob_arr = pickle.load(open('../data/new_data/item_pick_prob_arr.pkl', 'rb'))\n",
    "bundle_diversity_map = pickle.load(open('../data/new_data/bundle_diversity_map','rb'))"
   ]
  },
  {
   "cell_type": "code",
   "execution_count": 186,
   "metadata": {
    "collapsed": true
   },
   "outputs": [],
   "source": [
    "unbuy_items = pickle.load(open('../data/new_data/unbuy_items.pkl','rb'))"
   ]
  },
  {
   "cell_type": "code",
   "execution_count": 213,
   "metadata": {
    "collapsed": true
   },
   "outputs": [],
   "source": [
    "bpr_cold = bpr_bundle0"
   ]
  },
  {
   "cell_type": "code",
   "execution_count": 214,
   "metadata": {
    "collapsed": true
   },
   "outputs": [],
   "source": [
    "def generate_bundle(items_set, user, user_item_map, initial_size = 3, max_iteration = 1000, sample_size = 5):\n",
    "    #current_bundle = np.random.choice(list(items_set - user_item_map[user]), initial_size )\n",
    "    current_bundle = np.random.choice(range(len(item_pick_prob_arr)), initial_size , \n",
    "                                     p = item_pick_prob_arr)\n",
    "\n",
    "    T=1000.0\n",
    "    \n",
    "    iteration = 0\n",
    "    while iteration < max_iteration:\n",
    "        iteration+=1\n",
    "        Gamma = H_item\n",
    "        curr_diversity = compute_diversity(current_bundle, Gamma)\n",
    "        user_set=[]\n",
    "        pos_item_set=[]\n",
    "        actual_item_set=[]\n",
    "        neg_item_set=[]\n",
    "        pos_item_count=[]\n",
    "        neg_item_count=[]\n",
    "        pos_diversity=[]\n",
    "        neg_diversity=[]\n",
    "        pos_discount = []\n",
    "        neg_discount = []\n",
    "                \n",
    "#         candidate_items = set(np.random.choice(list(items_set - user_item_map[user]), sample_size))\n",
    " \n",
    "        if np.random.rand() < 0.5:\n",
    "            candidate_items = set(np.random.choice(range(len(item_pick_prob_arr)), sample_size, \n",
    "                                              p = item_pick_prob_arr))\n",
    "        else:\n",
    "            candidate_items = set(np.random.choice(list(unbuy_items), sample_size))\n",
    "        \n",
    "        for item in current_bundle:\n",
    "            if item in candidate_items:\n",
    "                candidate_items.remove(item)\n",
    "        \n",
    "        \n",
    "    \n",
    "        #Generating new bundles by adding and removing new items  \n",
    "        for cand_item in candidate_items:\n",
    "            #Add an item case\n",
    "            if len(current_bundle)<10:\n",
    "                user_set.append(user)    \n",
    "                neg_item_set.append(add_bogus_items(current_bundle , max_bundle_size, len(items_set)))\n",
    "                neg_item_count.append(len(current_bundle))\n",
    "                neg_diversity.append(curr_diversity)         \n",
    "                new_bundle=list(current_bundle)\n",
    "                new_bundle.append(cand_item)\n",
    "                pos_item_count.append(len(new_bundle))\n",
    "                pos_diversity.append(compute_diversity(new_bundle, Gamma))\n",
    "                actual_item_set.append(new_bundle)\n",
    "                pos_item_set.append(add_bogus_items(new_bundle , max_bundle_size, len(items_set)))\n",
    "                pos_discount.append(0)\n",
    "                neg_discount.append(0)\n",
    "                \n",
    "            # Replace an item case\n",
    "            for curr_item in current_bundle:\n",
    "                user_set.append(user)\n",
    "                \n",
    "                neg_item_set.append(add_bogus_items(current_bundle , max_bundle_size, len(items_set)))\n",
    "                neg_item_count.append(len(current_bundle))\n",
    "                neg_diversity.append(curr_diversity)\n",
    "                \n",
    "                new_bundle=list(current_bundle)\n",
    "                new_bundle.append(cand_item)\n",
    "                new_bundle.remove(curr_item)\n",
    "                pos_item_set.append(add_bogus_items(new_bundle , max_bundle_size, len(items_set)))\n",
    "                actual_item_set.append(new_bundle)\n",
    "                pos_item_count.append(len(new_bundle))\n",
    "                pos_diversity.append(compute_diversity(new_bundle, Gamma))\n",
    "                pos_discount.append(0)\n",
    "                neg_discount.append(0)\n",
    "         \n",
    "        \n",
    "        # Remove an item case\n",
    "        if len(current_bundle)>2:\n",
    "            for curr_item in current_bundle:\n",
    "                user_set.append(user)\n",
    "\n",
    "                neg_item_set.append(add_bogus_items(current_bundle , max_bundle_size, len(items_set)))\n",
    "                neg_item_count.append(len(current_bundle))\n",
    "                neg_diversity.append(curr_diversity)\n",
    "\n",
    "                new_bundle=list(current_bundle)\n",
    "                new_bundle.remove(curr_item)\n",
    "                actual_item_set.append(new_bundle)\n",
    "                pos_item_set.append(add_bogus_items(new_bundle , max_bundle_size, len(items_set)))\n",
    "                pos_item_count.append(len(new_bundle))\n",
    "                pos_diversity.append(compute_diversity(new_bundle, Gamma))\n",
    "                pos_discount.append(0)\n",
    "                neg_discount.append(0)\n",
    "        \n",
    "                \n",
    "#         pref_score = bpr_cold.test_model(user_set, pos_item_set, neg_item_set, pos_item_count, \n",
    "#                                     neg_item_count, pos_diversity, neg_diversity,\n",
    "#                                     pos_discount, neg_discount)\n",
    "        pref_score = bpr_cold.test_model(user_set, pos_item_set, neg_item_set, pos_item_count, \n",
    "                                    neg_item_count, pos_diversity, neg_diversity)\n",
    "                                    \n",
    "        #print pref_score, pos_item_count, neg_item_count\n",
    "        index = np.argmax(pref_score)\n",
    "        #print \"Pref Score \", pref_score[index]\n",
    "        if(pref_score[index]>0):\n",
    "            current_bundle = actual_item_set[index]\n",
    "        else:\n",
    "            prob = np.exp(pref_score[index]/T)\n",
    "            if prob < .00001:\n",
    "                break\n",
    "            if np.random.rand() < prob:\n",
    "                current_bundle = actual_item_set[index]\n",
    "        T=T*0.9\n",
    "#     print iteration\n",
    "    return current_bundle"
   ]
  },
  {
   "cell_type": "code",
   "execution_count": 215,
   "metadata": {
    "collapsed": true
   },
   "outputs": [],
   "source": [
    "def add_bogus_items(bundle, max_bundle_size, index):\n",
    "    item=list(bundle);\n",
    "    for i in range(len(item),max_bundle_size):\n",
    "        item.append(index)\n",
    "    return item\n",
    "\n",
    "def remove_bogus_items(bundle, max_bundle_size, index):\n",
    "    item=list(bundle);\n",
    "    i=0\n",
    "    while i< len(bundle):\n",
    "        if bundle[i]==index:\n",
    "            break\n",
    "        i+=1\n",
    "    return bundle[:i]\n",
    "\n",
    "def get_bundle_rank(user, new_bundle, bundle_item_map, bundle_diversity_map, Gamma):\n",
    "    user_set=[]\n",
    "    pos_item_set=[]\n",
    "    neg_item_set=[]\n",
    "    pos_item_count=[]\n",
    "    neg_item_count=[]\n",
    "    pos_diversity=[]\n",
    "    neg_diversity=[]\n",
    "    pos_discount = []\n",
    "    neg_discount = []\n",
    "    \n",
    "    bundle_diversity=compute_diversity(new_bundle, Gamma)\n",
    "    for bundle_id,bundle in bundle_item_map.items():\n",
    "        user_set.append(user)\n",
    "        pos_item_set.append(add_bogus_items(bundle, max_bundle_size, len(items_set)))\n",
    "        neg_item_set.append(add_bogus_items(new_bundle, max_bundle_size, len(items_set)))\n",
    "        pos_item_count.append(len(bundle))\n",
    "        neg_item_count.append(len(new_bundle))\n",
    "        pos_diversity.append(bundle_diversity_map[bundle_id])\n",
    "        neg_diversity.append(bundle_diversity)\n",
    "        pos_discount.append(0)\n",
    "        neg_discount.append(0)\n",
    "        \n",
    "#     pref_score = bpr_cold.test_model(user_set, pos_item_set, neg_item_set, pos_item_count, \n",
    "#                                     neg_item_count, pos_diversity, neg_diversity, \n",
    "#                                     pos_discount, neg_discount)\n",
    "    pref_score = bpr_cold.test_model(user_set, pos_item_set, neg_item_set, pos_item_count, \n",
    "                                    neg_item_count, pos_diversity, neg_diversity)\n",
    "    rank = np.sum([1.0 if p>0 else 0.0 for p in pref_score])\n",
    "    return rank"
   ]
  },
  {
   "cell_type": "code",
   "execution_count": null,
   "metadata": {
    "scrolled": false
   },
   "outputs": [
    {
     "name": "stdout",
     "output_type": "stream",
     "text": [
      "Rank of user 0 : 0, Size of bundle : 4, Bundles purchased : 6 Aggregate diversity: 4 Score: 1.000000, Average bundle size: 4.000000\n",
      "Rank of user 1 : 0, Size of bundle : 4, Bundles purchased : 15 Aggregate diversity: 8 Score: 1.000000, Average bundle size: 4.000000\n",
      "Rank of user 2 : 0, Size of bundle : 4, Bundles purchased : 1 Aggregate diversity: 12 Score: 1.000000, Average bundle size: 4.000000\n",
      "Rank of user 3 : 0, Size of bundle : 4, Bundles purchased : 7 Aggregate diversity: 16 Score: 1.000000, Average bundle size: 4.000000\n",
      "Rank of user 4 : 0, Size of bundle : 4, Bundles purchased : 8 Aggregate diversity: 20 Score: 1.000000, Average bundle size: 4.000000\n",
      "Rank of user 5 : 0, Size of bundle : 4, Bundles purchased : 5 Aggregate diversity: 24 Score: 1.000000, Average bundle size: 4.000000\n",
      "Rank of user 6 : 0, Size of bundle : 4, Bundles purchased : 4 Aggregate diversity: 28 Score: 1.000000, Average bundle size: 4.000000\n",
      "Rank of user 7 : 0, Size of bundle : 4, Bundles purchased : 3 Aggregate diversity: 32 Score: 1.000000, Average bundle size: 4.000000\n",
      "Rank of user 8 : 0, Size of bundle : 4, Bundles purchased : 7 Aggregate diversity: 36 Score: 1.000000, Average bundle size: 4.000000\n"
     ]
    },
    {
     "ename": "KeyboardInterrupt",
     "evalue": "",
     "output_type": "error",
     "traceback": [
      "\u001b[0;31m---------------------------------------------------------------------------\u001b[0m",
      "\u001b[0;31mKeyboardInterrupt\u001b[0m                         Traceback (most recent call last)",
      "\u001b[0;32m<ipython-input-218-d778588de6da>\u001b[0m in \u001b[0;36m<module>\u001b[0;34m()\u001b[0m\n\u001b[1;32m     11\u001b[0m     \u001b[0mk\u001b[0m \u001b[0;34m=\u001b[0m \u001b[0;36m0\u001b[0m\u001b[0;34m\u001b[0m\u001b[0m\n\u001b[1;32m     12\u001b[0m     \u001b[0;32mfor\u001b[0m \u001b[0muser\u001b[0m \u001b[0;32min\u001b[0m \u001b[0msorted\u001b[0m\u001b[0;34m(\u001b[0m\u001b[0muser_bundle_map\u001b[0m\u001b[0;34m.\u001b[0m\u001b[0mkeys\u001b[0m\u001b[0;34m(\u001b[0m\u001b[0;34m)\u001b[0m\u001b[0;34m)\u001b[0m\u001b[0;34m[\u001b[0m\u001b[0;34m:\u001b[0m\u001b[0mnum_people\u001b[0m\u001b[0;34m]\u001b[0m\u001b[0;34m:\u001b[0m\u001b[0;34m\u001b[0m\u001b[0m\n\u001b[0;32m---> 13\u001b[0;31m         \u001b[0mnew_bundle\u001b[0m \u001b[0;34m=\u001b[0m \u001b[0mgenerate_bundle\u001b[0m\u001b[0;34m(\u001b[0m\u001b[0mitems_set\u001b[0m\u001b[0;34m,\u001b[0m \u001b[0muser\u001b[0m\u001b[0;34m,\u001b[0m \u001b[0muser_item_map\u001b[0m\u001b[0;34m,\u001b[0m \u001b[0;36m4\u001b[0m\u001b[0;34m,\u001b[0m \u001b[0;36m1000\u001b[0m\u001b[0;34m,\u001b[0m\u001b[0msize\u001b[0m\u001b[0;34m)\u001b[0m\u001b[0;34m\u001b[0m\u001b[0m\n\u001b[0m\u001b[1;32m     14\u001b[0m         \u001b[0mrank\u001b[0m \u001b[0;34m=\u001b[0m \u001b[0mget_bundle_rank\u001b[0m\u001b[0;34m(\u001b[0m\u001b[0muser\u001b[0m\u001b[0;34m,\u001b[0m \u001b[0mnew_bundle\u001b[0m\u001b[0;34m,\u001b[0m \u001b[0mbundle_item_map\u001b[0m\u001b[0;34m,\u001b[0m \u001b[0mbundle_diversity_map\u001b[0m\u001b[0;34m,\u001b[0m \u001b[0mH_item\u001b[0m\u001b[0;34m)\u001b[0m\u001b[0;34m\u001b[0m\u001b[0m\n\u001b[1;32m     15\u001b[0m         \u001b[0mpurchased_bundles\u001b[0m \u001b[0;34m=\u001b[0m \u001b[0mlen\u001b[0m\u001b[0;34m(\u001b[0m\u001b[0muser_bundle_map\u001b[0m\u001b[0;34m[\u001b[0m\u001b[0muser\u001b[0m\u001b[0;34m]\u001b[0m\u001b[0;34m)\u001b[0m\u001b[0;34m\u001b[0m\u001b[0m\n",
      "\u001b[0;32m<ipython-input-214-47ae79f9e955>\u001b[0m in \u001b[0;36mgenerate_bundle\u001b[0;34m(items_set, user, user_item_map, initial_size, max_iteration, sample_size)\u001b[0m\n\u001b[1;32m     67\u001b[0m                 \u001b[0mactual_item_set\u001b[0m\u001b[0;34m.\u001b[0m\u001b[0mappend\u001b[0m\u001b[0;34m(\u001b[0m\u001b[0mnew_bundle\u001b[0m\u001b[0;34m)\u001b[0m\u001b[0;34m\u001b[0m\u001b[0m\n\u001b[1;32m     68\u001b[0m                 \u001b[0mpos_item_count\u001b[0m\u001b[0;34m.\u001b[0m\u001b[0mappend\u001b[0m\u001b[0;34m(\u001b[0m\u001b[0mlen\u001b[0m\u001b[0;34m(\u001b[0m\u001b[0mnew_bundle\u001b[0m\u001b[0;34m)\u001b[0m\u001b[0;34m)\u001b[0m\u001b[0;34m\u001b[0m\u001b[0m\n\u001b[0;32m---> 69\u001b[0;31m                 \u001b[0mpos_diversity\u001b[0m\u001b[0;34m.\u001b[0m\u001b[0mappend\u001b[0m\u001b[0;34m(\u001b[0m\u001b[0mcompute_diversity\u001b[0m\u001b[0;34m(\u001b[0m\u001b[0mnew_bundle\u001b[0m\u001b[0;34m,\u001b[0m \u001b[0mGamma\u001b[0m\u001b[0;34m)\u001b[0m\u001b[0;34m)\u001b[0m\u001b[0;34m\u001b[0m\u001b[0m\n\u001b[0m\u001b[1;32m     70\u001b[0m                 \u001b[0mpos_discount\u001b[0m\u001b[0;34m.\u001b[0m\u001b[0mappend\u001b[0m\u001b[0;34m(\u001b[0m\u001b[0;36m0\u001b[0m\u001b[0;34m)\u001b[0m\u001b[0;34m\u001b[0m\u001b[0m\n\u001b[1;32m     71\u001b[0m                 \u001b[0mneg_discount\u001b[0m\u001b[0;34m.\u001b[0m\u001b[0mappend\u001b[0m\u001b[0;34m(\u001b[0m\u001b[0;36m0\u001b[0m\u001b[0;34m)\u001b[0m\u001b[0;34m\u001b[0m\u001b[0m\n",
      "\u001b[0;32m<ipython-input-34-41dbe76fef14>\u001b[0m in \u001b[0;36mcompute_diversity\u001b[0;34m(app_data, H)\u001b[0m\n\u001b[1;32m     31\u001b[0m \u001b[0;32mdef\u001b[0m \u001b[0mcompute_diversity\u001b[0m\u001b[0;34m(\u001b[0m\u001b[0mapp_data\u001b[0m\u001b[0;34m,\u001b[0m \u001b[0mH\u001b[0m\u001b[0;34m)\u001b[0m\u001b[0;34m:\u001b[0m\u001b[0;34m\u001b[0m\u001b[0m\n\u001b[1;32m     32\u001b[0m     \u001b[0;32mif\u001b[0m \u001b[0mH\u001b[0m \u001b[0;32mis\u001b[0m \u001b[0;32mnot\u001b[0m \u001b[0mNone\u001b[0m\u001b[0;34m:\u001b[0m\u001b[0;34m\u001b[0m\u001b[0m\n\u001b[0;32m---> 33\u001b[0;31m         \u001b[0;32mreturn\u001b[0m \u001b[0mcompute_diversity_latent\u001b[0m\u001b[0;34m(\u001b[0m\u001b[0mapp_data\u001b[0m\u001b[0;34m,\u001b[0m \u001b[0mH\u001b[0m\u001b[0;34m)\u001b[0m\u001b[0;34m\u001b[0m\u001b[0m\n\u001b[0m\u001b[1;32m     34\u001b[0m     \u001b[0;32melse\u001b[0m \u001b[0;34m:\u001b[0m\u001b[0;34m\u001b[0m\u001b[0m\n\u001b[1;32m     35\u001b[0m         \u001b[0;32mreturn\u001b[0m \u001b[0mcompute_diversity_tags\u001b[0m\u001b[0;34m(\u001b[0m\u001b[0mapp_data\u001b[0m\u001b[0;34m)\u001b[0m\u001b[0;34m\u001b[0m\u001b[0m\n",
      "\u001b[0;32m<ipython-input-34-41dbe76fef14>\u001b[0m in \u001b[0;36mcompute_diversity_latent\u001b[0;34m(items, H)\u001b[0m\n\u001b[1;32m     23\u001b[0m                     \u001b[0mitemID1\u001b[0m\u001b[0;34m,\u001b[0m \u001b[0mitemID2\u001b[0m \u001b[0;34m=\u001b[0m \u001b[0mitems\u001b[0m\u001b[0;34m[\u001b[0m\u001b[0mi\u001b[0m\u001b[0;34m]\u001b[0m\u001b[0;34m,\u001b[0m \u001b[0mitems\u001b[0m\u001b[0;34m[\u001b[0m\u001b[0mj\u001b[0m\u001b[0;34m]\u001b[0m\u001b[0;34m\u001b[0m\u001b[0m\n\u001b[1;32m     24\u001b[0m                     \u001b[0mcount\u001b[0m\u001b[0;34m+=\u001b[0m\u001b[0;36m1\u001b[0m\u001b[0;34m\u001b[0m\u001b[0m\n\u001b[0;32m---> 25\u001b[0;31m                     \u001b[0msimilarity\u001b[0m\u001b[0;34m+=\u001b[0m\u001b[0mcosine_similarity\u001b[0m\u001b[0;34m(\u001b[0m\u001b[0mH\u001b[0m\u001b[0;34m[\u001b[0m\u001b[0mitemID1\u001b[0m\u001b[0;34m]\u001b[0m\u001b[0;34m.\u001b[0m\u001b[0mreshape\u001b[0m\u001b[0;34m(\u001b[0m\u001b[0;36m1\u001b[0m\u001b[0;34m,\u001b[0m\u001b[0;34m-\u001b[0m\u001b[0;36m1\u001b[0m\u001b[0;34m)\u001b[0m\u001b[0;34m,\u001b[0m\u001b[0mH\u001b[0m\u001b[0;34m[\u001b[0m\u001b[0mitemID2\u001b[0m\u001b[0;34m]\u001b[0m\u001b[0;34m.\u001b[0m\u001b[0mreshape\u001b[0m\u001b[0;34m(\u001b[0m\u001b[0;36m1\u001b[0m\u001b[0;34m,\u001b[0m\u001b[0;34m-\u001b[0m\u001b[0;36m1\u001b[0m\u001b[0;34m)\u001b[0m\u001b[0;34m)\u001b[0m\u001b[0;34m[\u001b[0m\u001b[0;36m0\u001b[0m\u001b[0;34m,\u001b[0m\u001b[0;36m0\u001b[0m\u001b[0;34m]\u001b[0m\u001b[0;34m\u001b[0m\u001b[0m\n\u001b[0m\u001b[1;32m     26\u001b[0m     \u001b[0;32mif\u001b[0m \u001b[0mcount\u001b[0m\u001b[0;34m>\u001b[0m\u001b[0;36m0\u001b[0m\u001b[0;34m:\u001b[0m\u001b[0;34m\u001b[0m\u001b[0m\n\u001b[1;32m     27\u001b[0m         \u001b[0;32mreturn\u001b[0m \u001b[0;36m1\u001b[0m\u001b[0;34m-\u001b[0m\u001b[0;34m(\u001b[0m\u001b[0msimilarity\u001b[0m\u001b[0;34m/\u001b[0m\u001b[0mcount\u001b[0m\u001b[0;34m)\u001b[0m\u001b[0;34m\u001b[0m\u001b[0m\n",
      "\u001b[0;31mKeyboardInterrupt\u001b[0m: "
     ]
    }
   ],
   "source": [
    "sizes=[10]\n",
    "diversities=[]\n",
    "scores=[]\n",
    "bundle_sizes=[]\n",
    "num_people = 100\n",
    "for size in sizes:\n",
    "    aggregate_diversity=set()\n",
    "    pred_score=[]\n",
    "    b_size=[]\n",
    "    generated_bundles=[]\n",
    "    k = 0\n",
    "    for user in sorted(user_bundle_map.keys())[:num_people]:\n",
    "        new_bundle = generate_bundle(items_set, user, user_item_map, 4, 1000,size)\n",
    "        rank = get_bundle_rank(user, new_bundle, bundle_item_map, bundle_diversity_map, H_item)\n",
    "        purchased_bundles = len(user_bundle_map[user])\n",
    "        aggregate_diversity=aggregate_diversity.union(set(new_bundle))\n",
    "        generated_bundles.append(new_bundle)\n",
    "        pred_score.append(rank)\n",
    "        b_size.append(len(new_bundle)*1.0)\n",
    "        k += 1\n",
    "        if k < 10:\n",
    "            print 'Rank of user %d : %d, Size of bundle : %d, Bundles purchased : %d Aggregate diversity: %d Score: %f, Average bundle size: %f' %(user, \n",
    "                                                                                     rank, \n",
    "                                                                                     len(new_bundle),                                 \n",
    "                                                                                     purchased_bundles,\n",
    "                                                                                     len(aggregate_diversity),\n",
    "                                                                                     1.0+np.mean(pred_score),\n",
    "                                                                                     np.mean(b_size))\n",
    "    diversities.append(len(aggregate_diversity))\n",
    "    scores.append(1.0+np.mean(pred_score))\n",
    "    bundle_sizes.append(np.mean(b_size)*num_people)\n",
    "    print 'result......'\n",
    "    print 'diversities', diversities\n",
    "    print 'scores', scores\n",
    "    print 'bundle_sizes', bundle_sizes"
   ]
  },
  {
   "cell_type": "code",
   "execution_count": 163,
   "metadata": {},
   "outputs": [
    {
     "name": "stdout",
     "output_type": "stream",
     "text": [
      "[63]\n",
      "[2.2199999999999998]\n"
     ]
    }
   ],
   "source": [
    "# random pick items\n",
    "# diversities [67]\n",
    "# scores [2.1600000000000001]\n",
    "# bundle_sizes [200.0]"
   ]
  },
  {
   "cell_type": "code",
   "execution_count": 168,
   "metadata": {},
   "outputs": [
    {
     "name": "stdout",
     "output_type": "stream",
     "text": [
      "[0, 1, 2, 3, 4, 5, 6, 7, 8, 9]\n"
     ]
    }
   ],
   "source": [
    "# random pick unused items\n",
    "# diversities [61]\n",
    "# scores [1.9399999999999999]\n",
    "# bundle_sizes [200.0]"
   ]
  },
  {
   "cell_type": "code",
   "execution_count": 169,
   "metadata": {},
   "outputs": [
    {
     "name": "stdout",
     "output_type": "stream",
     "text": [
      "0\n"
     ]
    }
   ],
   "source": [
    "# diversities [231]\n",
    "# scores [1.3500000000000001]\n",
    "# bundle_sizes [554.0]"
   ]
  },
  {
   "cell_type": "code",
   "execution_count": null,
   "metadata": {
    "collapsed": true
   },
   "outputs": [],
   "source": [
    "# diversities [231]\n",
    "# scores [1.3599999999999999]\n",
    "# bundle_sizes [532.0]"
   ]
  },
  {
   "cell_type": "code",
   "execution_count": 199,
   "metadata": {},
   "outputs": [],
   "source": [
    "items = set()\n",
    "for item in generated_bundles:\n",
    "    for x in item :\n",
    "        items.add(x)"
   ]
  },
  {
   "cell_type": "code",
   "execution_count": 207,
   "metadata": {},
   "outputs": [
    {
     "name": "stdout",
     "output_type": "stream",
     "text": [
      "130\n",
      "231\n",
      "101\n",
      "1271\n"
     ]
    }
   ],
   "source": [
    "print len(items - unbuy_items)\n",
    "print len(items)\n",
    "print len(unbuy_items & items)\n",
    "print len(unbuy_items)"
   ]
  },
  {
   "cell_type": "code",
   "execution_count": 209,
   "metadata": {
    "collapsed": true
   },
   "outputs": [],
   "source": [
    "class BPR_Buncle0(object):\n",
    "\n",
    "    def __init__(self, rank, bundle_size, n_users, n_items, lambda_u = 0.0025, lambda_i = 0.0025, lambda_j = 0.00025, lambda_d = 0.0025, lambda_p = 0.00025, lambda_bias = 0.0, learning_rate = 0.05):\n",
    "        \n",
    "        self._rank = rank\n",
    "        self._bundle_rank = bundle_size + 1\n",
    "        self._n_users = n_users\n",
    "        self._n_items = n_items\n",
    "        self._lambda_u = lambda_u\n",
    "        self._lambda_i = lambda_i\n",
    "        self._lambda_j = lambda_j\n",
    "        self._lambda_d = lambda_d\n",
    "        self._lambda_p = lambda_p\n",
    "        self._lambda_bias = lambda_bias\n",
    "        self._learning_rate = learning_rate\n",
    "        self._configure_theano()\n",
    "        self._generate_train_model_item_function()\n",
    "        self._generate_test_model_function()\n",
    "\n",
    "    def _configure_theano(self):\n",
    "        theano.config.mode = 'FAST_RUN'\n",
    "        theano.config.floatX = 'float32'\n",
    "    \n",
    "    def _generate_train_model_item_function(self):\n",
    "        u = T.lvector('u')\n",
    "        i = T.lmatrix('i')\n",
    "        j = T.lmatrix('j')\n",
    "        n1 = T.lvector('n1')\n",
    "        n2 = T.lvector('n2')\n",
    "        di = T.dvector('di')\n",
    "        dj = T.dvector('dj')\n",
    "        \n",
    "        self.W1 = bpr_item.W\n",
    "        self.H1 = theano.shared(H_item.astype('float32'), name='H')\n",
    "        self.B1 = theano.shared(B_item.astype('float32'), name='B')\n",
    "        \n",
    "        \n",
    "        self.M1 = theano.shared(numpy.random.random((self._rank, self._rank)).astype('float64'), name='M1')\n",
    "        self.M2 = theano.shared(numpy.random.random((self._rank, self._rank)).astype('float64'), name='M2')\n",
    "        self.K = theano.shared(numpy.random.rand(), name='K')\n",
    "        self.D = theano.shared(numpy.random.rand(), name='D')\n",
    "        self.N = theano.shared(numpy.random.random(self._bundle_rank).astype('float32'), name='N')\n",
    "        \n",
    "        x_ui = T.dot(T.dot(self.W1[u],self.M2), T.dot(self.M1, self.H1[i].sum(axis=1).T/n1)).diagonal() + self.K*(self.B1[i].T/n1).T.sum(axis=1) + self.N[n1] + self.D*di\n",
    "        x_uj = T.dot(T.dot(self.W1[u],self.M2), T.dot(self.M1, self.H1[j].sum(axis=1).T/n2)).diagonal() + self.K*(self.B1[j].T/n2).T.sum(axis=1) + self.N[n2] + self.D*dj\n",
    "        \n",
    "        x_uij = T.nnet.sigmoid(x_ui-x_uj)\n",
    "        obj = T.sum(T.log(x_uij) - self._lambda_u * (self.M1 ** 2).sum() - \\\n",
    "                    self._lambda_u * (self.M2 ** 2).sum()  - self._lambda_d * (self.K**2) - self._lambda_d * (self.D**2)\\\n",
    "                    -self._lambda_p * (self.N[n2]**2) - self._lambda_p * (self.N[n1]**2))\n",
    "        cost = - obj\n",
    "\n",
    "        g_cost_M1 = T.grad(cost=cost, wrt=self.M1)\n",
    "        g_cost_M2 = T.grad(cost=cost, wrt=self.M2)\n",
    "        g_cost_K = T.grad(cost=cost, wrt=self.K)\n",
    "        g_cost_N = T.grad(cost=cost, wrt=self.N)\n",
    "        g_cost_D = T.grad(cost=cost, wrt=self.D)\n",
    "        \n",
    "        updates = [(self.M1, self.M1 - self._learning_rate * .001* g_cost_M1), (self.M2, self.M2 - self._learning_rate *.001* g_cost_M2), \n",
    "                   (self.K, self.K - self._learning_rate * .001*g_cost_K), (self.N, self.N - self._learning_rate *g_cost_N),\n",
    "                  (self.D, self.D - self._learning_rate * g_cost_D)]\n",
    "\n",
    "        self.train_model_item = theano.function(inputs=[u, i, j, n1, n2, di, dj], outputs=cost, updates=updates)\n",
    "\n",
    "    \n",
    "    def train(self, s_users=None, s_pos_items=None, s_neg_items=None, s_pos_len=None, s_neg_len=None,\n",
    "             s_pos_diversity=None, s_neg_diversity=None,batch_size=1000):\n",
    "        \n",
    "        if len(s_users) < batch_size:\n",
    "            sys.stderr.write(\"WARNING: Batch size is greater than number of training samples, switching to a batch size of %s\\n\" % str(len(train_data)))\n",
    "            batch_size = len(s_users)\n",
    "        \n",
    "        sgd_users, sgd_pos_items, sgd_neg_items = s_users, s_pos_items, s_neg_items\n",
    "        n_sgd_samples = len(s_users)\n",
    "\n",
    "        z = 0\n",
    "        t2 = t1 = t0 = time.time()\n",
    "        while (z+1)*batch_size < n_sgd_samples:\n",
    "            \n",
    "            self.train_model_item(\n",
    "                sgd_users[z*batch_size: (z+1)*batch_size],\n",
    "                sgd_pos_items[z*batch_size: (z+1)*batch_size],\n",
    "                sgd_neg_items[z*batch_size: (z+1)*batch_size],\n",
    "                s_pos_len[z*batch_size: (z+1)*batch_size],\n",
    "                s_neg_len[z*batch_size: (z+1)*batch_size],\n",
    "                s_pos_diversity[z*batch_size: (z+1)*batch_size],\n",
    "                s_neg_diversity[z*batch_size: (z+1)*batch_size],\n",
    "            )\n",
    "            z += 1\n",
    "            t2 = time.time()\n",
    "            sys.stderr.write(\"\\rProcessed %s ( %.2f%% ) in %.4f seconds\" %(str(z*batch_size), 100.0 * float(z*batch_size)/n_sgd_samples, t2 - t1))\n",
    "            sys.stderr.flush()\n",
    "            t1 = t2\n",
    "        if n_sgd_samples > 0:\n",
    "            sys.stderr.write(\"\\nTotal training time %.2f seconds; %e per sample\\n\" % (t2 - t0, (t2 - t0)/n_sgd_samples))\n",
    "            sys.stderr.flush()\n",
    "    \n",
    "    def _generate_test_model_function(self):\n",
    "        u = T.lvector('u')\n",
    "        i = T.lmatrix('i')\n",
    "        j = T.lmatrix('j')\n",
    "        n1 = T.lvector('n1')\n",
    "        n2 = T.lvector('n2')\n",
    "        di = T.dvector('di')\n",
    "        dj = T.dvector('dj')\n",
    "        \n",
    "        x_ui = T.dot(T.dot(self.W1[u],self.M2), T.dot(self.M1, self.H1[i].sum(axis=1).T/n1)).diagonal() + self.K*(self.B1[i].T/n1).T.sum(axis=1) + self.N[n1] + self.D*di\n",
    "        x_uj = T.dot(T.dot(self.W1[u],self.M2), T.dot(self.M1, self.H1[j].sum(axis=1).T/n2)).diagonal() + self.K*(self.B1[j].T/n2).T.sum(axis=1) + self.N[n2] + self.D*dj \n",
    "        \n",
    "        x_uij = x_ui-x_uj\n",
    "        self.test_model = theano.function(inputs=[u, i, j, n1, n2, di, dj], outputs=x_uij)\n",
    "        \n",
    "    def test_bundle(self, sgd_users, sgd_pos_items, sgd_neg_items, s_pos_len, s_neg_len, s_pos_diversity, s_neg_diversity, batch_size=1000):\n",
    "        \n",
    "        auc_values = []\n",
    "        z = 0\n",
    "        t2 = t1 = t0 = time.time()\n",
    "        n_sgd_samples = len(sgd_users)\n",
    "        while (z+1)*batch_size < n_sgd_samples:\n",
    "            pref_list=self.test_model(\n",
    "                sgd_users[z*batch_size: (z+1)*batch_size],\n",
    "                sgd_pos_items[z*batch_size: (z+1)*batch_size],\n",
    "                sgd_neg_items[z*batch_size: (z+1)*batch_size],\n",
    "                s_pos_len[z*batch_size: (z+1)*batch_size],\n",
    "                s_neg_len[z*batch_size: (z+1)*batch_size],\n",
    "                s_pos_diversity[z*batch_size: (z+1)*batch_size],\n",
    "                s_neg_diversity[z*batch_size: (z+1)*batch_size]\n",
    "            )\n",
    "            z += 1\n",
    "            t2 = time.time()\n",
    "            sys.stderr.write(\"\\rProcessed %s ( %.2f%% ) in %.4f seconds\" %(str(z*batch_size), 100.0 * float(z*batch_size)/n_sgd_samples, t2 - t1))\n",
    "            t1 = t2\n",
    "            \n",
    "            auc = np.sum([1.0 if a>0.0 else 0.0 for a in pref_list])\n",
    "            auc /= batch_size\n",
    "            \n",
    "            auc_values.append(auc)\n",
    "            sys.stderr.write(\"\\rCurrent AUC mean (%s samples): %0.5f\" % (str(z*batch_size), numpy.mean(auc_values)))\n",
    "            sys.stderr.flush()\n",
    "        \n",
    "        sys.stderr.write(\"\\n\")\n",
    "        sys.stderr.flush()\n",
    "        return numpy.mean(auc_values)"
   ]
  },
  {
   "cell_type": "code",
   "execution_count": null,
   "metadata": {
    "collapsed": true
   },
   "outputs": [],
   "source": [
    "bpr_bundle0 = BPR_Buncle0(10, max_bundle_size, num_users, num_items)"
   ]
  },
  {
   "cell_type": "code",
   "execution_count": null,
   "metadata": {},
   "outputs": [],
   "source": [
    "bpr_bundle0.train(s_users=sgd_users, s_pos_items=sgd_pos_items, s_neg_items=sgd_neg_items, \n",
    "            s_pos_len=sgd_pos_len, s_neg_len=sgd_neg_len, s_pos_diversity=sgd_pos_diversity,\n",
    "            s_neg_diversity=sgd_neg_diversity)"
   ]
  },
  {
   "cell_type": "code",
   "execution_count": null,
   "metadata": {
    "collapsed": true
   },
   "outputs": [],
   "source": []
  }
 ],
 "metadata": {
  "anaconda-cloud": {},
  "kernelspec": {
   "display_name": "Python [conda env:py2]",
   "language": "python",
   "name": "conda-env-py2-py"
  },
  "language_info": {
   "codemirror_mode": {
    "name": "ipython",
    "version": 2
   },
   "file_extension": ".py",
   "mimetype": "text/x-python",
   "name": "python",
   "nbconvert_exporter": "python",
   "pygments_lexer": "ipython2",
   "version": "2.7.13"
  }
 },
 "nbformat": 4,
 "nbformat_minor": 2
}
