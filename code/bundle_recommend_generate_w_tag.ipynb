{
 "cells": [
  {
   "cell_type": "code",
   "execution_count": 1,
   "metadata": {
    "collapsed": false,
    "scrolled": false
   },
   "outputs": [],
   "source": [
    "import pickle\n",
    "import sys\n",
    "import json\n",
    "import matplotlib.pyplot as plt\n",
    "import numpy as np\n",
    "from collections import defaultdict\n",
    "import os\n",
    "import cPickle\n",
    "%matplotlib inline"
   ]
  },
  {
   "cell_type": "code",
   "execution_count": 66,
   "metadata": {
    "collapsed": false,
    "scrolled": true
   },
   "outputs": [],
   "source": [
    "items_set=pickle.load(open('processed_data/items_set.pkl','rb')) \n",
    "bundle_item_map=pickle.load(open('processed_data/bundle_item_map.pkl','rb')) \n",
    "user_bundle_map=pickle.load(open('processed_data/user_bundle_map.pkl','rb')) \n",
    "user_item_map=pickle.load(open('processed_data/user_item_map.pkl','rb'))\n"
   ]
  },
  {
   "cell_type": "code",
   "execution_count": 104,
   "metadata": {
    "collapsed": false
   },
   "outputs": [],
   "source": [
    "bundle_discount_percentage_map=pickle.load(open('processed_data/bundle_discount_percentage_map.pkl','rb'))"
   ]
  },
  {
   "cell_type": "code",
   "execution_count": 105,
   "metadata": {
    "collapsed": false
   },
   "outputs": [],
   "source": [
    "bundle_discount_array = [bundle_discount_percentage_map[i] for i in range(len(bundle_discount_percentage_map))]"
   ]
  },
  {
   "cell_type": "code",
   "execution_count": 4,
   "metadata": {
    "collapsed": true
   },
   "outputs": [],
   "source": [
    "user_item=json.load(open('../../australia_users_items.json'))"
   ]
  },
  {
   "cell_type": "code",
   "execution_count": 5,
   "metadata": {
    "collapsed": false
   },
   "outputs": [],
   "source": [
    "user_id_lookup = pickle.load(open('processed_data/user_id_lookup.pkl','rb'))\n",
    "item_id_lookup = pickle.load(open('processed_data/item_id_lookup.pkl','rb'))\n"
   ]
  },
  {
   "cell_type": "code",
   "execution_count": 6,
   "metadata": {
    "collapsed": true
   },
   "outputs": [],
   "source": [
    "id_user_lookup = dict()\n",
    "id_item_lookup = dict()\n",
    "for i in range(len(user_id_lookup)):\n",
    "    id_user_lookup[user_id_lookup[i]] = i\n",
    "for i in range(len(item_id_lookup)):\n",
    "    id_item_lookup[item_id_lookup[i]] = i\n",
    "    "
   ]
  },
  {
   "cell_type": "code",
   "execution_count": 7,
   "metadata": {
    "collapsed": false
   },
   "outputs": [],
   "source": [
    "user_item_played = np.zeros((len(user_item_map.keys()),len(items_set)))\n",
    "for lines in user_item:\n",
    "    user_id = lines['user_id']\n",
    "    if user_id in id_user_lookup:\n",
    "        user_index = id_user_lookup[user_id]\n",
    "        for items in lines['items']:\n",
    "            item_id = int(items['item_id'])\n",
    "            if item_id in id_item_lookup:\n",
    "                item_index = id_item_lookup[item_id]\n",
    "                if item_index in items_set:\n",
    "                    playtime = items['playtime_forever']\n",
    "                    user_item_played[user_index][item_index] = int(playtime)       "
   ]
  },
  {
   "cell_type": "code",
   "execution_count": 8,
   "metadata": {
    "collapsed": true
   },
   "outputs": [],
   "source": [
    "user_total_playtime = user_item_played.sum(axis=1)\n",
    "user_item_played_percentage = np.zeros((len(user_item_map.keys()),len(items_set)),dtype=np.float)\n",
    "for i in range(len(user_item_map.keys())):\n",
    "    if user_total_playtime[i] != 0:\n",
    "        for j in range(len(items_set)):\n",
    "            user_item_played_percentage[i][j] = float(user_item_played[i][j]) / user_total_playtime[i]"
   ]
  },
  {
   "cell_type": "code",
   "execution_count": 9,
   "metadata": {
    "collapsed": true
   },
   "outputs": [],
   "source": [
    "item_data=pickle.load(open('processed_data/all_item_data.pkl','rb'))"
   ]
  },
  {
   "cell_type": "code",
   "execution_count": 10,
   "metadata": {
    "collapsed": false
   },
   "outputs": [
    {
     "name": "stdout",
     "output_type": "stream",
     "text": [
      "(2515, 327)\n"
     ]
    }
   ],
   "source": [
    "item_data_map=dict() #appid, item\n",
    "tags_set=set()\n",
    "for item in item_data:\n",
    "    item_data_map[int(item['item_id'])]=item\n",
    "    for tag in item['genre']:\n",
    "        tags_set.add(tag)\n",
    "tags_map=dict()\n",
    "for i,tag in enumerate(tags_set):\n",
    "    tags_map[tag]=i \n",
    "    \n",
    "def get_feat(tags):\n",
    "    feat=np.zeros(len(tags_map))\n",
    "    for tag in tags:\n",
    "        feat[tags_map[tag]]=1\n",
    "    return feat\n",
    "    \n",
    "def get_item_data_map_id(index):\n",
    "    id = item_id_lookup[index]\n",
    "    for i in range(0,len(item_data)-1):\n",
    "        if item_data[i]['item_id'] == id:\n",
    "            return i\n",
    "            \n",
    "sgd_tags = np.array([get_feat(item_data[get_item_data_map_id(i)]['genre']) for i in items_set])\n",
    "print(sgd_tags.shape)"
   ]
  },
  {
   "cell_type": "code",
   "execution_count": 11,
   "metadata": {
    "collapsed": true
   },
   "outputs": [],
   "source": [
    "user_genre_played_percentage = np.dot(user_item_played_percentage,sgd_tags)\n",
    "cPickle.dump(user_genre_played_percentage, open('processed_data/user_genre_played_percentage.pkl','w'))"
   ]
  },
  {
   "cell_type": "code",
   "execution_count": null,
   "metadata": {
    "collapsed": true
   },
   "outputs": [],
   "source": [
    "user_genre_played_percentage = pickle.load(open('processed_data/user_genre_played_percentage.pkl','rb'))"
   ]
  },
  {
   "cell_type": "code",
   "execution_count": 12,
   "metadata": {
    "collapsed": false,
    "scrolled": false
   },
   "outputs": [],
   "source": [
    "all_data=[] #user,bundle pairs\n",
    "\n",
    "for user,bundles in user_bundle_map.items():\n",
    "    for bundle in bundles:\n",
    "        all_data.append((user,bundle))\n",
    "        \n",
    "all_item_data=[]\n",
    "for user,items in user_item_map.items():\n",
    "    for item in items:\n",
    "        all_item_data.append((user,item))"
   ]
  },
  {
   "cell_type": "code",
   "execution_count": 13,
   "metadata": {
    "collapsed": false,
    "scrolled": false
   },
   "outputs": [],
   "source": [
    "import random\n",
    "random.shuffle(all_data)\n",
    "random.shuffle(all_item_data)"
   ]
  },
  {
   "cell_type": "code",
   "execution_count": 14,
   "metadata": {
    "collapsed": true
   },
   "outputs": [],
   "source": [
    "cPickle.dump(all_data, open('all_data.pkl','w'))\n",
    "cPickle.dump(all_item_data,open('all_item_data.pkl','w'))"
   ]
  },
  {
   "cell_type": "code",
   "execution_count": null,
   "metadata": {
    "collapsed": true
   },
   "outputs": [],
   "source": [
    "all_data = cPickle.load(open('all_data.pkl'))\n",
    "all_item_data = cPickle.load(open('all_item_data.pkl'))"
   ]
  },
  {
   "cell_type": "code",
   "execution_count": 15,
   "metadata": {
    "collapsed": true
   },
   "outputs": [],
   "source": [
    "data_size=len(all_data)\n",
    "\n",
    "# Training data for bundle for bpr model\n",
    "training_data=all_data[:int(0.8*data_size)]\n",
    "test_data=all_data[int(0.8*data_size):]\n",
    "\n",
    "# Training data for items for bpr_item model\n",
    "training_data_2=all_item_data[:int(0.8*len(all_item_data))]\n",
    "test_data_2=all_item_data[int(0.8*len(all_item_data)):]"
   ]
  },
  {
   "cell_type": "code",
   "execution_count": 16,
   "metadata": {
    "collapsed": true,
    "scrolled": false
   },
   "outputs": [],
   "source": [
    "#if user1's item/bundle is not in user2's bundle map, and user2's item/bundle is not in user1's\n",
    "def check_tuple(tuple_1, tuple_2, user_bundle_map):\n",
    "    return tuple_1[1] not in user_bundle_map[tuple_2[0]] and tuple_2[1] not in user_bundle_map[tuple_1[0]]\n",
    "\n",
    "#negative items and bundles follow the same degree distribution\n",
    "def graph_sampling(n_samples, training_data, user_bundle_map):\n",
    "    sgd_users=[]\n",
    "    sgd_pos_items, sgd_neg_items = [], []\n",
    "    i=0\n",
    "    while n_samples>0:\n",
    "        if i%100000==0:\n",
    "            print i\n",
    "        i+=1\n",
    "        tuple_1=training_data[np.random.randint(len(training_data))]\n",
    "        tuple_2=training_data[np.random.randint(len(training_data))]\n",
    "        iteration=100\n",
    "        while not check_tuple(tuple_1, tuple_2, user_bundle_map):\n",
    "            tuple_2=training_data[np.random.randint(len(training_data))]\n",
    "            iteration-=1\n",
    "            if iteration == 0:\n",
    "                break\n",
    "        if iteration==0:\n",
    "            continue   \n",
    "        sgd_neg_items.append(tuple_2[1])\n",
    "        sgd_pos_items.append(tuple_1[1])\n",
    "        sgd_users.append(tuple_1[0])\n",
    "        \n",
    "        sgd_neg_items.append(tuple_1[1])\n",
    "        sgd_pos_items.append(tuple_2[1])\n",
    "        sgd_users.append(tuple_2[0])\n",
    "        n_samples-=2\n",
    "    return sgd_users, sgd_pos_items, sgd_neg_items"
   ]
  },
  {
   "cell_type": "code",
   "execution_count": 17,
   "metadata": {
    "collapsed": false,
    "scrolled": true
   },
   "outputs": [
    {
     "name": "stdout",
     "output_type": "stream",
     "text": [
      "0\n",
      "100000\n",
      "200000\n",
      "300000\n",
      "400000\n",
      "500000\n",
      "600000\n",
      "700000\n",
      "800000\n",
      "900000\n",
      "1000000\n",
      "1100000\n",
      "1200000\n",
      "1300000\n",
      "1400000\n",
      "1500000\n",
      "1600000\n",
      "1700000\n",
      "1800000\n",
      "1900000\n",
      "2000000\n",
      "2100000\n",
      "2200000\n",
      "2300000\n",
      "2400000\n",
      "2500000\n",
      "2600000\n",
      "2700000\n",
      "2800000\n",
      "2900000\n",
      "3000000\n",
      "3100000\n",
      "3200000\n",
      "3300000\n",
      "3400000\n",
      "3500000\n",
      "3600000\n",
      "3700000\n",
      "3800000\n",
      "3900000\n",
      "4000000\n",
      "4100000\n",
      "4200000\n",
      "4300000\n",
      "4400000\n",
      "4500000\n",
      "4600000\n",
      "4700000\n",
      "4800000\n",
      "4900000\n",
      "5000000\n",
      "5100000\n",
      "5200000\n",
      "5300000\n",
      "5400000\n",
      "5500000\n",
      "5600000\n",
      "5700000\n",
      "5800000\n",
      "5900000\n",
      "6000000\n",
      "6100000\n",
      "6200000\n",
      "6300000\n",
      "6400000\n",
      "6500000\n",
      "6600000\n",
      "6700000\n",
      "6800000\n",
      "6900000\n",
      "7000000\n",
      "7100000\n",
      "7200000\n",
      "7300000\n",
      "7400000\n",
      "7500000\n",
      "7600000\n",
      "7700000\n",
      "7800000\n",
      "7900000\n",
      "8000000\n",
      "8100000\n",
      "8200000\n",
      "8300000\n",
      "8400000\n",
      "8500000\n",
      "8600000\n",
      "8700000\n",
      "8800000\n",
      "8900000\n",
      "9000000\n",
      "9100000\n",
      "9200000\n",
      "9300000\n"
     ]
    }
   ],
   "source": [
    "# Generting training data for items through graph sampling.\n",
    "sgd_train_users_items, sgd_train_pos_items, sgd_train_neg_items = graph_sampling(len(training_data_2)*30, training_data_2, user_item_map)"
   ]
  },
  {
   "cell_type": "code",
   "execution_count": 18,
   "metadata": {
    "collapsed": false
   },
   "outputs": [],
   "source": [
    "cPickle.dump(sgd_train_users_items, open('sgd_train_users_items.pkl','w'))\n",
    "cPickle.dump(sgd_train_pos_items, open('sgd_train_pos_items.pkl','w'))\n",
    "cPickle.dump(sgd_train_neg_items, open('sgd_train_neg_items.pkl','w'))"
   ]
  },
  {
   "cell_type": "code",
   "execution_count": 19,
   "metadata": {
    "collapsed": true,
    "scrolled": false
   },
   "outputs": [],
   "source": [
    "def get_test_data_items(test_data, train_data):\n",
    "    users=[]\n",
    "    pos_items=[]\n",
    "    neg_items=[]\n",
    "    train_dict, train_users, train_items  = data_to_dict(train_data)\n",
    "    test_dict, test_users, test_items = data_to_dict(test_data)\n",
    "    z = 0\n",
    "    for i,user in enumerate(test_dict.keys()):\n",
    "        if(i%1000==0):\n",
    "            print i\n",
    "\n",
    "        if user in train_users: \n",
    "            for pos_item in test_dict[user]:\n",
    "                if pos_item in train_items:\n",
    "                    for neg_item in train_items:\n",
    "                        if neg_item not in test_dict[user] and neg_item not in train_dict[user]:\n",
    "                            users.append(user)\n",
    "                            pos_items.append(pos_item)\n",
    "                            neg_items.append(neg_item)\n",
    "\n",
    "    return users, pos_items, neg_items\n",
    "\n",
    "\n",
    "def data_to_dict(data):\n",
    "    data_dict = defaultdict(list)\n",
    "    items = set()\n",
    "    for (user, item) in data:\n",
    "        data_dict[user].append(item)\n",
    "        items.add(item)\n",
    "    return data_dict, set(data_dict.keys()), items"
   ]
  },
  {
   "cell_type": "code",
   "execution_count": 20,
   "metadata": {
    "collapsed": false,
    "scrolled": false
   },
   "outputs": [
    {
     "name": "stdout",
     "output_type": "stream",
     "text": [
      "0\n",
      "1000\n",
      "2000\n",
      "3000\n",
      "4000\n",
      "5000\n",
      "6000\n",
      "7000\n",
      "8000\n",
      "9000\n",
      "10000\n",
      "11000\n",
      "12000\n",
      "13000\n",
      "14000\n",
      "15000\n",
      "16000\n",
      "17000\n",
      "18000\n",
      "19000\n",
      "20000\n",
      "21000\n",
      "22000\n",
      "23000\n",
      "24000\n",
      "25000\n",
      "26000\n",
      "27000\n"
     ]
    }
   ],
   "source": [
    "test_users_cold, test_pos_items_cold, test_neg_items_cold = get_test_data_items(test_data_2, training_data_2)"
   ]
  },
  {
   "cell_type": "code",
   "execution_count": null,
   "metadata": {
    "collapsed": true
   },
   "outputs": [],
   "source": [
    "cPickle.dump(test_users_cold, open('test_users_cold.pkl','w'))\n",
    "cPickle.dump(test_pos_items_cold, open('test_pos_items_cold.pkl','w'))\n",
    "cPickle.dump(test_neg_items_cold, open('test_neg_items_cold.pkl','w'))"
   ]
  },
  {
   "cell_type": "code",
   "execution_count": null,
   "metadata": {
    "collapsed": false
   },
   "outputs": [],
   "source": [
    "sgd_train_users_items = cPickle.load(open('sgd_train_users_items.pkl'))\n",
    "sgd_train_pos_items = cPickle.load(open('sgd_train_pos_items.pkl'))\n",
    "sgd_train_neg_items = cPickle.load(open('sgd_train_neg_items.pkl'))"
   ]
  },
  {
   "cell_type": "code",
   "execution_count": 33,
   "metadata": {
    "collapsed": false
   },
   "outputs": [],
   "source": [
    "new_test_users=[]\n",
    "new_test_pos=[]\n",
    "new_test_neg=[]\n",
    "\n",
    "for i in range(len(test_users_cold)):\n",
    "    if(i%45==0):\n",
    "        new_test_users.append(test_users_cold[i])\n",
    "        new_test_pos.append(test_pos_items_cold[i])\n",
    "        new_test_neg.append(test_neg_items_cold[i])"
   ]
  },
  {
   "cell_type": "code",
   "execution_count": 35,
   "metadata": {
    "collapsed": true
   },
   "outputs": [],
   "source": [
    "test_users_cold,test_pos_items_cold,test_neg_items_cold = new_test_users, new_test_pos, new_test_neg"
   ]
  },
  {
   "cell_type": "code",
   "execution_count": 34,
   "metadata": {
    "collapsed": false
   },
   "outputs": [
    {
     "data": {
      "text/plain": [
       "4018576"
      ]
     },
     "execution_count": 34,
     "metadata": {},
     "output_type": "execute_result"
    }
   ],
   "source": [
    "len(new_test_users)"
   ]
  },
  {
   "cell_type": "code",
   "execution_count": 36,
   "metadata": {
    "collapsed": true
   },
   "outputs": [],
   "source": [
    "cPickle.dump(test_users_cold, open('test_users_cold.pkl','w'))\n",
    "cPickle.dump(test_pos_items_cold, open('test_pos_items_cold.pkl','w'))\n",
    "cPickle.dump(test_neg_items_cold, open('test_neg_items_cold.pkl','w'))"
   ]
  },
  {
   "cell_type": "code",
   "execution_count": null,
   "metadata": {
    "collapsed": false
   },
   "outputs": [],
   "source": [
    "test_users_cold = cPickle.load(open('test_users_cold.pkl'))\n",
    "test_pos_items_cold = cPickle.load(open('test_pos_items_cold.pkl'))\n",
    "test_neg_items_cold = cPickle.load(open('test_neg_items_cold.pkl'))"
   ]
  },
  {
   "cell_type": "code",
   "execution_count": 23,
   "metadata": {
    "collapsed": false
   },
   "outputs": [
    {
     "name": "stdout",
     "output_type": "stream",
     "text": [
      "18615300\n"
     ]
    }
   ],
   "source": [
    "print len(sgd_train_users_items)"
   ]
  },
  {
   "cell_type": "code",
   "execution_count": 37,
   "metadata": {
    "collapsed": false,
    "scrolled": false
   },
   "outputs": [],
   "source": [
    "import os\n",
    "os.environ['THEANO_FLAGS']='mode=FAST_RUN,device=gpu,lib.cnmem=0.7,floatX=float32'"
   ]
  },
  {
   "cell_type": "code",
   "execution_count": 94,
   "metadata": {
    "collapsed": false,
    "scrolled": false
   },
   "outputs": [],
   "source": [
    "# theano-bpr\n",
    "#\n",
    "# Copyright (c) 2014 British Broadcasting Corporation\n",
    "#\n",
    "# Licensed under the Apache License, Version 2.0 (the \"License\");\n",
    "# you may not use this file except in compliance with the License.\n",
    "# You may obtain a copy of the License at\n",
    "#\n",
    "# http://www.apache.org/licenses/LICENSE-2.0\n",
    "#\n",
    "# Unless required by applicable law or agreed to in writing, software\n",
    "# distributed under the License is distributed on an \"AS IS\" BASIS,\n",
    "# WITHOUT WARRANTIES OR CONDITIONS OF ANY KIND, either express or implied.\n",
    "# See the License for the specific language governing permissions and\n",
    "# limitations under the License.\n",
    "\n",
    "import theano, numpy\n",
    "import theano.tensor as T\n",
    "import time\n",
    "import sys\n",
    "from collections import defaultdict\n",
    "\n",
    "class BPR_Item(object):\n",
    "\n",
    "    def __init__(self, rank, n_users, n_items, n_tags, lambda_u = 0.0025, lambda_i = 0.0025, lambda_j = 0.00025, lambda_d = 0.00025, lambda_p = 0.00025, lambda_q = 0.00025, lambda_bias = 0.0, learning_rate = 0.05):\n",
    "        \n",
    "        self._rank = rank\n",
    "        self._n_users = n_users\n",
    "        self._n_items = n_items\n",
    "        self._n_tags = n_tags\n",
    "        self._lambda_u = lambda_u\n",
    "        self._lambda_i = lambda_i\n",
    "        self._lambda_j = lambda_j\n",
    "        self._lambda_d = lambda_d\n",
    "        self._lambda_p = lambda_p\n",
    "        self._lambda_q = lambda_q\n",
    "        self._lambda_bias = lambda_bias\n",
    "        self.A = theano.shared(sgd_tags.astype(\"float32\"), name='A')\n",
    "        #self.G = theano.shared(user_genre_played_percentage.astype(\"float32\"), name='G')#user x genre\n",
    "        self._learning_rate = learning_rate\n",
    "        self._configure_theano()\n",
    "        self._generate_train_model_function()\n",
    "        self._generate_test_model_function()\n",
    "        \n",
    "\n",
    "    def _configure_theano(self):\n",
    "        \"\"\"\n",
    "          Configures Theano to run in fast mode\n",
    "          and using 32-bit floats. \n",
    "        \"\"\"\n",
    "        theano.config.mode = 'FAST_RUN'\n",
    "        theano.config.floatX = 'float32'\n",
    "\n",
    "    def _generate_train_model_function(self):\n",
    "        u = T.lvector('u')\n",
    "        i = T.lvector('i')\n",
    "        j = T.lvector('j')\n",
    "\n",
    "        h = numpy.random.random((self._n_items, self._rank))\n",
    "        b = numpy.random.random(self._n_items)#1*n_items\n",
    "        x = numpy.random.random((self._n_users,self._n_tags))\n",
    "\n",
    "        #### needs change ###\n",
    "        \n",
    "        self.W = theano.shared(numpy.random.random((self._n_users, self._rank)).astype('float32'), name='W')#P\n",
    "        self.H = theano.shared(h.astype('float32'), name='H')#Q\n",
    "        self.X = theano.shared(x.astype('float32'), name='X')\n",
    "        self.B = theano.shared(b.astype('float32'), name='B')#beta\n",
    "    \n",
    "        #x_ui = B_i+P_u*Q_i+X_u*A_i\n",
    "        x_ui = T.dot(self.W[u], self.H[i].T).diagonal() + self.B[i] + T.dot(self.X[u], self.A[i].T).diagonal()\n",
    "        x_uj = T.dot(self.W[u], self.H[j].T).diagonal() + self.B[j] + T.dot(self.X[u], self.A[j].T).diagonal()\n",
    "\n",
    "        x_uij = T.nnet.sigmoid(x_ui - x_uj)\n",
    "        \n",
    "        obj = T.sum(T.log(x_uij) - self._lambda_u * (self.W[u] ** 2).sum(axis=1) - \n",
    "                    self._lambda_i * (self.H[i] ** 2).sum(axis=1) - self._lambda_j * \n",
    "                    (self.H[j] ** 2).sum(axis=1) - self._lambda_bias * \n",
    "                    (self.B[i] ** 2 + self.B[j] ** 2) - self._lambda_d * (self.X[u] ** 2).sum(axis=1))\n",
    "        \n",
    "        cost = - obj\n",
    "\n",
    "        g_cost_W = T.grad(cost=cost, wrt=self.W)\n",
    "        g_cost_H = T.grad(cost=cost, wrt=self.H)\n",
    "        g_cost_B = T.grad(cost=cost, wrt=self.B)\n",
    "        g_cost_X = T.grad(cost=cost, wrt=self.X)\n",
    "\n",
    "        updates = [(self.W, self.W - self._learning_rate * g_cost_W), (self.H, self.H - self._learning_rate * g_cost_H), \n",
    "                   (self.B, self.B - self._learning_rate * g_cost_B), (self.X, self.X - self._learning_rate * g_cost_X)]\n",
    "        \n",
    "                                                  #u, i_p, i_n    \n",
    "        self.train_model = theano.function(inputs=[u, i, j], outputs=cost, updates=updates)\n",
    "\n",
    "    \n",
    "    def train(self, s_users=None, s_pos_items=None, s_neg_items=None, batch_size=1000):\n",
    "        \"\"\"\n",
    "          Trains the BPR Matrix Factorisation model using Stochastic\n",
    "          Gradient Descent and minibatches over `train_data`.\n",
    "\n",
    "          `train_data` is an array of (user_index, item_index) tuples.\n",
    "\n",
    "          We first create a set of random samples from `train_data` for \n",
    "          training, of size `epochs` * size of `train_data`.\n",
    "\n",
    "          We then iterate through the resulting training samples by\n",
    "          batches of length `batch_size`, and run one iteration of gradient\n",
    "          descent for the batch.\n",
    "        \"\"\"\n",
    "        if len(s_pos_items) < batch_size:\n",
    "            sys.stderr.write(\"WARNING: Batch size is greater than number of training samples, switching to a batch size of %s\\n\" % str(len(train_data)))\n",
    "            batch_size = len(s_pos_items)\n",
    "            \n",
    "        sgd_users, sgd_pos_items, sgd_neg_items = s_users, s_pos_items, s_neg_items\n",
    "        n_sgd_samples = len(s_users)\n",
    "        \n",
    "        z = 0\n",
    "        t2 = t1 = t0 = time.time()\n",
    "        while (z+1)*batch_size < n_sgd_samples:\n",
    "            self.train_model(\n",
    "                sgd_users[z*batch_size: (z+1)*batch_size],\n",
    "                sgd_pos_items[z*batch_size: (z+1)*batch_size],\n",
    "                sgd_neg_items[z*batch_size: (z+1)*batch_size]\n",
    "            )\n",
    "            z += 1\n",
    "            t2 = time.time()\n",
    "            sys.stderr.write(\"\\rProcessed %s ( %.2f%% ) in %.4f seconds\" %(str(z*batch_size), 100.0 * float(z*batch_size)/n_sgd_samples, t2 - t1))\n",
    "            sys.stderr.flush()\n",
    "            t1 = t2\n",
    "        if n_sgd_samples > 0:\n",
    "            sys.stderr.write(\"\\nTotal training time %.2f seconds; %e per sample\\n\" % (t2 - t0, (t2 - t0)/n_sgd_samples))\n",
    "            sys.stderr.flush()\n",
    "            \n",
    "    def _generate_test_model_function(self):\n",
    "        \"\"\"\n",
    "          Computes item predictions for `user_index`.\n",
    "          Returns an array of prediction values for each item\n",
    "          in the dataset.\n",
    "        \"\"\"\n",
    "        u = T.lvector('u')\n",
    "        i = T.lvector('i')\n",
    "        j = T.lvector('j')\n",
    "\n",
    "        x_ui = T.dot(self.W[u], self.H[i].T).diagonal() + self.B[i] + T.dot(self.X[u], self.A[i].T).diagonal()\n",
    "        x_uj = T.dot(self.W[u], self.H[j].T).diagonal() + self.B[j] + T.dot(self.X[u], self.A[j].T).diagonal()\n",
    "        x_uij = x_ui - x_uj\n",
    "        \n",
    "        self.test_model = theano.function(inputs=[u, i, j], outputs=x_uij)\n",
    "   \n",
    "    def test_bundle(self, sgd_users, sgd_pos_items, sgd_neg_items, batch_size=1000):\n",
    "        \"\"\"\n",
    "          Computes the Area Under Curve (AUC) on `test_data`.\n",
    "\n",
    "          `test_data` is an array of (user_index, item_index) tuples.\n",
    "\n",
    "          During this computation we ignore users and items\n",
    "          that didn't appear in the training data, to allow\n",
    "          for non-overlapping training and testing sets.\n",
    "        \"\"\"\n",
    "        \n",
    "        auc_values = []\n",
    "        z = 0\n",
    "        t2 = t1 = t0 = time.time()\n",
    "        n_sgd_samples = len(sgd_users)\n",
    "        while (z+1)*batch_size < n_sgd_samples:\n",
    "            pref_list=self.test_model(\n",
    "                sgd_users[z*batch_size: (z+1)*batch_size],\n",
    "                sgd_pos_items[z*batch_size: (z+1)*batch_size],\n",
    "                sgd_neg_items[z*batch_size: (z+1)*batch_size]\n",
    "            )\n",
    "            z += 1\n",
    "            t2 = time.time()\n",
    "            sys.stderr.write(\"\\rProcessed %s ( %.2f%% ) in %.4f seconds\" %(str(z*batch_size), 100.0 * float(z*batch_size)/n_sgd_samples, t2 - t1))\n",
    "            t1 = t2\n",
    "            \n",
    "            auc = np.sum([1.0 if a>0.0 else 0.0 for a in pref_list])\n",
    "            auc /= batch_size\n",
    "            \n",
    "            auc_values.append(auc)\n",
    "            sys.stderr.write(\"\\rCurrent AUC mean (%s samples): %0.5f\" % (str(z*batch_size), numpy.mean(auc_values)))\n",
    "            sys.stderr.flush()\n",
    "        \n",
    "        sys.stderr.write(\"\\n\")\n",
    "        sys.stderr.flush()\n",
    "        return numpy.mean(auc_values)"
   ]
  },
  {
   "cell_type": "code",
   "execution_count": 95,
   "metadata": {
    "collapsed": false,
    "scrolled": false
   },
   "outputs": [],
   "source": [
    "bpr_item = BPR_Item(10, len(user_item_map.keys()), len(items_set), len(tags_map))\n"
   ]
  },
  {
   "cell_type": "code",
   "execution_count": 96,
   "metadata": {
    "collapsed": false,
    "scrolled": true
   },
   "outputs": [
    {
     "name": "stderr",
     "output_type": "stream",
     "text": [
      "Processed 18615000 ( 100.00% ) in 0.0728 seconds\n",
      "Total training time 1324.33 seconds; 7.114187e-05 per sample\n"
     ]
    }
   ],
   "source": [
    "bpr_item.train(s_users=sgd_train_users_items, s_pos_items=sgd_train_pos_items, s_neg_items=sgd_train_neg_items)"
   ]
  },
  {
   "cell_type": "code",
   "execution_count": 97,
   "metadata": {
    "collapsed": false,
    "scrolled": true
   },
   "outputs": [
    {
     "name": "stderr",
     "output_type": "stream",
     "text": [
      "Current AUC mean (4018000 samples): 0.88832nds\n"
     ]
    },
    {
     "data": {
      "text/plain": [
       "0.88832105525136895"
      ]
     },
     "execution_count": 97,
     "metadata": {},
     "output_type": "execute_result"
    }
   ],
   "source": [
    "bpr_item.test_bundle(test_users_cold, test_pos_items_cold, test_neg_items_cold)"
   ]
  },
  {
   "cell_type": "code",
   "execution_count": 87,
   "metadata": {
    "collapsed": true
   },
   "outputs": [],
   "source": [
    "cPickle.dump(bpr_item, open('bpr_item.pkl','w'))"
   ]
  },
  {
   "cell_type": "code",
   "execution_count": null,
   "metadata": {
    "collapsed": true
   },
   "outputs": [],
   "source": [
    "bpr_item = cPickle.load(open('bpr_item.pkl'))"
   ]
  },
  {
   "cell_type": "markdown",
   "metadata": {},
   "source": [
    "# Bundle model begins"
   ]
  },
  {
   "cell_type": "code",
   "execution_count": 46,
   "metadata": {
    "collapsed": false,
    "scrolled": false
   },
   "outputs": [
    {
     "name": "stdout",
     "output_type": "stream",
     "text": [
      "0\n",
      "100000\n",
      "200000\n",
      "300000\n",
      "400000\n",
      "500000\n",
      "600000\n",
      "700000\n",
      "800000\n",
      "900000\n",
      "1000000\n"
     ]
    }
   ],
   "source": [
    "# Generting training data for bundles through graph sampling.\n",
    "sgd_users, sgd_pos_bundles, sgd_neg_bundles = graph_sampling(len(training_data)*30, training_data, user_bundle_map)\n"
   ]
  },
  {
   "cell_type": "code",
   "execution_count": 47,
   "metadata": {
    "collapsed": true
   },
   "outputs": [],
   "source": [
    "cPickle.dump(sgd_users, open('sgd_users.pkl', 'w'))\n",
    "cPickle.dump(sgd_pos_bundles, open('sgd_pos_bundles.pkl', 'w'))\n",
    "cPickle.dump(sgd_neg_bundles, open('sgd_neg_bundles.pkl', 'w'))"
   ]
  },
  {
   "cell_type": "code",
   "execution_count": 67,
   "metadata": {
    "collapsed": false,
    "scrolled": false
   },
   "outputs": [
    {
     "name": "stdout",
     "output_type": "stream",
     "text": [
      "82\n",
      "2515\n"
     ]
    }
   ],
   "source": [
    "# Determining max bundle size to create bins for N\n",
    "max_bundle_size=0\n",
    "for bundle,items in bundle_item_map.items():\n",
    "    if(len(items)>max_bundle_size):\n",
    "        max_bundle_size=len(items)\n",
    "print max_bundle_size\n",
    "print len(items_set)"
   ]
  },
  {
   "cell_type": "code",
   "execution_count": 68,
   "metadata": {
    "collapsed": false,
    "scrolled": false
   },
   "outputs": [],
   "source": [
    "def get_items(bundle_id, max_bundle_size, index):\n",
    "    item=list(bundle_item_map[bundle_id]);\n",
    "    for i in range(len(item),max_bundle_size):\n",
    "        item.append(index)\n",
    "    return item\n",
    "\n",
    "sgd_pos_items=[get_items(b_id, max_bundle_size, len(items_set)) for b_id in sgd_pos_bundles]\n",
    "sgd_neg_items=[get_items(b_id, max_bundle_size, len(items_set)) for b_id in sgd_neg_bundles]\n"
   ]
  },
  {
   "cell_type": "code",
   "execution_count": 86,
   "metadata": {
    "collapsed": true
   },
   "outputs": [],
   "source": [
    "cPickle.dump(sgd_pos_items, open('sgd_pos_items.pkl', 'w'))\n",
    "cPickle.dump(sgd_neg_items, open('sgd_neg_items.pkl', 'w'))"
   ]
  },
  {
   "cell_type": "code",
   "execution_count": 69,
   "metadata": {
    "collapsed": true,
    "scrolled": false
   },
   "outputs": [],
   "source": [
    "from sklearn.metrics import jaccard_similarity_score\n",
    "from sklearn.metrics.pairwise import cosine_similarity\n",
    "def compute_diversity_tags(app_data):\n",
    "    l=len(app_data)\n",
    "    app_data=[item_id_lookup[d] for d in app_data]\n",
    "    count=0.0\n",
    "    similarity=0.0\n",
    "    for i in range(l):\n",
    "        if app_data[i] in item_data_map:\n",
    "            for j in range(i+1,l):\n",
    "                if app_data[j] in item_data_map:\n",
    "                    count+=1\n",
    "                    similarity+=jaccard_similarity_score(get_feat(item_data_map[app_data[i]]['tags']),\n",
    "                                                         get_feat(item_data_map[app_data[j]]['tags']))\n",
    "    if count>0:\n",
    "        return 1-(similarity/count)\n",
    "    else:\n",
    "        return 0.0\n",
    "\n",
    "def compute_diversity_latent(app_data, H):\n",
    "    l=len(app_data)\n",
    "    count=0.0\n",
    "    similarity=0.0\n",
    "    for i in range(l):\n",
    "            for j in range(i+1,l):\n",
    "                itemID1,itemID2 = app_data[i],app_data[j]\n",
    "                count+=1\n",
    "                similarity+=cosine_similarity(H[itemID1].reshape(1,-1),H[itemID2].reshape(1,-1))[0,0]\n",
    "    if count>0:\n",
    "        return 1-(similarity/count)\n",
    "    else:\n",
    "        return 0.0\n",
    "    \n",
    "def compute_diversity(app_data, H):\n",
    "    if H is not None:\n",
    "        return compute_diversity_latent(app_data, H)\n",
    "    else :\n",
    "        return compute_diversity_tags(app_data)"
   ]
  },
  {
   "cell_type": "code",
   "execution_count": 70,
   "metadata": {
    "collapsed": false,
    "scrolled": true
   },
   "outputs": [],
   "source": [
    "Gamma=bpr_item.H.eval()\n",
    "bundle_diversity_map=dict()\n",
    "for bundle,items in bundle_item_map.items():\n",
    "    bundle_diversity_map[bundle]=compute_diversity_latent(list(items), bpr_item.H.eval())\n",
    "\n",
    "#bundle_diversity_map=pickle.load(open('../../data/pickle/training_data/game_aus/bpr/bundle_diversity_map','rb'))"
   ]
  },
  {
   "cell_type": "code",
   "execution_count": 71,
   "metadata": {
    "collapsed": true,
    "scrolled": false
   },
   "outputs": [],
   "source": [
    "sgd_pos_len=[len(bundle_item_map[b_id]) for b_id in sgd_pos_bundles]\n",
    "sgd_neg_len=[len(bundle_item_map[b_id]) for b_id in sgd_neg_bundles]\n",
    "sgd_pos_diversity=[bundle_diversity_map[b_id] for b_id in sgd_pos_bundles]\n",
    "sgd_neg_diversity=[bundle_diversity_map[b_id] for b_id in sgd_neg_bundles]"
   ]
  },
  {
   "cell_type": "code",
   "execution_count": 73,
   "metadata": {
    "collapsed": true,
    "scrolled": false
   },
   "outputs": [],
   "source": [
    "def get_test_data_bundles(test_data, train_data, n_items):\n",
    "    users=[]\n",
    "    pos_items=[]\n",
    "    neg_items=[]\n",
    "    n1=[]\n",
    "    n2=[]\n",
    "    pos_diversity=[]\n",
    "    neg_diversity=[]\n",
    "    train_dict, train_users, train_items  = data_to_dict(train_data)\n",
    "    test_dict, test_users, test_items = data_to_dict(test_data)\n",
    "    auc_values = []\n",
    "    z = 0\n",
    "    for i,user in enumerate(test_dict.keys()):\n",
    "        if(i%1000==0):\n",
    "            print i\n",
    "\n",
    "        if user in train_users: \n",
    "            for pos_item in test_dict[user]:\n",
    "                if pos_item in train_items:\n",
    "                    for neg_item in train_items:\n",
    "                        if neg_item not in test_dict[user] and neg_item not in train_dict[user]:\n",
    "                            pos_diversity.append(bundle_diversity_map[pos_item])\n",
    "                            neg_diversity.append(bundle_diversity_map[neg_item])\n",
    "                            users.append(user)\n",
    "                            pos_items.append(pos_item)\n",
    "                            neg_items.append(neg_item)\n",
    "                            n1.append(len(bundle_item_map[pos_item]))\n",
    "                            n2.append(len(bundle_item_map[neg_item]))\n",
    "\n",
    "    pos_items=[get_items(b_id, max_bundle_size, n_items) for b_id in pos_items]\n",
    "    neg_items=[get_items(b_id, max_bundle_size, n_items) for b_id in neg_items]\n",
    "    return users, pos_items, neg_items, n1, n2, pos_diversity, neg_diversity\n"
   ]
  },
  {
   "cell_type": "code",
   "execution_count": 74,
   "metadata": {
    "collapsed": false,
    "scrolled": false
   },
   "outputs": [
    {
     "name": "stdout",
     "output_type": "stream",
     "text": [
      "0\n",
      "1000\n",
      "2000\n",
      "3000\n",
      "4000\n",
      "5000\n",
      "6000\n",
      "7000\n",
      "8000\n",
      "9000\n",
      "10000\n",
      "11000\n",
      "12000\n"
     ]
    }
   ],
   "source": [
    "test_users, test_pos_items, test_neg_items, test_n1, test_n2, test_pos_diversity, test_neg_diversity= get_test_data_bundles(test_data, training_data, len(items_set))"
   ]
  },
  {
   "cell_type": "code",
   "execution_count": 80,
   "metadata": {
    "collapsed": true
   },
   "outputs": [],
   "source": [
    "cPickle.dump(test_users, open('test_users.pkl', 'w'))\n",
    "cPickle.dump(test_pos_items, open('test_pos_items.pkl', 'w'))\n",
    "cPickle.dump(test_neg_items, open('test_neg_items.pkl', 'w'))\n",
    "cPickle.dump(test_n1, open('test_n1.pkl', 'w'))\n",
    "cPickle.dump(test_n2, open('test_n2.pkl', 'w'))\n",
    "cPickle.dump(test_pos_diversity, open('test_pos_diversity.pkl', 'w'))\n",
    "cPickle.dump(test_neg_diversity, open('test_neg_diversity.pkl', 'w'))\n",
    "cPickle.dump(sgd_pos_len, open('sgd_pos_len.pkl', 'w'))\n",
    "cPickle.dump(sgd_neg_len, open('sgd_neg_len.pkl', 'w'))\n",
    "cPickle.dump(sgd_pos_diversity, open('sgd_pos_diversity.pkl', 'w'))\n",
    "cPickle.dump(sgd_neg_diversity, open('sgd_neg_diversity.pkl', 'w'))"
   ]
  },
  {
   "cell_type": "code",
   "execution_count": 82,
   "metadata": {
    "collapsed": false
   },
   "outputs": [],
   "source": [
    "cPickle.dump(bundle_diversity_map, open('bundle_diversity_map.pkl', 'w'))"
   ]
  },
  {
   "cell_type": "code",
   "execution_count": 75,
   "metadata": {
    "collapsed": false,
    "scrolled": false
   },
   "outputs": [
    {
     "name": "stdout",
     "output_type": "stream",
     "text": [
      "(2515, 10)\n",
      "(2516, 10)\n",
      "(2515,)\n",
      "(2516,)\n",
      "(2515, 327)\n",
      "(2516, 327)\n"
     ]
    }
   ],
   "source": [
    "print np.shape(bpr_item.H.eval())\n",
    "H_item=bpr_item.H.eval()\n",
    "H_item = np.concatenate((H_item,np.zeros((1,np.shape(H_item)[1]))),axis=0)\n",
    "H_item=np.array(H_item).astype('float32')\n",
    "print np.shape(H_item)\n",
    "\n",
    "print np.shape(bpr_item.B.eval())\n",
    "B_item=bpr_item.B.eval()\n",
    "B_item = np.append(B_item,0)\n",
    "B_item=np.array(B_item).astype('float32')\n",
    "print np.shape(B_item)\n",
    "\n",
    "print np.shape(bpr_item.A.eval())\n",
    "A_item=bpr_item.A.eval()\n",
    "A_item = np.concatenate((A_item,np.zeros((1,np.shape(A_item)[1]))),axis=0)\n",
    "A_item=np.array(A_item).astype('float32')\n",
    "print np.shape(A_item)"
   ]
  },
  {
   "cell_type": "code",
   "execution_count": 118,
   "metadata": {
    "collapsed": false,
    "scrolled": false
   },
   "outputs": [],
   "source": [
    "import theano, numpy\n",
    "import theano.tensor as T\n",
    "import time\n",
    "import sys\n",
    "from collections import defaultdict\n",
    "\n",
    "class BPR_Cold(object):\n",
    "\n",
    "    def __init__(self, rank, bundle_size, n_users, n_items, n_tags, lambda_u = 0.0025, lambda_i = 0.01, lambda_j = 0.0025, lambda_d = 0.0025, lambda_p = 0.00025, lambda_bias = 0.0, learning_rate = 0.05):\n",
    "        \n",
    "        self._rank = rank\n",
    "        self._bundle_rank = bundle_size + 1 #only for penalty\n",
    "        self._n_users = n_users\n",
    "        self._n_items = n_items\n",
    "        self._n_tags = n_tags\n",
    "        self._lambda_u = lambda_u\n",
    "        self._lambda_i = lambda_i\n",
    "        self._lambda_j = lambda_j\n",
    "        self._lambda_d = lambda_d\n",
    "        self._lambda_p = lambda_p\n",
    "        self._lambda_bias = lambda_bias\n",
    "        self._learning_rate = learning_rate\n",
    "        self.bundle_discount = theano.shared(np.array(bundle_discount_array).astype('float32'), name='bundle_discount')\n",
    "        self._configure_theano()\n",
    "        self._generate_train_model_item_function()\n",
    "        self._generate_test_model_function()\n",
    "\n",
    "    def _configure_theano(self):\n",
    "        theano.config.mode = 'FAST_RUN'\n",
    "        theano.config.floatX = 'float32'\n",
    "    \n",
    "    def _generate_train_model_item_function(self):\n",
    "        u = T.lvector('u')\n",
    "        i = T.lmatrix('i')\n",
    "        j = T.lmatrix('j')\n",
    "        n1 = T.lvector('n1')#num of items in pos bundle\n",
    "        n2 = T.lvector('n2')\n",
    "        #di = T.dvector('di')#cb\n",
    "        #dj = T.dvector('dj')#cb\n",
    "        \n",
    "        pu = numpy.random.random(self._n_users)\n",
    "        \n",
    "        self.W1 = bpr_item.W #Pu\n",
    "        self.H1 = theano.shared(H_item.astype('float32'), name='H')#Qi\n",
    "        self.B1 = theano.shared(B_item.astype('float32'), name='B')#Bi\n",
    "        self.X = bpr_item.X\n",
    "        self.A = theano.shared(A_item.astype('float32'), name='A')#Ai\n",
    "        #self.Pu = theano.shared(pu.astype('float32'), name='Pu')\n",
    "        \n",
    "        self.M1 = theano.shared(numpy.random.random((self._rank, self._rank)).astype('float64'), name='M1')#w\n",
    "        self.M2 = theano.shared(numpy.random.random((self._rank, self._rank)).astype('float64'), name='M2')#u\n",
    "        self.E1 = theano.shared(numpy.random.random((self._n_tags,self._n_tags)).astype('float64'), name='E1')#theta\n",
    "        self.E2 = theano.shared(numpy.random.random((self._n_tags,self._n_tags)).astype('float64'), name='E2')#alpha\n",
    "        self.K = theano.shared(numpy.random.rand(), name='K')#k\n",
    "        #self.D = theano.shared(numpy.random.rand(), name='D')#C\n",
    "        self.N = theano.shared(numpy.random.random(self._bundle_rank).astype('float32'), name='N')#Nb\n",
    "        \n",
    "        #bi = self.bundle_discount[i]\n",
    "        #bj = self.bundle_discount[j]\n",
    "        \n",
    "        x_ui = T.dot(T.dot(self.W1[u],self.M2), T.dot(self.M1, self.H1[i].sum(axis=1).T/n1)).diagonal() + T.dot(T.dot(self.X[u],self.E1),T.dot(self.E2,self.A[i].sum(axis=1).T/n1)).diagonal() + self.K*(self.B1[i].T/n1).T.sum(axis=1) + self.N[n1] #+ self.D*di\n",
    "        x_uj = T.dot(T.dot(self.W1[u],self.M2), T.dot(self.M1, self.H1[j].sum(axis=1).T/n2)).diagonal() + T.dot(T.dot(self.X[u],self.E1),T.dot(self.E2,self.A[j].sum(axis=1).T/n2)).diagonal() + self.K*(self.B1[j].T/n2).T.sum(axis=1) + self.N[n2] #+ self.D*dj\n",
    "        \n",
    "        x_uij = T.nnet.sigmoid(x_ui-x_uj) #+ (self.Pu[u]) *(bi - bj)\n",
    "        \n",
    "        obj = T.sum(T.log(x_uij) - self._lambda_u * (self.M1 ** 2).sum() - \\\n",
    "                    self._lambda_u * (self.M2 ** 2).sum()  - self._lambda_d * (self.K**2) #- self._lambda_j * (self.D**2)\\\n",
    "                    - self._lambda_p * (self.N[n2]**2) - self._lambda_p * (self.N[n1]**2) - self._lambda_i * (self.E1 **2).sum() - \\\n",
    "                   self._lambda_i * (self.E2 ** 2).sum())# - self._lambda_j * (self.Pu ** 2))\n",
    "        cost = - obj\n",
    "\n",
    "        g_cost_M1 = T.grad(cost=cost, wrt=self.M1)\n",
    "        g_cost_M2 = T.grad(cost=cost, wrt=self.M2)\n",
    "        g_cost_K = T.grad(cost=cost, wrt=self.K)\n",
    "        g_cost_N = T.grad(cost=cost, wrt=self.N)\n",
    "        #g_cost_D = T.grad(cost=cost, wrt=self.D)\n",
    "        g_cost_E1 = T.grad(cost=cost, wrt=self.E1)\n",
    "        g_cost_E2 = T.grad(cost=cost, wrt=self.E2)\n",
    "        \n",
    "        \n",
    "        updates = [(self.M1, self.M1 - self._learning_rate * .001* g_cost_M1), (self.M2, self.M2 - self._learning_rate *.001* g_cost_M2), \n",
    "                   (self.K, self.K - self._learning_rate * .001*g_cost_K), (self.N, self.N - self._learning_rate *g_cost_N),\n",
    "                  #(self.D, self.D - self._learning_rate * g_cost_D), \n",
    "                   (self.E1, self.E1 - self._learning_rate *.001*g_cost_E1),(self.E2, self.E2 - self._learning_rate *.001 *g_cost_E2)]\n",
    "                  \n",
    "\n",
    "        self.train_model_item = theano.function(inputs=[u, i, j, n1, n2], outputs=cost, updates=updates)\n",
    "\n",
    "    \n",
    "    def train(self, s_users=None, s_pos_items=None, s_neg_items=None, s_pos_len=None, s_neg_len=None,\n",
    "             s_pos_diversity=None, s_neg_diversity=None,batch_size=1000):\n",
    "        \n",
    "        if len(s_users) < batch_size:\n",
    "            sys.stderr.write(\"WARNING: Batch size is greater than number of training samples, switching to a batch size of %s\\n\" % str(len(train_data)))\n",
    "            batch_size = len(s_users)\n",
    "        \n",
    "        sgd_users, sgd_pos_items, sgd_neg_items = s_users, s_pos_items, s_neg_items\n",
    "        n_sgd_samples = len(s_users)\n",
    "\n",
    "        z = 0\n",
    "        t2 = t1 = t0 = time.time()\n",
    "        while (z+1)*batch_size < n_sgd_samples:\n",
    "            \n",
    "            self.train_model_item(\n",
    "                sgd_users[z*batch_size: (z+1)*batch_size],\n",
    "                sgd_pos_items[z*batch_size: (z+1)*batch_size],\n",
    "                sgd_neg_items[z*batch_size: (z+1)*batch_size],\n",
    "                s_pos_len[z*batch_size: (z+1)*batch_size],\n",
    "                s_neg_len[z*batch_size: (z+1)*batch_size]\n",
    "            )\n",
    "            z += 1\n",
    "            t2 = time.time()\n",
    "            sys.stderr.write(\"\\rProcessed %s ( %.2f%% ) in %.4f seconds\" %(str(z*batch_size), 100.0 * float(z*batch_size)/n_sgd_samples, t2 - t1))\n",
    "            sys.stderr.flush()\n",
    "            t1 = t2\n",
    "        if n_sgd_samples > 0:\n",
    "            sys.stderr.write(\"\\nTotal training time %.2f seconds; %e per sample\\n\" % (t2 - t0, (t2 - t0)/n_sgd_samples))\n",
    "            sys.stderr.flush()\n",
    "    \n",
    "    def _generate_test_model_function(self):\n",
    "        u = T.lvector('u')\n",
    "        i = T.lmatrix('i')\n",
    "        j = T.lmatrix('j')\n",
    "        n1 = T.lvector('n1')\n",
    "        n2 = T.lvector('n2')\n",
    "        #di = T.dvector('di')\n",
    "        #dj = T.dvector('dj')\n",
    "        \n",
    "        x_ui = T.dot(T.dot(self.W1[u],self.M2), T.dot(self.M1, self.H1[i].sum(axis=1).T/n1)).diagonal() + T.dot(T.dot(self.X[u],self.E1),T.dot(self.E2,self.A[i].sum(axis=1).T/n1)).diagonal() + self.K*(self.B1[i].T/n1).T.sum(axis=1) + self.N[n1] #+ self.D*di\n",
    "        x_uj = T.dot(T.dot(self.W1[u],self.M2), T.dot(self.M1, self.H1[j].sum(axis=1).T/n2)).diagonal() + T.dot(T.dot(self.X[u],self.E1),T.dot(self.E2,self.A[j].sum(axis=1).T/n2)).diagonal() + self.K*(self.B1[j].T/n2).T.sum(axis=1) + self.N[n2] #+ self.D*dj\n",
    "        #bi = self.bundle_discount[i]\n",
    "        #bj = self.bundle_discount[j]\n",
    "        x_uij = x_ui-x_uj #+ (self.Pu[u]) *(bi - bj)\n",
    "        self.test_model = theano.function(inputs=[u, i, j, n1, n2], outputs=x_uij)\n",
    "        \n",
    "    def test_bundle(self, sgd_users, sgd_pos_items, sgd_neg_items, s_pos_len, s_neg_len, s_pos_diversity, s_neg_diversity, batch_size=1000):\n",
    "        \n",
    "        auc_values = []\n",
    "        z = 0\n",
    "        t2 = t1 = t0 = time.time()\n",
    "        n_sgd_samples = len(sgd_users)\n",
    "        while (z+1)*batch_size < n_sgd_samples:\n",
    "            pref_list=self.test_model(\n",
    "                sgd_users[z*batch_size: (z+1)*batch_size],\n",
    "                sgd_pos_items[z*batch_size: (z+1)*batch_size],\n",
    "                sgd_neg_items[z*batch_size: (z+1)*batch_size],\n",
    "                s_pos_len[z*batch_size: (z+1)*batch_size],\n",
    "                s_neg_len[z*batch_size: (z+1)*batch_size]\n",
    "            )\n",
    "            z += 1\n",
    "            t2 = time.time()\n",
    "            sys.stderr.write(\"\\rProcessed %s ( %.2f%% ) in %.4f seconds\" %(str(z*batch_size), 100.0 * float(z*batch_size)/n_sgd_samples, t2 - t1))\n",
    "            t1 = t2\n",
    "            \n",
    "            auc = np.sum([1.0 if a>0.0 else 0.0 for a in pref_list])\n",
    "            auc /= batch_size\n",
    "            \n",
    "            auc_values.append(auc)\n",
    "            sys.stderr.write(\"\\rCurrent AUC mean (%s samples): %0.5f\" % (str(z*batch_size), numpy.mean(auc_values)))\n",
    "            sys.stderr.flush()\n",
    "        \n",
    "        sys.stderr.write(\"\\n\")\n",
    "        sys.stderr.flush()\n",
    "        return numpy.mean(auc_values)\n",
    "  "
   ]
  },
  {
   "cell_type": "code",
   "execution_count": 119,
   "metadata": {
    "collapsed": false,
    "scrolled": true
   },
   "outputs": [],
   "source": [
    "bpr_cold = BPR_Cold(10, max_bundle_size, len(user_bundle_map.keys()), len(items_set), len(tags_map))"
   ]
  },
  {
   "cell_type": "code",
   "execution_count": 120,
   "metadata": {
    "collapsed": false,
    "scrolled": false
   },
   "outputs": [
    {
     "name": "stderr",
     "output_type": "stream",
     "text": [
      "Processed 2101000 ( 99.99% ) in 0.3103 seconds\n",
      "Total training time 667.56 seconds; 3.177136e-04 per sample\n"
     ]
    }
   ],
   "source": [
    "bpr_cold.train(s_users=sgd_users, s_pos_items=sgd_pos_items, s_neg_items=sgd_neg_items, \n",
    "          s_pos_len=sgd_pos_len, s_neg_len=sgd_neg_len, s_pos_diversity=sgd_pos_diversity, s_neg_diversity=sgd_neg_diversity)\n",
    "#bpr_cold.train(s_users=sgd_users, s_pos_items=sgd_pos_items, s_neg_items=sgd_neg_items, \n",
    "#          s_pos_len=sgd_pos_len, s_neg_len=sgd_neg_len, s_pos_diversity=sgd_pos_diversity, s_neg_diversity=sgd_neg_diversity)"
   ]
  },
  {
   "cell_type": "code",
   "execution_count": 121,
   "metadata": {
    "collapsed": false,
    "scrolled": false
   },
   "outputs": [
    {
     "name": "stderr",
     "output_type": "stream",
     "text": [
      "Current AUC mean (1263000 samples): 0.91900nds"
     ]
    },
    {
     "ename": "KeyboardInterrupt",
     "evalue": "",
     "output_type": "error",
     "traceback": [
      "\u001b[0;31m---------------------------------------------------------------------------\u001b[0m",
      "\u001b[0;31mKeyboardInterrupt\u001b[0m                         Traceback (most recent call last)",
      "\u001b[0;32m<ipython-input-121-fda6cf394c2d>\u001b[0m in \u001b[0;36m<module>\u001b[0;34m()\u001b[0m\n\u001b[0;32m----> 1\u001b[0;31m \u001b[0mbpr_cold\u001b[0m\u001b[0;34m.\u001b[0m\u001b[0mtest_bundle\u001b[0m\u001b[0;34m(\u001b[0m\u001b[0mtest_users\u001b[0m\u001b[0;34m,\u001b[0m \u001b[0mtest_pos_items\u001b[0m\u001b[0;34m,\u001b[0m \u001b[0mtest_neg_items\u001b[0m\u001b[0;34m,\u001b[0m \u001b[0mtest_n1\u001b[0m\u001b[0;34m,\u001b[0m \u001b[0mtest_n2\u001b[0m\u001b[0;34m,\u001b[0m \u001b[0mtest_pos_diversity\u001b[0m\u001b[0;34m,\u001b[0m \u001b[0mtest_neg_diversity\u001b[0m\u001b[0;34m)\u001b[0m\u001b[0;34m\u001b[0m\u001b[0m\n\u001b[0m",
      "\u001b[0;32m<ipython-input-118-d4a26599eacf>\u001b[0m in \u001b[0;36mtest_bundle\u001b[0;34m(self, sgd_users, sgd_pos_items, sgd_neg_items, s_pos_len, s_neg_len, s_pos_diversity, s_neg_diversity, batch_size)\u001b[0m\n\u001b[1;32m    145\u001b[0m                 \u001b[0msgd_neg_items\u001b[0m\u001b[0;34m[\u001b[0m\u001b[0mz\u001b[0m\u001b[0;34m*\u001b[0m\u001b[0mbatch_size\u001b[0m\u001b[0;34m:\u001b[0m \u001b[0;34m(\u001b[0m\u001b[0mz\u001b[0m\u001b[0;34m+\u001b[0m\u001b[0;36m1\u001b[0m\u001b[0;34m)\u001b[0m\u001b[0;34m*\u001b[0m\u001b[0mbatch_size\u001b[0m\u001b[0;34m]\u001b[0m\u001b[0;34m,\u001b[0m\u001b[0;34m\u001b[0m\u001b[0m\n\u001b[1;32m    146\u001b[0m                 \u001b[0ms_pos_len\u001b[0m\u001b[0;34m[\u001b[0m\u001b[0mz\u001b[0m\u001b[0;34m*\u001b[0m\u001b[0mbatch_size\u001b[0m\u001b[0;34m:\u001b[0m \u001b[0;34m(\u001b[0m\u001b[0mz\u001b[0m\u001b[0;34m+\u001b[0m\u001b[0;36m1\u001b[0m\u001b[0;34m)\u001b[0m\u001b[0;34m*\u001b[0m\u001b[0mbatch_size\u001b[0m\u001b[0;34m]\u001b[0m\u001b[0;34m,\u001b[0m\u001b[0;34m\u001b[0m\u001b[0m\n\u001b[0;32m--> 147\u001b[0;31m                 \u001b[0ms_neg_len\u001b[0m\u001b[0;34m[\u001b[0m\u001b[0mz\u001b[0m\u001b[0;34m*\u001b[0m\u001b[0mbatch_size\u001b[0m\u001b[0;34m:\u001b[0m \u001b[0;34m(\u001b[0m\u001b[0mz\u001b[0m\u001b[0;34m+\u001b[0m\u001b[0;36m1\u001b[0m\u001b[0;34m)\u001b[0m\u001b[0;34m*\u001b[0m\u001b[0mbatch_size\u001b[0m\u001b[0;34m]\u001b[0m\u001b[0;34m\u001b[0m\u001b[0m\n\u001b[0m\u001b[1;32m    148\u001b[0m             )\n\u001b[1;32m    149\u001b[0m             \u001b[0mz\u001b[0m \u001b[0;34m+=\u001b[0m \u001b[0;36m1\u001b[0m\u001b[0;34m\u001b[0m\u001b[0m\n",
      "\u001b[0;32m/Users/yiwengong/Downloads/ENTER/envs/py27/lib/python2.7/site-packages/theano/compile/function_module.pyc\u001b[0m in \u001b[0;36m__call__\u001b[0;34m(self, *args, **kwargs)\u001b[0m\n\u001b[1;32m    882\u001b[0m         \u001b[0;32mtry\u001b[0m\u001b[0;34m:\u001b[0m\u001b[0;34m\u001b[0m\u001b[0m\n\u001b[1;32m    883\u001b[0m             \u001b[0moutputs\u001b[0m \u001b[0;34m=\u001b[0m\u001b[0;31m\\\u001b[0m\u001b[0;34m\u001b[0m\u001b[0m\n\u001b[0;32m--> 884\u001b[0;31m                 \u001b[0mself\u001b[0m\u001b[0;34m.\u001b[0m\u001b[0mfn\u001b[0m\u001b[0;34m(\u001b[0m\u001b[0;34m)\u001b[0m \u001b[0;32mif\u001b[0m \u001b[0moutput_subset\u001b[0m \u001b[0;32mis\u001b[0m \u001b[0mNone\u001b[0m \u001b[0;32melse\u001b[0m\u001b[0;31m\\\u001b[0m\u001b[0;34m\u001b[0m\u001b[0m\n\u001b[0m\u001b[1;32m    885\u001b[0m                 \u001b[0mself\u001b[0m\u001b[0;34m.\u001b[0m\u001b[0mfn\u001b[0m\u001b[0;34m(\u001b[0m\u001b[0moutput_subset\u001b[0m\u001b[0;34m=\u001b[0m\u001b[0moutput_subset\u001b[0m\u001b[0;34m)\u001b[0m\u001b[0;34m\u001b[0m\u001b[0m\n\u001b[1;32m    886\u001b[0m         \u001b[0;32mexcept\u001b[0m \u001b[0mException\u001b[0m\u001b[0;34m:\u001b[0m\u001b[0;34m\u001b[0m\u001b[0m\n",
      "\u001b[0;32m/Users/yiwengong/Downloads/ENTER/envs/py27/lib/python2.7/site-packages/theano/gof/op.pyc\u001b[0m in \u001b[0;36mrval\u001b[0;34m(p, i, o, n)\u001b[0m\n\u001b[1;32m    869\u001b[0m         \u001b[0;32mif\u001b[0m \u001b[0mparams\u001b[0m \u001b[0;32mis\u001b[0m \u001b[0mgraph\u001b[0m\u001b[0;34m.\u001b[0m\u001b[0mNoParams\u001b[0m\u001b[0;34m:\u001b[0m\u001b[0;34m\u001b[0m\u001b[0m\n\u001b[1;32m    870\u001b[0m             \u001b[0;31m# default arguments are stored in the closure of `rval`\u001b[0m\u001b[0;34m\u001b[0m\u001b[0;34m\u001b[0m\u001b[0m\n\u001b[0;32m--> 871\u001b[0;31m             \u001b[0;32mdef\u001b[0m \u001b[0mrval\u001b[0m\u001b[0;34m(\u001b[0m\u001b[0mp\u001b[0m\u001b[0;34m=\u001b[0m\u001b[0mp\u001b[0m\u001b[0;34m,\u001b[0m \u001b[0mi\u001b[0m\u001b[0;34m=\u001b[0m\u001b[0mnode_input_storage\u001b[0m\u001b[0;34m,\u001b[0m \u001b[0mo\u001b[0m\u001b[0;34m=\u001b[0m\u001b[0mnode_output_storage\u001b[0m\u001b[0;34m,\u001b[0m \u001b[0mn\u001b[0m\u001b[0;34m=\u001b[0m\u001b[0mnode\u001b[0m\u001b[0;34m)\u001b[0m\u001b[0;34m:\u001b[0m\u001b[0;34m\u001b[0m\u001b[0m\n\u001b[0m\u001b[1;32m    872\u001b[0m                 \u001b[0mr\u001b[0m \u001b[0;34m=\u001b[0m \u001b[0mp\u001b[0m\u001b[0;34m(\u001b[0m\u001b[0mn\u001b[0m\u001b[0;34m,\u001b[0m \u001b[0;34m[\u001b[0m\u001b[0mx\u001b[0m\u001b[0;34m[\u001b[0m\u001b[0;36m0\u001b[0m\u001b[0;34m]\u001b[0m \u001b[0;32mfor\u001b[0m \u001b[0mx\u001b[0m \u001b[0;32min\u001b[0m \u001b[0mi\u001b[0m\u001b[0;34m]\u001b[0m\u001b[0;34m,\u001b[0m \u001b[0mo\u001b[0m\u001b[0;34m)\u001b[0m\u001b[0;34m\u001b[0m\u001b[0m\n\u001b[1;32m    873\u001b[0m                 \u001b[0;32mfor\u001b[0m \u001b[0mo\u001b[0m \u001b[0;32min\u001b[0m \u001b[0mnode\u001b[0m\u001b[0;34m.\u001b[0m\u001b[0moutputs\u001b[0m\u001b[0;34m:\u001b[0m\u001b[0;34m\u001b[0m\u001b[0m\n",
      "\u001b[0;31mKeyboardInterrupt\u001b[0m: "
     ]
    }
   ],
   "source": [
    "bpr_cold.test_bundle(test_users, test_pos_items, test_neg_items, test_n1, test_n2, test_pos_diversity, test_neg_diversity)"
   ]
  },
  {
   "cell_type": "markdown",
   "metadata": {},
   "source": [
    "# Bundle Generation Through Greedy Model Begins"
   ]
  },
  {
   "cell_type": "code",
   "execution_count": 83,
   "metadata": {
    "collapsed": false,
    "scrolled": false
   },
   "outputs": [],
   "source": [
    "def generate_bundle(items_set, user, initial_size = 3, max_iteration = 1000, sample_size = 5):\n",
    "    current_bundle = np.random.choice(list(items_set), initial_size)\n",
    "    \n",
    "    T=1000.0\n",
    "    \n",
    "    iteration = 0\n",
    "    while iteration < max_iteration:\n",
    "        iteration+=1\n",
    "        curr_diversity = compute_diversity(current_bundle, Gamma)\n",
    "        user_set=[]\n",
    "        pos_item_set=[]\n",
    "        actual_item_set=[]\n",
    "        neg_item_set=[]\n",
    "        pos_item_count=[]\n",
    "        neg_item_count=[]\n",
    "        pos_diversity=[]\n",
    "        neg_diversity=[]\n",
    "        \n",
    "        \n",
    "        candidate_items = set(np.random.choice(list(items_set), sample_size))\n",
    "        \n",
    "        for item in current_bundle:\n",
    "            if item in candidate_items:\n",
    "                candidate_items.remove(item)\n",
    "        \n",
    "    \n",
    "        #Generating new bundles by adding and removing new items  \n",
    "        for cand_item in candidate_items:\n",
    "            #Add an item case\n",
    "            if len(current_bundle)<10:\n",
    "                user_set.append(user)    \n",
    "                neg_item_set.append(add_bogus_items(current_bundle , max_bundle_size, len(items_set)))\n",
    "                neg_item_count.append(len(current_bundle))\n",
    "                neg_diversity.append(curr_diversity)         \n",
    "                new_bundle=list(current_bundle)\n",
    "                new_bundle.append(cand_item)\n",
    "                pos_item_count.append(len(new_bundle))\n",
    "                pos_diversity.append(compute_diversity(new_bundle, Gamma))\n",
    "                actual_item_set.append(new_bundle)\n",
    "                pos_item_set.append(add_bogus_items(new_bundle , max_bundle_size, len(items_set)))\n",
    "\n",
    "            # Replace an item case\n",
    "            for curr_item in current_bundle:\n",
    "                user_set.append(user)\n",
    "                \n",
    "                neg_item_set.append(add_bogus_items(current_bundle , max_bundle_size, len(items_set)))\n",
    "                neg_item_count.append(len(current_bundle))\n",
    "                neg_diversity.append(curr_diversity)\n",
    "                \n",
    "                new_bundle=list(current_bundle)\n",
    "                new_bundle.append(cand_item)\n",
    "                new_bundle.remove(curr_item)\n",
    "                pos_item_set.append(add_bogus_items(new_bundle , max_bundle_size, len(items_set)))\n",
    "                actual_item_set.append(new_bundle)\n",
    "                pos_item_count.append(len(new_bundle))\n",
    "                pos_diversity.append(compute_diversity(new_bundle, Gamma))\n",
    "         \n",
    "        \n",
    "        # Remove an item case\n",
    "        if len(current_bundle)>2:\n",
    "            for curr_item in current_bundle:\n",
    "                user_set.append(user)\n",
    "\n",
    "                neg_item_set.append(add_bogus_items(current_bundle , max_bundle_size, len(items_set)))\n",
    "                neg_item_count.append(len(current_bundle))\n",
    "                neg_diversity.append(curr_diversity)\n",
    "\n",
    "                new_bundle=list(current_bundle)\n",
    "                new_bundle.remove(curr_item)\n",
    "                actual_item_set.append(new_bundle)\n",
    "                pos_item_set.append(add_bogus_items(new_bundle , max_bundle_size, len(items_set)))\n",
    "                pos_item_count.append(len(new_bundle))\n",
    "                pos_diversity.append(compute_diversity(new_bundle, Gamma))\n",
    "        \n",
    "                \n",
    "        pref_score = bpr_cold.test_model(user_set, pos_item_set, neg_item_set, pos_item_count, \n",
    "                                    neg_item_count, pos_diversity, neg_diversity)\n",
    "                                    \n",
    "        #print pref_score, pos_item_count, neg_item_count\n",
    "        index = np.argmax(pref_score)\n",
    "        #print \"Pref Score \", pref_score[index]\n",
    "        if(pref_score[index]>0):\n",
    "            current_bundle = actual_item_set[index]\n",
    "        else:\n",
    "            prob = np.exp(pref_score[index]/T)\n",
    "            if prob < .00001:\n",
    "                break\n",
    "            if np.random.rand() < prob:\n",
    "                current_bundle = actual_item_set[index]\n",
    "        T=T*0.9\n",
    "    #print iteration\n",
    "    return current_bundle "
   ]
  },
  {
   "cell_type": "code",
   "execution_count": 84,
   "metadata": {
    "collapsed": false,
    "scrolled": false
   },
   "outputs": [],
   "source": [
    "def add_bogus_items(bundle, max_bundle_size, index):\n",
    "    item=list(bundle);\n",
    "    for i in range(len(item),max_bundle_size):\n",
    "        item.append(index)\n",
    "    return item\n",
    "\n",
    "def remove_bogus_items(bundle, max_bundle_size, index):\n",
    "    item=list(bundle);\n",
    "    i=0\n",
    "    while i< len(bundle):\n",
    "        if bundle[i]==index:\n",
    "            break\n",
    "        i+=1\n",
    "    return bundle[:i]\n",
    "\n",
    "def get_bundle_rank(user, new_bundle, bundle_item_map, bundle_diversity_map):\n",
    "    user_set=[]\n",
    "    pos_item_set=[]\n",
    "    neg_item_set=[]\n",
    "    pos_item_count=[]\n",
    "    neg_item_count=[]\n",
    "    pos_diversity=[]\n",
    "    neg_diversity=[]\n",
    "    \n",
    "    bundle_diversity=compute_diversity(new_bundle, Gamma)\n",
    "    for bundle_id,bundle in bundle_item_map.items():\n",
    "        user_set.append(user)\n",
    "        pos_item_set.append(add_bogus_items(bundle, max_bundle_size, len(items_set)))\n",
    "        neg_item_set.append(add_bogus_items(new_bundle, max_bundle_size, len(items_set)))\n",
    "        pos_item_count.append(len(bundle))\n",
    "        neg_item_count.append(len(new_bundle))\n",
    "        pos_diversity.append(bundle_diversity_map[bundle_id])\n",
    "        neg_diversity.append(bundle_diversity)\n",
    "        \n",
    "    pref_score = bpr_cold.test_model(user_set, pos_item_set, neg_item_set, pos_item_count, \n",
    "                                    neg_item_count, pos_diversity, neg_diversity)\n",
    "  \n",
    "    rank = np.sum([1.0 if p>0 else 0.0 for p in pref_score])\n",
    "    return rank"
   ]
  },
  {
   "cell_type": "code",
   "execution_count": 85,
   "metadata": {
    "collapsed": false,
    "scrolled": false
   },
   "outputs": [
    {
     "name": "stdout",
     "output_type": "stream",
     "text": [
      "Rank of user 0 : 0, Size of bundle : 2, Bundles purchased : 6 Aggregate diversity: 2 Score: 1.000000, Average bundle size: 2.000000\n",
      "Rank of user 1 : 1, Size of bundle : 2, Bundles purchased : 15 Aggregate diversity: 4 Score: 1.500000, Average bundle size: 2.000000\n",
      "Rank of user 2 : 1, Size of bundle : 2, Bundles purchased : 1 Aggregate diversity: 6 Score: 1.666667, Average bundle size: 2.000000\n",
      "Rank of user 3 : 0, Size of bundle : 2, Bundles purchased : 7 Aggregate diversity: 8 Score: 1.500000, Average bundle size: 2.000000\n",
      "Rank of user 4 : 0, Size of bundle : 2, Bundles purchased : 8 Aggregate diversity: 10 Score: 1.400000, Average bundle size: 2.000000\n",
      "Rank of user 5 : 1, Size of bundle : 2, Bundles purchased : 5 Aggregate diversity: 12 Score: 1.500000, Average bundle size: 2.000000\n",
      "Rank of user 6 : 0, Size of bundle : 2, Bundles purchased : 4 Aggregate diversity: 14 Score: 1.428571, Average bundle size: 2.000000\n",
      "Rank of user 7 : 1, Size of bundle : 2, Bundles purchased : 3 Aggregate diversity: 16 Score: 1.500000, Average bundle size: 2.000000\n",
      "Rank of user 8 : 0, Size of bundle : 2, Bundles purchased : 7 Aggregate diversity: 18 Score: 1.444444, Average bundle size: 2.000000\n",
      "Rank of user 9 : 0, Size of bundle : 2, Bundles purchased : 8 Aggregate diversity: 19 Score: 1.400000, Average bundle size: 2.000000\n",
      "Rank of user 10 : 0, Size of bundle : 2, Bundles purchased : 5 Aggregate diversity: 20 Score: 1.363636, Average bundle size: 2.000000\n",
      "Rank of user 11 : 0, Size of bundle : 2, Bundles purchased : 2 Aggregate diversity: 21 Score: 1.333333, Average bundle size: 2.000000\n",
      "Rank of user 12 : 0, Size of bundle : 2, Bundles purchased : 10 Aggregate diversity: 23 Score: 1.307692, Average bundle size: 2.000000\n",
      "Rank of user 13 : 0, Size of bundle : 2, Bundles purchased : 1 Aggregate diversity: 24 Score: 1.285714, Average bundle size: 2.000000\n",
      "Rank of user 14 : 0, Size of bundle : 2, Bundles purchased : 8 Aggregate diversity: 26 Score: 1.266667, Average bundle size: 2.000000\n",
      "Rank of user 15 : 0, Size of bundle : 2, Bundles purchased : 8 Aggregate diversity: 27 Score: 1.250000, Average bundle size: 2.000000\n",
      "Rank of user 16 : 0, Size of bundle : 2, Bundles purchased : 4 Aggregate diversity: 28 Score: 1.235294, Average bundle size: 2.000000\n",
      "Rank of user 17 : 0, Size of bundle : 2, Bundles purchased : 1 Aggregate diversity: 29 Score: 1.222222, Average bundle size: 2.000000\n",
      "Rank of user 18 : 0, Size of bundle : 2, Bundles purchased : 3 Aggregate diversity: 30 Score: 1.210526, Average bundle size: 2.000000\n",
      "Rank of user 19 : 0, Size of bundle : 2, Bundles purchased : 3 Aggregate diversity: 32 Score: 1.200000, Average bundle size: 2.000000\n",
      "Rank of user 20 : 0, Size of bundle : 2, Bundles purchased : 3 Aggregate diversity: 32 Score: 1.190476, Average bundle size: 2.000000\n",
      "Rank of user 21 : 0, Size of bundle : 2, Bundles purchased : 3 Aggregate diversity: 32 Score: 1.181818, Average bundle size: 2.000000\n",
      "Rank of user 22 : 0, Size of bundle : 2, Bundles purchased : 4 Aggregate diversity: 33 Score: 1.173913, Average bundle size: 2.000000\n",
      "Rank of user 23 : 1, Size of bundle : 2, Bundles purchased : 2 Aggregate diversity: 35 Score: 1.208333, Average bundle size: 2.000000\n",
      "Rank of user 24 : 0, Size of bundle : 2, Bundles purchased : 1 Aggregate diversity: 35 Score: 1.200000, Average bundle size: 2.000000\n",
      "Rank of user 25 : 0, Size of bundle : 2, Bundles purchased : 3 Aggregate diversity: 36 Score: 1.192308, Average bundle size: 2.000000\n",
      "Rank of user 26 : 0, Size of bundle : 2, Bundles purchased : 2 Aggregate diversity: 38 Score: 1.185185, Average bundle size: 2.000000\n",
      "Rank of user 27 : 0, Size of bundle : 2, Bundles purchased : 1 Aggregate diversity: 38 Score: 1.178571, Average bundle size: 2.000000\n",
      "Rank of user 28 : 0, Size of bundle : 2, Bundles purchased : 1 Aggregate diversity: 39 Score: 1.172414, Average bundle size: 2.000000\n",
      "Rank of user 29 : 0, Size of bundle : 2, Bundles purchased : 4 Aggregate diversity: 39 Score: 1.166667, Average bundle size: 2.000000\n",
      "Rank of user 30 : 0, Size of bundle : 2, Bundles purchased : 1 Aggregate diversity: 40 Score: 1.161290, Average bundle size: 2.000000\n",
      "Rank of user 31 : 0, Size of bundle : 2, Bundles purchased : 3 Aggregate diversity: 41 Score: 1.156250, Average bundle size: 2.000000\n",
      "Rank of user 32 : 2, Size of bundle : 2, Bundles purchased : 3 Aggregate diversity: 42 Score: 1.212121, Average bundle size: 2.000000\n",
      "Rank of user 33 : 3, Size of bundle : 2, Bundles purchased : 8 Aggregate diversity: 44 Score: 1.294118, Average bundle size: 2.000000\n",
      "Rank of user 34 : 1, Size of bundle : 2, Bundles purchased : 5 Aggregate diversity: 44 Score: 1.314286, Average bundle size: 2.000000\n",
      "Rank of user 35 : 0, Size of bundle : 2, Bundles purchased : 1 Aggregate diversity: 45 Score: 1.305556, Average bundle size: 2.000000\n",
      "Rank of user 36 : 1, Size of bundle : 2, Bundles purchased : 1 Aggregate diversity: 46 Score: 1.324324, Average bundle size: 2.000000\n",
      "Rank of user 37 : 0, Size of bundle : 2, Bundles purchased : 3 Aggregate diversity: 47 Score: 1.315789, Average bundle size: 2.000000\n",
      "Rank of user 38 : 0, Size of bundle : 2, Bundles purchased : 11 Aggregate diversity: 47 Score: 1.307692, Average bundle size: 2.000000\n",
      "Rank of user 39 : 0, Size of bundle : 2, Bundles purchased : 5 Aggregate diversity: 49 Score: 1.300000, Average bundle size: 2.000000\n",
      "Rank of user 40 : 0, Size of bundle : 2, Bundles purchased : 1 Aggregate diversity: 49 Score: 1.292683, Average bundle size: 2.000000\n",
      "Rank of user 41 : 0, Size of bundle : 2, Bundles purchased : 2 Aggregate diversity: 49 Score: 1.285714, Average bundle size: 2.000000\n",
      "Rank of user 42 : 0, Size of bundle : 2, Bundles purchased : 1 Aggregate diversity: 50 Score: 1.279070, Average bundle size: 2.000000\n",
      "Rank of user 43 : 0, Size of bundle : 2, Bundles purchased : 5 Aggregate diversity: 51 Score: 1.272727, Average bundle size: 2.000000\n",
      "Rank of user 44 : 0, Size of bundle : 2, Bundles purchased : 1 Aggregate diversity: 52 Score: 1.266667, Average bundle size: 2.000000\n",
      "Rank of user 45 : 0, Size of bundle : 2, Bundles purchased : 5 Aggregate diversity: 53 Score: 1.260870, Average bundle size: 2.000000\n",
      "Rank of user 46 : 0, Size of bundle : 2, Bundles purchased : 3 Aggregate diversity: 53 Score: 1.255319, Average bundle size: 2.000000\n",
      "Rank of user 47 : 0, Size of bundle : 2, Bundles purchased : 1 Aggregate diversity: 53 Score: 1.250000, Average bundle size: 2.000000\n",
      "Rank of user 48 : 0, Size of bundle : 2, Bundles purchased : 4 Aggregate diversity: 53 Score: 1.244898, Average bundle size: 2.000000\n",
      "Rank of user 49 : 0, Size of bundle : 2, Bundles purchased : 1 Aggregate diversity: 54 Score: 1.240000, Average bundle size: 2.000000\n",
      "Rank of user 50 : 1, Size of bundle : 2, Bundles purchased : 3 Aggregate diversity: 56 Score: 1.254902, Average bundle size: 2.000000\n",
      "Rank of user 51 : 0, Size of bundle : 2, Bundles purchased : 1 Aggregate diversity: 57 Score: 1.250000, Average bundle size: 2.000000\n",
      "Rank of user 52 : 0, Size of bundle : 2, Bundles purchased : 3 Aggregate diversity: 58 Score: 1.245283, Average bundle size: 2.000000\n",
      "Rank of user 53 : 0, Size of bundle : 2, Bundles purchased : 2 Aggregate diversity: 59 Score: 1.240741, Average bundle size: 2.000000\n",
      "Rank of user 54 : 0, Size of bundle : 2, Bundles purchased : 2 Aggregate diversity: 61 Score: 1.236364, Average bundle size: 2.000000\n",
      "Rank of user 55 : 0, Size of bundle : 2, Bundles purchased : 3 Aggregate diversity: 62 Score: 1.232143, Average bundle size: 2.000000\n",
      "Rank of user 56 : 0, Size of bundle : 2, Bundles purchased : 2 Aggregate diversity: 63 Score: 1.228070, Average bundle size: 2.000000\n",
      "Rank of user 57 : 0, Size of bundle : 2, Bundles purchased : 3 Aggregate diversity: 63 Score: 1.224138, Average bundle size: 2.000000\n",
      "Rank of user 58 : 1, Size of bundle : 2, Bundles purchased : 4 Aggregate diversity: 64 Score: 1.237288, Average bundle size: 2.000000\n",
      "Rank of user 59 : 0, Size of bundle : 2, Bundles purchased : 5 Aggregate diversity: 64 Score: 1.233333, Average bundle size: 2.000000\n",
      "Rank of user 60 : 0, Size of bundle : 2, Bundles purchased : 3 Aggregate diversity: 64 Score: 1.229508, Average bundle size: 2.000000\n",
      "Rank of user 61 : 0, Size of bundle : 2, Bundles purchased : 3 Aggregate diversity: 64 Score: 1.225806, Average bundle size: 2.000000\n",
      "Rank of user 62 : 0, Size of bundle : 2, Bundles purchased : 5 Aggregate diversity: 65 Score: 1.222222, Average bundle size: 2.000000\n",
      "Rank of user 63 : 0, Size of bundle : 2, Bundles purchased : 5 Aggregate diversity: 65 Score: 1.218750, Average bundle size: 2.000000\n",
      "Rank of user 64 : 1, Size of bundle : 2, Bundles purchased : 1 Aggregate diversity: 66 Score: 1.230769, Average bundle size: 2.000000\n",
      "Rank of user 65 : 0, Size of bundle : 2, Bundles purchased : 1 Aggregate diversity: 66 Score: 1.227273, Average bundle size: 2.000000\n",
      "Rank of user 66 : 0, Size of bundle : 2, Bundles purchased : 3 Aggregate diversity: 67 Score: 1.223881, Average bundle size: 2.000000\n",
      "Rank of user 67 : 0, Size of bundle : 2, Bundles purchased : 1 Aggregate diversity: 67 Score: 1.220588, Average bundle size: 2.000000\n",
      "Rank of user 68 : 0, Size of bundle : 2, Bundles purchased : 3 Aggregate diversity: 68 Score: 1.217391, Average bundle size: 2.000000\n",
      "Rank of user 69 : 0, Size of bundle : 2, Bundles purchased : 1 Aggregate diversity: 68 Score: 1.214286, Average bundle size: 2.000000\n",
      "Rank of user 70 : 0, Size of bundle : 2, Bundles purchased : 3 Aggregate diversity: 68 Score: 1.211268, Average bundle size: 2.000000\n",
      "Rank of user 71 : 0, Size of bundle : 2, Bundles purchased : 4 Aggregate diversity: 68 Score: 1.208333, Average bundle size: 2.000000\n",
      "Rank of user 72 : 0, Size of bundle : 2, Bundles purchased : 1 Aggregate diversity: 68 Score: 1.205479, Average bundle size: 2.000000\n",
      "Rank of user 73 : 0, Size of bundle : 2, Bundles purchased : 2 Aggregate diversity: 69 Score: 1.202703, Average bundle size: 2.000000\n",
      "Rank of user 74 : 0, Size of bundle : 2, Bundles purchased : 3 Aggregate diversity: 70 Score: 1.200000, Average bundle size: 2.000000\n",
      "Rank of user 75 : 0, Size of bundle : 2, Bundles purchased : 3 Aggregate diversity: 71 Score: 1.197368, Average bundle size: 2.000000\n",
      "Rank of user 76 : 0, Size of bundle : 2, Bundles purchased : 1 Aggregate diversity: 72 Score: 1.194805, Average bundle size: 2.000000\n",
      "Rank of user 77 : 0, Size of bundle : 2, Bundles purchased : 1 Aggregate diversity: 72 Score: 1.192308, Average bundle size: 2.000000\n",
      "Rank of user 78 : 0, Size of bundle : 2, Bundles purchased : 2 Aggregate diversity: 73 Score: 1.189873, Average bundle size: 2.000000\n",
      "Rank of user 79 : 0, Size of bundle : 2, Bundles purchased : 3 Aggregate diversity: 73 Score: 1.187500, Average bundle size: 2.000000\n",
      "Rank of user 80 : 0, Size of bundle : 2, Bundles purchased : 1 Aggregate diversity: 74 Score: 1.185185, Average bundle size: 2.000000\n",
      "Rank of user 81 : 0, Size of bundle : 2, Bundles purchased : 3 Aggregate diversity: 74 Score: 1.182927, Average bundle size: 2.000000\n",
      "Rank of user 82 : 0, Size of bundle : 2, Bundles purchased : 4 Aggregate diversity: 74 Score: 1.180723, Average bundle size: 2.000000\n",
      "Rank of user 83 : 0, Size of bundle : 2, Bundles purchased : 3 Aggregate diversity: 75 Score: 1.178571, Average bundle size: 2.000000\n",
      "Rank of user 84 : 0, Size of bundle : 2, Bundles purchased : 1 Aggregate diversity: 76 Score: 1.176471, Average bundle size: 2.000000\n",
      "Rank of user 85 : 2, Size of bundle : 2, Bundles purchased : 1 Aggregate diversity: 77 Score: 1.197674, Average bundle size: 2.000000\n",
      "Rank of user 86 : 0, Size of bundle : 2, Bundles purchased : 6 Aggregate diversity: 77 Score: 1.195402, Average bundle size: 2.000000\n",
      "Rank of user 87 : 0, Size of bundle : 2, Bundles purchased : 5 Aggregate diversity: 78 Score: 1.193182, Average bundle size: 2.000000\n",
      "Rank of user 88 : 0, Size of bundle : 2, Bundles purchased : 12 Aggregate diversity: 78 Score: 1.191011, Average bundle size: 2.000000\n",
      "Rank of user 89 : 0, Size of bundle : 2, Bundles purchased : 1 Aggregate diversity: 78 Score: 1.188889, Average bundle size: 2.000000\n",
      "Rank of user 90 : 0, Size of bundle : 2, Bundles purchased : 5 Aggregate diversity: 78 Score: 1.186813, Average bundle size: 2.000000\n",
      "Rank of user 91 : 0, Size of bundle : 2, Bundles purchased : 1 Aggregate diversity: 79 Score: 1.184783, Average bundle size: 2.000000\n",
      "Rank of user 92 : 0, Size of bundle : 2, Bundles purchased : 1 Aggregate diversity: 79 Score: 1.182796, Average bundle size: 2.000000\n",
      "Rank of user 93 : 1, Size of bundle : 2, Bundles purchased : 1 Aggregate diversity: 79 Score: 1.191489, Average bundle size: 2.000000\n",
      "Rank of user 94 : 1, Size of bundle : 2, Bundles purchased : 2 Aggregate diversity: 81 Score: 1.200000, Average bundle size: 2.000000\n",
      "Rank of user 95 : 0, Size of bundle : 2, Bundles purchased : 6 Aggregate diversity: 81 Score: 1.197917, Average bundle size: 2.000000\n",
      "Rank of user 96 : 0, Size of bundle : 2, Bundles purchased : 3 Aggregate diversity: 81 Score: 1.195876, Average bundle size: 2.000000\n",
      "Rank of user 97 : 0, Size of bundle : 2, Bundles purchased : 3 Aggregate diversity: 81 Score: 1.193878, Average bundle size: 2.000000\n",
      "Rank of user 98 : 0, Size of bundle : 2, Bundles purchased : 5 Aggregate diversity: 82 Score: 1.191919, Average bundle size: 2.000000\n",
      "Rank of user 99 : 0, Size of bundle : 2, Bundles purchased : 1 Aggregate diversity: 82 Score: 1.190000, Average bundle size: 2.000000\n"
     ]
    }
   ],
   "source": [
    "sizes=[10]\n",
    "diversities=[]\n",
    "scores=[]\n",
    "bundle_sizes=[]\n",
    "for size in sizes:\n",
    "    aggregate_diversity=set()\n",
    "    pred_score=[]\n",
    "    b_size=[]\n",
    "    generated_bundles=[]\n",
    "    for user in sorted(user_bundle_map.keys())[:100]:\n",
    "        new_bundle = generate_bundle(items_set, user, 4, 1000,size)\n",
    "        rank = get_bundle_rank(user, new_bundle, bundle_item_map, bundle_diversity_map)\n",
    "        purchased_bundles = len(user_bundle_map[user])\n",
    "        aggregate_diversity=aggregate_diversity.union(set(new_bundle))\n",
    "        generated_bundles.append(new_bundle)\n",
    "        pred_score.append(rank)\n",
    "        b_size.append(len(new_bundle)*1.0)\n",
    "        print 'Rank of user %d : %d, Size of bundle : %d, Bundles purchased : %d Aggregate diversity: %d Score: %f, Average bundle size: %f' %(user, \n",
    "                                                                                     rank, \n",
    "                                                                                     len(new_bundle),                                 \n",
    "                                                                                     purchased_bundles,\n",
    "                                                                                     len(aggregate_diversity),\n",
    "                                                                                     1.0+np.mean(pred_score),\n",
    "                                                                                     np.mean(b_size))\n",
    "    diversities.append(len(aggregate_diversity))\n",
    "    scores.append(1.0+np.mean(pred_score))\n",
    "    bundle_sizes.append(np.mean(b_size)*100)\n",
    "    "
   ]
  },
  {
   "cell_type": "code",
   "execution_count": null,
   "metadata": {
    "collapsed": true,
    "scrolled": true
   },
   "outputs": [],
   "source": []
  }
 ],
 "metadata": {
  "celltoolbar": "Raw Cell Format",
  "kernelspec": {
   "display_name": "Python [conda env:py27]",
   "language": "python",
   "name": "conda-env-py27-py"
  },
  "language_info": {
   "codemirror_mode": {
    "name": "ipython",
    "version": 2
   },
   "file_extension": ".py",
   "mimetype": "text/x-python",
   "name": "python",
   "nbconvert_exporter": "python",
   "pygments_lexer": "ipython2",
   "version": "2.7.13"
  }
 },
 "nbformat": 4,
 "nbformat_minor": 0
}
