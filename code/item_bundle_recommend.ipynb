{
 "cells": [
  {
   "cell_type": "code",
   "execution_count": 1,
   "metadata": {
    "collapsed": true
   },
   "outputs": [],
   "source": [
    "import pickle\n",
    "import sys\n",
    "import json\n",
    "import matplotlib.pyplot as plt\n",
    "import numpy as np\n",
    "from collections import defaultdict\n",
    "import os\n",
    "import cPickle\n",
    "%matplotlib inline"
   ]
  },
  {
   "cell_type": "code",
   "execution_count": 2,
   "metadata": {
    "collapsed": false
   },
   "outputs": [],
   "source": [
    "items_set = set()\n",
    "for i in range(2515):\n",
    "    items_set.add(i)\n",
    "user_item_map=pickle.load(open('../data/new_data/user_item_map.pkl','rb'))\n",
    "item_id_lookup = pickle.load(open('../data/new_data/item_id_lookup.pkl','rb'))\n",
    "item_data=pickle.load(open('../data/processed_data/all_items','rb'))\n"
   ]
  },
  {
   "cell_type": "code",
   "execution_count": 3,
   "metadata": {
    "collapsed": false
   },
   "outputs": [
    {
     "name": "stdout",
     "output_type": "stream",
     "text": [
      "(2515, 327)\n"
     ]
    }
   ],
   "source": [
    "item_data_map=dict() #appid, item\n",
    "tags_set=set()\n",
    "for item in item_data:\n",
    "    item_data_map[int(item['appid'])]=item\n",
    "    for tag in item['tags']:\n",
    "        tags_set.add(tag)\n",
    "        \n",
    "tags_map=dict()\n",
    "ind_tags_map = dict()\n",
    "for i,tag in enumerate(tags_set):\n",
    "    tags_map[tag] = i \n",
    "    ind_tags_map[i] = tag\n",
    "    \n",
    "    \n",
    "def get_feat(tags):\n",
    "    feat=np.zeros(len(tags_map))\n",
    "    for tag in tags:\n",
    "        feat[tags_map[tag]]=1\n",
    "    return feat\n",
    "\n",
    "def get_item_data_map_id(index):\n",
    "    id = item_id_lookup[index]\n",
    "    for i in range(0,len(item_data)-1):\n",
    "        if int(item_data[i]['appid']) == id:\n",
    "            return i\n",
    "            \n",
    "tag_array = np.array([get_feat(item_data[get_item_data_map_id(i)]['tags']) for i in items_set])\n",
    "print(tag_array.shape)"
   ]
  },
  {
   "cell_type": "code",
   "execution_count": 4,
   "metadata": {
    "collapsed": true
   },
   "outputs": [],
   "source": [
    "user_bundle_map=pickle.load(open('../data/new_data/user_bundle_map.pkl','rb')) \n",
    "bundle_item_map=pickle.load(open('../data/new_data/bundle_item_map.pkl','rb')) "
   ]
  },
  {
   "cell_type": "code",
   "execution_count": 5,
   "metadata": {
    "collapsed": true
   },
   "outputs": [],
   "source": [
    "all_data=[] #list: [(user index, bundle index)]\n",
    "\n",
    "for user,bundles in user_bundle_map.items():\n",
    "    for bundle in bundles:\n",
    "        all_data.append((user,bundle))\n",
    "        \n",
    "all_item_data=[] #list: [(user index, item index)]\n",
    "for user,items in user_item_map.items():\n",
    "    for item in items:\n",
    "        all_item_data.append((user,item))"
   ]
  },
  {
   "cell_type": "code",
   "execution_count": 6,
   "metadata": {
    "collapsed": true
   },
   "outputs": [],
   "source": [
    "import random\n",
    "random.shuffle(all_data)\n",
    "random.shuffle(all_item_data)\n",
    "\n",
    "# Training data for bundle for bpr model\n",
    "training_data=all_data[:int(0.8*len(all_data))]\n",
    "test_data=all_data[int(0.8*len(all_data)):]\n",
    "\n",
    "# Training data for items for bpr_item model\n",
    "training_data_2=all_item_data[:int(0.8*len(all_item_data))]\n",
    "test_data_2=all_item_data[int(0.8*len(all_item_data)):]"
   ]
  },
  {
   "cell_type": "code",
   "execution_count": 7,
   "metadata": {
    "collapsed": true
   },
   "outputs": [],
   "source": [
    "#if user1's item/bundle is not in user2's bundle map, and user2's item/bundle is not in user1's\n",
    "def check_tuple(tuple_1, tuple_2, user_bundle_map):\n",
    "    return tuple_1[1] not in user_bundle_map[tuple_2[0]] and tuple_2[1] not in user_bundle_map[tuple_1[0]]\n",
    "\n",
    "#negative items and bundles follow the same degree distribution\n",
    "def graph_sampling(n_samples, training_data, user_bundle_map):\n",
    "    sgd_users=[]\n",
    "    sgd_pos_items, sgd_neg_items = [], []\n",
    "    i=0\n",
    "    while n_samples>0:\n",
    "        if i%100000==0:\n",
    "            print i\n",
    "        i+=1\n",
    "        tuple_1=training_data[np.random.randint(len(training_data))]\n",
    "        tuple_2=training_data[np.random.randint(len(training_data))]\n",
    "        iteration=100\n",
    "        while not check_tuple(tuple_1, tuple_2, user_bundle_map):\n",
    "            tuple_2=training_data[np.random.randint(len(training_data))]\n",
    "            iteration-=1\n",
    "            if iteration == 0:\n",
    "                break\n",
    "        if iteration==0:\n",
    "            continue   \n",
    "        sgd_neg_items.append(tuple_2[1])\n",
    "        sgd_pos_items.append(tuple_1[1])\n",
    "        sgd_users.append(tuple_1[0])\n",
    "        \n",
    "        sgd_neg_items.append(tuple_1[1])\n",
    "        sgd_pos_items.append(tuple_2[1])\n",
    "        sgd_users.append(tuple_2[0])\n",
    "        n_samples-=2\n",
    "    return sgd_users, sgd_pos_items, sgd_neg_items"
   ]
  },
  {
   "cell_type": "code",
   "execution_count": 8,
   "metadata": {
    "collapsed": false
   },
   "outputs": [
    {
     "name": "stdout",
     "output_type": "stream",
     "text": [
      "0\n",
      "100000\n",
      "200000\n",
      "300000\n",
      "400000\n",
      "500000\n",
      "600000\n",
      "700000\n",
      "800000\n",
      "900000\n",
      "1000000\n",
      "1100000\n",
      "1200000\n",
      "1300000\n",
      "1400000\n",
      "1500000\n",
      "1600000\n",
      "1700000\n",
      "1800000\n",
      "1900000\n",
      "2000000\n",
      "2100000\n",
      "2200000\n",
      "2300000\n",
      "2400000\n",
      "2500000\n",
      "2600000\n",
      "2700000\n",
      "2800000\n",
      "2900000\n",
      "3000000\n",
      "3100000\n",
      "3200000\n",
      "3300000\n",
      "3400000\n",
      "3500000\n",
      "3600000\n",
      "3700000\n",
      "3800000\n",
      "3900000\n",
      "4000000\n",
      "4100000\n",
      "4200000\n",
      "4300000\n",
      "4400000\n",
      "4500000\n",
      "4600000\n",
      "4700000\n",
      "4800000\n",
      "4900000\n",
      "5000000\n",
      "5100000\n",
      "5200000\n",
      "5300000\n",
      "5400000\n",
      "5500000\n",
      "5600000\n",
      "5700000\n",
      "5800000\n",
      "5900000\n",
      "6000000\n",
      "6100000\n",
      "6200000\n",
      "6300000\n",
      "6400000\n",
      "6500000\n",
      "6600000\n",
      "6700000\n",
      "6800000\n",
      "6900000\n",
      "7000000\n",
      "7100000\n",
      "7200000\n",
      "7300000\n",
      "7400000\n",
      "7500000\n",
      "7600000\n",
      "7700000\n",
      "7800000\n",
      "7900000\n",
      "8000000\n",
      "8100000\n",
      "8200000\n",
      "8300000\n",
      "8400000\n",
      "8500000\n",
      "8600000\n",
      "8700000\n",
      "8800000\n",
      "8900000\n",
      "9000000\n",
      "9100000\n",
      "9200000\n",
      "9300000\n"
     ]
    }
   ],
   "source": [
    "# Generting training data for items through graph sampling.\n",
    "sgd_train_users_items, sgd_train_pos_items, sgd_train_neg_items = graph_sampling(len(training_data_2)*30, training_data_2, user_item_map)"
   ]
  },
  {
   "cell_type": "code",
   "execution_count": 9,
   "metadata": {
    "collapsed": false
   },
   "outputs": [
    {
     "name": "stdout",
     "output_type": "stream",
     "text": [
      "<type 'list'>\n",
      "[206, 1487, 158, 1990, 206] 18615300\n",
      "[1487, 206, 1990, 158, 124] 18615300\n"
     ]
    }
   ],
   "source": [
    "print type(sgd_train_pos_items)\n",
    "print sgd_train_pos_items[0:5], len(sgd_train_pos_items)\n",
    "print sgd_train_neg_items[0:5], len(sgd_train_neg_items)"
   ]
  },
  {
   "cell_type": "code",
   "execution_count": 10,
   "metadata": {
    "collapsed": true
   },
   "outputs": [],
   "source": [
    "def get_test_data_items(test_data, train_data):\n",
    "    users=[]\n",
    "    pos_items=[]\n",
    "    neg_items=[]\n",
    "    train_dict, train_users, train_items  = data_to_dict(train_data)\n",
    "    test_dict, test_users, test_items = data_to_dict(test_data)\n",
    "    z = 0\n",
    "    for i,user in enumerate(test_dict.keys()):\n",
    "        if(i%1000==0):\n",
    "            print i\n",
    "\n",
    "        if user in train_users: \n",
    "            for pos_item in test_dict[user]:\n",
    "                if pos_item in train_items:\n",
    "                    for neg_item in train_items:\n",
    "                        if neg_item not in test_dict[user] and neg_item not in train_dict[user]:\n",
    "                            users.append(user)\n",
    "                            pos_items.append(pos_item)\n",
    "                            neg_items.append(neg_item)\n",
    "\n",
    "    return users, pos_items, neg_items\n",
    "\n",
    "\n",
    "def data_to_dict(data):\n",
    "    data_dict = defaultdict(list)\n",
    "    items = set()\n",
    "    for (user, item) in data:\n",
    "        data_dict[user].append(item)\n",
    "        items.add(item)\n",
    "    return data_dict, set(data_dict.keys()), items"
   ]
  },
  {
   "cell_type": "code",
   "execution_count": 11,
   "metadata": {
    "collapsed": false
   },
   "outputs": [
    {
     "name": "stdout",
     "output_type": "stream",
     "text": [
      "0\n",
      "1000\n",
      "2000\n",
      "3000\n",
      "4000\n",
      "5000\n",
      "6000\n",
      "7000\n",
      "8000\n",
      "9000\n",
      "10000\n",
      "11000\n",
      "12000\n",
      "13000\n",
      "14000\n",
      "15000\n",
      "16000\n",
      "17000\n",
      "18000\n",
      "19000\n",
      "20000\n",
      "21000\n",
      "22000\n",
      "23000\n",
      "24000\n",
      "25000\n",
      "26000\n",
      "27000\n"
     ]
    }
   ],
   "source": [
    "test_users_cold, test_pos_items_cold, test_neg_items_cold = get_test_data_items(test_data_2, training_data_2)"
   ]
  },
  {
   "cell_type": "code",
   "execution_count": 12,
   "metadata": {
    "collapsed": false
   },
   "outputs": [
    {
     "name": "stdout",
     "output_type": "stream",
     "text": [
      "new test data length: 4025471\n"
     ]
    }
   ],
   "source": [
    "new_test_users=[]\n",
    "new_test_pos=[]\n",
    "new_test_neg=[]\n",
    "\n",
    "for i in range(len(test_users_cold)):\n",
    "    if(i%45==0):\n",
    "        new_test_users.append(test_users_cold[i])\n",
    "        new_test_pos.append(test_pos_items_cold[i])\n",
    "        new_test_neg.append(test_neg_items_cold[i])\n",
    "print \"new test data length:\", len(new_test_users)"
   ]
  },
  {
   "cell_type": "code",
   "execution_count": 13,
   "metadata": {
    "collapsed": true
   },
   "outputs": [],
   "source": [
    "test_users_cold,test_pos_items_cold,test_neg_items_cold = new_test_users, new_test_pos, new_test_neg"
   ]
  },
  {
   "cell_type": "code",
   "execution_count": 14,
   "metadata": {
    "collapsed": true
   },
   "outputs": [],
   "source": [
    "import os\n",
    "os.environ['THEANO_FLAGS']='mode=FAST_RUN,device=cpu,lib.cnmem=0.7,floatX=float32'"
   ]
  },
  {
   "cell_type": "code",
   "execution_count": 15,
   "metadata": {
    "collapsed": false
   },
   "outputs": [],
   "source": [
    "# theano-bpr\n",
    "#\n",
    "# Copyright (c) 2014 British Broadcasting Corporation\n",
    "#\n",
    "# Licensed under the Apache License, Version 2.0 (the \"License\");\n",
    "# you may not use this file except in compliance with the License.\n",
    "# You may obtain a copy of the License at\n",
    "#\n",
    "# http://www.apache.org/licenses/LICENSE-2.0\n",
    "#\n",
    "# Unless required by applicable law or agreed to in writing, software\n",
    "# distributed under the License is distributed on an \"AS IS\" BASIS,\n",
    "# WITHOUT WARRANTIES OR CONDITIONS OF ANY KIND, either express or implied.\n",
    "# See the License for the specific language governing permissions and\n",
    "# limitations under the License.\n",
    "\n",
    "import theano, numpy\n",
    "import theano.tensor as T\n",
    "import time\n",
    "import sys\n",
    "from collections import defaultdict\n",
    "\n",
    "class BPR_Item(object):\n",
    "\n",
    "    def __init__(self, rank, n_users, n_items, n_tags, tag_array, lambda_u = 0.0025, lambda_i = 0.0025, lambda_j = 0.00025, lambda_d = 0.0025, lambda_p = 0.00025, lambda_q = 0.00025, lambda_bias = 0.0, learning_rate = 0.05):\n",
    "        \n",
    "        self._rank = rank\n",
    "        self._n_users = n_users\n",
    "        self._n_items = n_items\n",
    "        self._n_tags = n_tags\n",
    "        self._lambda_u = lambda_u\n",
    "        self._lambda_i = lambda_i\n",
    "        self._lambda_j = lambda_j\n",
    "        self._lambda_d = lambda_d\n",
    "        self._lambda_p = lambda_p\n",
    "        self._lambda_q = lambda_q\n",
    "        self._lambda_bias = lambda_bias\n",
    "        self._learning_rate = learning_rate\n",
    "        self.TG = theano.shared(tag_array.astype('float32'), name='TG')\n",
    "        self._configure_theano()\n",
    "        self._generate_train_model_function()\n",
    "        self._generate_test_model_function()\n",
    "\n",
    "    def _configure_theano(self):\n",
    "        \"\"\"\n",
    "          Configures Theano to run in fast mode\n",
    "          and using 32-bit floats. \n",
    "        \"\"\"\n",
    "        theano.config.mode = 'FAST_RUN'\n",
    "        theano.config.floatX = 'float32'\n",
    "\n",
    "    def _generate_train_model_function(self):\n",
    "        u = T.lvector('u')\n",
    "        i = T.lvector('i')\n",
    "        j = T.lvector('j')\n",
    "\n",
    "        h = numpy.random.random((self._n_items, self._rank))\n",
    "        b = numpy.random.random(self._n_items)#1*n_items\n",
    "        x = numpy.random.random((self._n_users, self._n_tags))\n",
    "#         tg = numpy.random.random((self._n_items, self._n_tags))\n",
    "        #### needs change ###\n",
    "        \n",
    "        self.W = theano.shared(numpy.random.random((self._n_users, self._rank)).astype('float32'), name='W')#P\n",
    "        self.H = theano.shared(h.astype('float32'), name='H')#Q\n",
    "        self.theta = theano.shared(x.astype('float32'), name='theta')\n",
    "        self.B = theano.shared(b.astype('float32'), name='B')#beta\n",
    "#         self.TG = theano.shared(tg.astype('float32'), name='TG')\n",
    "\n",
    "        \n",
    "#         A = theano.shared(tag_matrix.astype(\"int32\"))\n",
    "        #nd_list = numpy.asarray(item_data)\n",
    "        #theano_item_data = theano.shared(nd_list)\n",
    "        #self.A_i = theano.shared(get_feat(theano_item_data[i]['tags']),name='A_i')\n",
    "        #self.A_j = theano.shared(get_feat(theano_item_data[j]['tags']),name='A_j')\n",
    "        \n",
    "        #x_ui = B_i+P_u*Q_i+X_u*A_i\n",
    "        self.W[u]\n",
    "        x_ui = T.dot(self.W[u], self.H[i].T).diagonal() + self.B[i] + T.dot(self.theta[u], self.TG[i].T).diagonal()\n",
    "        x_uj = T.dot(self.W[u], self.H[j].T).diagonal() + self.B[j] + T.dot(self.theta[u], self.TG[j].T).diagonal()\n",
    "        x_uij = T.nnet.sigmoid(x_ui-x_uj)\n",
    "        \n",
    "        obj = T.sum(T.log(x_uij) - self._lambda_u * (self.W[u] ** 2).sum(axis=1) - \n",
    "                    self._lambda_i * (self.H[i] ** 2).sum(axis=1) - self._lambda_j * \n",
    "                    (self.H[j] ** 2).sum(axis=1) - self._lambda_bias * \n",
    "                    (self.B[i] ** 2 + self.B[j] ** 2) - self._lambda_d * (self.theta[u] ** 2).sum(axis=1))\n",
    "        \n",
    "        T.printing.Print('still training')\n",
    "    \n",
    "        cost = - obj\n",
    "\n",
    "        g_cost_W = T.grad(cost=cost, wrt=self.W)\n",
    "        g_cost_H = T.grad(cost=cost, wrt=self.H)\n",
    "        g_cost_B = T.grad(cost=cost, wrt=self.B)\n",
    "        g_cost_theta = T.grad(cost=cost, wrt=self.theta)\n",
    "\n",
    "        updates = [(self.W, self.W - self._learning_rate * g_cost_W), (self.H, self.H - self._learning_rate * g_cost_H), \n",
    "                   (self.B, self.B - self._learning_rate * g_cost_B), (self.theta, self.theta - self._learning_rate * g_cost_theta)]\n",
    "        \n",
    "                                                  #u, i_p, i_n    \n",
    "        self.train_model = theano.function(inputs=[u, i, j], outputs=cost, updates=updates)\n",
    "\n",
    "    \n",
    "    def train(self, s_users=None, s_pos_items=None, s_neg_items=None, batch_size=1000):\n",
    "        \"\"\"\n",
    "          Trains the BPR Matrix Factorisation model using Stochastic\n",
    "          Gradient Descent and minibatches over `train_data`.\n",
    "\n",
    "          `train_data` is an array of (user_index, item_index) tuples.\n",
    "\n",
    "          We first create a set of random samples from `train_data` for \n",
    "          training, of size `epochs` * size of `train_data`.\n",
    "\n",
    "          We then iterate through the resulting training samples by\n",
    "          batches of length `batch_size`, and run one iteration of gradient\n",
    "          descent for the batch.\n",
    "        \"\"\"\n",
    "        if len(s_pos_items) < batch_size:\n",
    "            sys.stderr.write(\"WARNING: Batch size is greater than number of training samples, switching to a batch size of %s\\n\" % str(len(train_data)))\n",
    "            batch_size = len(s_pos_items)\n",
    "            \n",
    "        sgd_users, sgd_pos_items, sgd_neg_items = s_users, s_pos_items, s_neg_items\n",
    "        n_sgd_samples = len(s_users)\n",
    "        \n",
    "        z = 0\n",
    "        t2 = t1 = t0 = time.time()\n",
    "        while (z+1)*batch_size < n_sgd_samples:\n",
    "            self.train_model(\n",
    "                sgd_users[z*batch_size: (z+1)*batch_size],\n",
    "                sgd_pos_items[z*batch_size: (z+1)*batch_size],\n",
    "                sgd_neg_items[z*batch_size: (z+1)*batch_size]\n",
    "            )\n",
    "            z += 1\n",
    "            t2 = time.time()\n",
    "            sys.stderr.write(\"\\rProcessed %s ( %.2f%% ) in %.4f seconds\" %(str(z*batch_size), 100.0 * float(z*batch_size)/n_sgd_samples, t2 - t1))\n",
    "            sys.stderr.flush()\n",
    "            t1 = t2\n",
    "        if n_sgd_samples > 0:\n",
    "            sys.stderr.write(\"\\nTotal training time %.2f seconds; %e per sample\\n\" % (t2 - t0, (t2 - t0)/n_sgd_samples))\n",
    "            sys.stderr.flush()\n",
    "            \n",
    "    def _generate_test_model_function(self):\n",
    "        \"\"\"\n",
    "          Computes item predictions for `user_index`.\n",
    "          Returns an array of prediction values for each item\n",
    "          in the dataset.\n",
    "        \"\"\"\n",
    "        u = T.lvector('u')\n",
    "        i = T.lvector('i')\n",
    "        j = T.lvector('j')\n",
    "        \n",
    "        x_ui = T.dot(self.W[u], self.H[i].T).diagonal() + self.B[i] + T.dot(self.theta[u], self.TG[i].T).diagonal()\n",
    "        x_uj = T.dot(self.W[u], self.H[j].T).diagonal() + self.B[j] + T.dot(self.theta[u], self.TG[j].T).diagonal()\n",
    "        x_uij = x_ui-x_uj\n",
    "        \n",
    "        self.test_model = theano.function(inputs=[u, i, j], outputs=x_uij)\n",
    "   \n",
    "    def test_bundle(self, sgd_users, sgd_pos_items, sgd_neg_items, batch_size=1000):\n",
    "        \"\"\"\n",
    "          Computes the Area Under Curve (AUC) on `test_data`.\n",
    "\n",
    "          `test_data` is an array of (user_index, item_index) tuples.\n",
    "\n",
    "          During this computation we ignore users and items\n",
    "          that didn't appear in the training data, to allow\n",
    "          for non-overlapping training and testing sets.\n",
    "        \"\"\"\n",
    "        \n",
    "        auc_values = []\n",
    "        z = 0\n",
    "        t2 = t1 = t0 = time.time()\n",
    "        n_sgd_samples = len(sgd_users)\n",
    "        while (z+1)*batch_size < n_sgd_samples:\n",
    "            pref_list=self.test_model(\n",
    "                sgd_users[z*batch_size: (z+1)*batch_size],\n",
    "                sgd_pos_items[z*batch_size: (z+1)*batch_size],\n",
    "                sgd_neg_items[z*batch_size: (z+1)*batch_size]\n",
    "            )\n",
    "            z += 1\n",
    "            t2 = time.time()\n",
    "            sys.stderr.write(\"\\rProcessed %s ( %.2f%% ) in %.4f seconds\" %(str(z*batch_size), 100.0 * float(z*batch_size)/n_sgd_samples, t2 - t1))\n",
    "            t1 = t2\n",
    "            \n",
    "            auc = np.sum([1.0 if a>0.0 else 0.0 for a in pref_list])\n",
    "            auc /= batch_size\n",
    "            \n",
    "            auc_values.append(auc)\n",
    "            sys.stderr.write(\"\\rCurrent AUC mean (%s samples): %0.5f\" % (str(z*batch_size), numpy.mean(auc_values)))\n",
    "            sys.stderr.flush()\n",
    "        \n",
    "        sys.stderr.write(\"\\n\")\n",
    "        sys.stderr.flush()\n",
    "        return numpy.mean(auc_values)"
   ]
  },
  {
   "cell_type": "code",
   "execution_count": 16,
   "metadata": {
    "collapsed": false
   },
   "outputs": [],
   "source": [
    "bpr_item = BPR_Item(10, len(user_item_map.keys()), len(items_set), len(tags_map), tag_array)"
   ]
  },
  {
   "cell_type": "code",
   "execution_count": null,
   "metadata": {
    "collapsed": true
   },
   "outputs": [],
   "source": [
    "cPickle.dump(sgd_train_users_items, open('../train_test_data2/sgd_train_users_items.pkl', 'w'))\n",
    "cPickle.dump(sgd_train_pos_items, open('../train_test_data2/sgd_train_pos_items.pkl', 'w'))\n",
    "cPickle.dump(sgd_train_neg_items, open('../train_test_data2/sgd_train_neg_items.pkl', 'w'))\n",
    "cPickle.dump(test_users_cold, open('../train_test_data2/test_users_cold.pkl', 'w'))\n",
    "cPickle.dump(test_pos_items_cold, open('../train_test_data2/test_pos_items_cold.pkl', 'w'))\n",
    "cPickle.dump(test_neg_items_cold, open('../train_test_data2/test_neg_items_cold.pkl', 'w'))"
   ]
  },
  {
   "cell_type": "code",
   "execution_count": null,
   "metadata": {
    "collapsed": false
   },
   "outputs": [
    {
     "name": "stderr",
     "output_type": "stream",
     "text": [
      "Processed 22000 ( 0.12% ) in 0.0977 seconds"
     ]
    }
   ],
   "source": [
    "bpr_item.train(s_users=sgd_train_users_items, s_pos_items=sgd_train_pos_items, s_neg_items=sgd_train_neg_items)"
   ]
  },
  {
   "cell_type": "code",
   "execution_count": null,
   "metadata": {
    "collapsed": false
   },
   "outputs": [],
   "source": [
    "bpr_item.test_bundle(test_users_cold, test_pos_items_cold, test_neg_items_cold)"
   ]
  },
  {
   "cell_type": "code",
   "execution_count": null,
   "metadata": {
    "collapsed": false
   },
   "outputs": [],
   "source": [
    "print max_bundle_size"
   ]
  },
  {
   "cell_type": "code",
   "execution_count": null,
   "metadata": {
    "collapsed": false
   },
   "outputs": [],
   "source": [
    "# Generting training data for bundles through graph sampling.\n",
    "sgd_users, sgd_pos_bundles, sgd_neg_bundles = graph_sampling(len(training_data)*30, training_data, user_bundle_map)"
   ]
  },
  {
   "cell_type": "code",
   "execution_count": null,
   "metadata": {
    "collapsed": false,
    "scrolled": true
   },
   "outputs": [],
   "source": [
    "print len(sgd_users)"
   ]
  },
  {
   "cell_type": "code",
   "execution_count": null,
   "metadata": {
    "collapsed": false
   },
   "outputs": [],
   "source": [
    "# Determining max bundle size to create bins for N\n",
    "max_bundle_size=0\n",
    "for bundle,items in bundle_item_map.items():\n",
    "    if(len(items)>max_bundle_size):\n",
    "        max_bundle_size=len(items)\n",
    "print max_bundle_size\n",
    "print len(items_set)"
   ]
  },
  {
   "cell_type": "code",
   "execution_count": null,
   "metadata": {
    "collapsed": true
   },
   "outputs": [],
   "source": [
    "def get_items(bundle_id, max_bundle_size, index):\n",
    "    item=list(bundle_item_map[bundle_id]);\n",
    "    for i in range(len(item),max_bundle_size):\n",
    "        item.append(index)\n",
    "    return item\n",
    "\n",
    "sgd_pos_items=[get_items(b_id, max_bundle_size, len(items_set)) for b_id in sgd_pos_bundles]\n",
    "sgd_neg_items=[get_items(b_id, max_bundle_size, len(items_set)) for b_id in sgd_neg_bundles]\n"
   ]
  },
  {
   "cell_type": "code",
   "execution_count": null,
   "metadata": {
    "collapsed": true
   },
   "outputs": [],
   "source": [
    "from sklearn.metrics import jaccard_similarity_score\n",
    "from sklearn.metrics.pairwise import cosine_similarity\n",
    "def compute_diversity_tags(app_data):\n",
    "    l=len(app_data)\n",
    "    app_data=[item_id_lookup[d] for d in app_data]\n",
    "    count=0.0\n",
    "    similarity=0.0\n",
    "    for i in range(l):\n",
    "        if app_data[i] in item_data_map:\n",
    "            for j in range(i+1,l):\n",
    "                if app_data[j] in item_data_map:\n",
    "                    count+=1\n",
    "                    similarity+=jaccard_similarity_score(get_feat(item_data_map[app_data[i]]['tags']),\n",
    "                                                         get_feat(item_data_map[app_data[j]]['tags']))\n",
    "    if count>0:\n",
    "        return 1-(similarity/count)\n",
    "    else:\n",
    "        return 0.0\n",
    "\n",
    "def compute_diversity_latent(app_data, H):\n",
    "    l=len(app_data)\n",
    "    count=0.0\n",
    "    similarity=0.0\n",
    "    for i in range(l):\n",
    "            for j in range(i+1,l):\n",
    "                    itemID1, itemID2 = app_data[i], app_data[j]\n",
    "                    count+=1\n",
    "                    similarity+=cosine_similarity(H[itemID1].reshape(1,-1),H[itemID2].reshape(1,-1))[0,0]\n",
    "    if count>0:\n",
    "        return 1-(similarity/count)\n",
    "    else:\n",
    "        return 0.0\n",
    "    \n",
    "def compute_diversity(app_data, H):\n",
    "    if H is not None:\n",
    "        return compute_diversity_latent(app_data, H)\n",
    "    else :\n",
    "        return compute_diversity_tags(app_data)"
   ]
  },
  {
   "cell_type": "code",
   "execution_count": null,
   "metadata": {
    "collapsed": false
   },
   "outputs": [],
   "source": [
    "Gamma=bpr_item.H.eval()\n",
    "bundle_diversity_map=dict()\n",
    "for bundle,items in bundle_item_map.items():\n",
    "    bundle_diversity_map[bundle]=compute_diversity_latent(list(items), bpr_item.H.eval())\n",
    "\n",
    "#bundle_diversity_map=pickle.load(open('../../data/pickle/training_data/game_aus/bpr/bundle_diversity_map','rb'))"
   ]
  },
  {
   "cell_type": "code",
   "execution_count": null,
   "metadata": {
    "collapsed": true
   },
   "outputs": [],
   "source": [
    "sgd_pos_len=[len(bundle_item_map[b_id]) for b_id in sgd_pos_bundles]\n",
    "sgd_neg_len=[len(bundle_item_map[b_id]) for b_id in sgd_neg_bundles]\n",
    "sgd_pos_diversity=[bundle_diversity_map[b_id] for b_id in sgd_pos_bundles]\n",
    "sgd_neg_diversity=[bundle_diversity_map[b_id] for b_id in sgd_neg_bundles]"
   ]
  },
  {
   "cell_type": "code",
   "execution_count": null,
   "metadata": {
    "collapsed": true
   },
   "outputs": [],
   "source": [
    "def get_test_data_bundles(test_data, train_data, n_items):\n",
    "    users=[]\n",
    "    pos_items=[]\n",
    "    neg_items=[]\n",
    "    n1=[]\n",
    "    n2=[]\n",
    "    pos_diversity=[]\n",
    "    neg_diversity=[]\n",
    "    train_dict, train_users, train_items  = data_to_dict(train_data)\n",
    "    test_dict, test_users, test_items = data_to_dict(test_data)\n",
    "    auc_values = []\n",
    "    z = 0\n",
    "    for i,user in enumerate(test_dict.keys()):\n",
    "        if(i%1000==0):\n",
    "            print i\n",
    "\n",
    "        if user in train_users: \n",
    "            for pos_item in test_dict[user]:\n",
    "                if pos_item in train_items:\n",
    "                    for neg_item in train_items:\n",
    "                        if neg_item not in test_dict[user] and neg_item not in train_dict[user]:\n",
    "                            pos_diversity.append(bundle_diversity_map[pos_item])\n",
    "                            neg_diversity.append(bundle_diversity_map[neg_item])\n",
    "                            users.append(user)\n",
    "                            pos_items.append(pos_item)\n",
    "                            neg_items.append(neg_item)\n",
    "                            n1.append(len(bundle_item_map[pos_item]))\n",
    "                            n2.append(len(bundle_item_map[neg_item]))\n",
    "\n",
    "    pos_items=[get_items(b_id, max_bundle_size, n_items) for b_id in pos_items]\n",
    "    neg_items=[get_items(b_id, max_bundle_size, n_items) for b_id in neg_items]\n",
    "    return users, pos_items, neg_items, n1, n2, pos_diversity, neg_diversity\n"
   ]
  },
  {
   "cell_type": "code",
   "execution_count": null,
   "metadata": {
    "collapsed": false
   },
   "outputs": [],
   "source": [
    "test_users, test_pos_items, test_neg_items, test_n1, test_n2, test_pos_diversity, test_neg_diversity= get_test_data_bundles(test_data, training_data, len(items_set))"
   ]
  },
  {
   "cell_type": "code",
   "execution_count": null,
   "metadata": {
    "collapsed": false
   },
   "outputs": [],
   "source": [
    "print len(test_users)"
   ]
  },
  {
   "cell_type": "code",
   "execution_count": null,
   "metadata": {
    "collapsed": false
   },
   "outputs": [],
   "source": [
    "permu = np.random.permutation(len(test_users))\n",
    "test_users = np.array(test_users)[permu][:len(sgd_users)/5]\n",
    "test_pos_items = np.array(test_pos_items)[permu][:len(sgd_users)/5]\n",
    "test_neg_items = np.array(test_neg_items)[permu][:len(sgd_users)/5]\n",
    "test_n1 = np.array(test_n1)[permu][:len(sgd_users)/5]\n",
    "test_n2 = np.array(test_n2)[permu][:len(sgd_users)/5]\n",
    "test_pos_diversity = np.array(test_pos_diversity)[permu][:len(sgd_users)/5]\n",
    "test_neg_diversity = np.array(test_neg_diversity)[permu][:len(sgd_users)/5]\n",
    "\n",
    "print \"new test data length:\", len(test_users)"
   ]
  },
  {
   "cell_type": "code",
   "execution_count": null,
   "metadata": {
    "collapsed": false
   },
   "outputs": [],
   "source": [
    "print np.shape(bpr_item.H.eval())\n",
    "H_item=bpr_item.H.eval()\n",
    "H_item = np.concatenate((H_item,np.zeros((1,np.shape(H_item)[1]))),axis=0)\n",
    "H_item=np.array(H_item).astype('float32')\n",
    "print np.shape(H_item)\n",
    "\n",
    "print np.shape(bpr_item.B.eval())\n",
    "B_item=bpr_item.B.eval()\n",
    "B_item = np.append(B_item,0)\n",
    "B_item=np.array(B_item).astype('float32')\n",
    "print np.shape(B_item)\n",
    "\n",
    "print np.shape(bpr_item.TG.eval())\n",
    "TG_item = bpr_item.TG.eval()\n",
    "TG_item = np.concatenate((TG_item,np.zeros((1,np.shape(TG_item)[1]))),axis=0)\n",
    "TG_item=np.array(TG_item).astype('float32')\n",
    "print np.shape(TG_item)\n"
   ]
  },
  {
   "cell_type": "code",
   "execution_count": null,
   "metadata": {
    "collapsed": true
   },
   "outputs": [],
   "source": [
    "import theano, numpy\n",
    "import theano.tensor as T\n",
    "import time\n",
    "import sys\n",
    "from collections import defaultdict\n",
    "\n",
    "class BPR_Cold(object):\n",
    "\n",
    "    def __init__(self, rank, bundle_size, n_users, n_items, n_tags, lambda_u = 0.0025, lambda_i = 0.0025, lambda_j = 0.00025, lambda_d = 0.0025, lambda_p = 0.00025, lambda_A = 0.01, lambda_bias = 0.0, learning_rate = 0.05):\n",
    "        \n",
    "        self._rank = rank\n",
    "        self._bundle_rank = bundle_size + 1\n",
    "        self._n_users = n_users\n",
    "        self._n_items = n_items\n",
    "        self._lambda_u = lambda_u\n",
    "        self._lambda_i = lambda_i\n",
    "        self._lambda_j = lambda_j\n",
    "        self._lambda_d = lambda_d\n",
    "        self._lambda_p = lambda_p\n",
    "        self._lambda_bias = lambda_bias\n",
    "        self._lambda_A = lambda_A\n",
    "        self._learning_rate = learning_rate\n",
    "        \n",
    "        self._n_tags = n_tags\n",
    "        self._configure_theano()\n",
    "        self._generate_train_model_item_function()\n",
    "        self._generate_test_model_function()\n",
    "\n",
    "    def _configure_theano(self):\n",
    "        theano.config.mode = 'FAST_RUN'\n",
    "        theano.config.floatX = 'float32'\n",
    "    \n",
    "    def _generate_train_model_item_function(self):\n",
    "        u = T.lvector('u')\n",
    "        i = T.lmatrix('i')\n",
    "        j = T.lmatrix('j')\n",
    "        n1 = T.lvector('n1')#num of items in pos bundle\n",
    "        n2 = T.lvector('n2')\n",
    "        di = T.dvector('di')#cb\n",
    "        dj = T.dvector('dj')#cb\n",
    "        \n",
    "        self.W1 = bpr_item.W #Pu\n",
    "        self.H1 = theano.shared(H_item.astype('float32'), name='H')#Qi\n",
    "        self.B1 = theano.shared(B_item.astype('float32'), name='B')#Bi\n",
    "        self.TG1 = theano.shared(TG_item.astype('float32'), name='TG')\n",
    "        self.theta1 = bpr_item.theta\n",
    "        \n",
    "        self.M1 = theano.shared(numpy.random.random((self._rank, self._rank)).astype('float64'), name='M1')#w\n",
    "        self.M2 = theano.shared(numpy.random.random((self._rank, self._rank)).astype('float64'), name='M2')#u\n",
    "        self.K = theano.shared(numpy.random.rand(), name='K')#k\n",
    "        self.D = theano.shared(numpy.random.rand(), name='D')#C\n",
    "        self.N = theano.shared(numpy.random.random(self._bundle_rank).astype('float32'), name='N')#Nb\n",
    "        self.A1 = theano.shared(numpy.random.random((self._n_tags, self._n_tags)), name='A1')\n",
    "        self.A2 = theano.shared(numpy.random.random((self._n_tags, self._n_tags)), name='A2')\n",
    "                                \n",
    "        \n",
    "        x_ui = T.dot(T.dot(self.W1[u],self.M2), T.dot(self.M1, self.H1[i].sum(axis=1).T/n1)).diagonal() + self.K*(self.B1[i].T/n1).T.sum(axis=1) + self.N[n1] + self.D*di + T.dot(T.dot(self.theta1[u],self.A1), T.dot(self.A2, self.TG1[i].sum(axis=1).T/n1)).diagonal()\n",
    "        x_uj = T.dot(T.dot(self.W1[u],self.M2), T.dot(self.M1, self.H1[j].sum(axis=1).T/n2)).diagonal() + self.K*(self.B1[j].T/n2).T.sum(axis=1) + self.N[n2] + self.D*dj + T.dot(T.dot(self.theta1[u],self.A1), T.dot(self.A2, self.TG1[j].sum(axis=1).T/n2)).diagonal()\n",
    "        \n",
    "        x_uij = T.nnet.sigmoid(x_ui-x_uj)\n",
    "        obj = T.sum(T.log(x_uij) - self._lambda_u * (self.M1 ** 2).sum() - \\\n",
    "                    self._lambda_u * (self.M2 ** 2).sum()  - self._lambda_d * (self.K**2) - self._lambda_d * (self.D**2)\\\n",
    "                    -self._lambda_p * (self.N[n2]**2) - self._lambda_p * (self.N[n1]**2)) - self._lambda_A * (self.A1 ** 2).sum() - self._lambda_A * (self.A2 ** 2).sum()\n",
    "        cost = - obj\n",
    "\n",
    "        g_cost_M1 = T.grad(cost=cost, wrt=self.M1)\n",
    "        g_cost_M2 = T.grad(cost=cost, wrt=self.M2)\n",
    "        g_cost_K = T.grad(cost=cost, wrt=self.K)\n",
    "        g_cost_N = T.grad(cost=cost, wrt=self.N)\n",
    "        g_cost_D = T.grad(cost=cost, wrt=self.D)\n",
    "        g_cost_A1 = T.grad(cost=cost, wrt=self.A1)\n",
    "        g_cost_A2 = T.grad(cost=cost, wrt=self.A2)\n",
    "\n",
    "        \n",
    "        updates = [(self.M1, self.M1 - self._learning_rate * .001* g_cost_M1), (self.M2, self.M2 - self._learning_rate *.001* g_cost_M2), \n",
    "                   (self.K, self.K - self._learning_rate * .001*g_cost_K), (self.N, self.N - self._learning_rate *g_cost_N),\n",
    "                  (self.D, self.D - self._learning_rate * g_cost_D), \n",
    "                   (self.A1, self.A1-self._learning_rate * .001 * g_cost_A1), (self.A2, self.A2-self._learning_rate * .001 * g_cost_A2)]\n",
    "\n",
    "        self.train_model_item = theano.function(inputs=[u, i, j, n1, n2, di, dj], outputs=cost, updates=updates)\n",
    "\n",
    "    \n",
    "    def train(self, s_users=None, s_pos_items=None, s_neg_items=None, s_pos_len=None, s_neg_len=None,\n",
    "             s_pos_diversity=None, s_neg_diversity=None,batch_size=1000):\n",
    "        \n",
    "        if len(s_users) < batch_size:\n",
    "            sys.stderr.write(\"WARNING: Batch size is greater than number of training samples, switching to a batch size of %s\\n\" % str(len(train_data)))\n",
    "            batch_size = len(s_users)\n",
    "        \n",
    "        sgd_users, sgd_pos_items, sgd_neg_items = s_users, s_pos_items, s_neg_items\n",
    "        n_sgd_samples = len(s_users)\n",
    "\n",
    "        z = 0\n",
    "        t2 = t1 = t0 = time.time()\n",
    "        while (z+1)*batch_size < n_sgd_samples:\n",
    "            \n",
    "            self.train_model_item(\n",
    "                sgd_users[z*batch_size: (z+1)*batch_size],\n",
    "                sgd_pos_items[z*batch_size: (z+1)*batch_size],\n",
    "                sgd_neg_items[z*batch_size: (z+1)*batch_size],\n",
    "                s_pos_len[z*batch_size: (z+1)*batch_size],\n",
    "                s_neg_len[z*batch_size: (z+1)*batch_size],\n",
    "                s_pos_diversity[z*batch_size: (z+1)*batch_size],\n",
    "                s_neg_diversity[z*batch_size: (z+1)*batch_size],\n",
    "            )\n",
    "            z += 1\n",
    "            t2 = time.time()\n",
    "            sys.stderr.write(\"\\rProcessed %s ( %.2f%% ) in %.4f seconds\" %(str(z*batch_size), 100.0 * float(z*batch_size)/n_sgd_samples, t2 - t1))\n",
    "            sys.stderr.flush()\n",
    "            t1 = t2\n",
    "        if n_sgd_samples > 0:\n",
    "            sys.stderr.write(\"\\nTotal training time %.2f seconds; %e per sample\\n\" % (t2 - t0, (t2 - t0)/n_sgd_samples))\n",
    "            sys.stderr.flush()\n",
    "    \n",
    "    def _generate_test_model_function(self):\n",
    "        u = T.lvector('u')\n",
    "        i = T.lmatrix('i')\n",
    "        j = T.lmatrix('j')\n",
    "        n1 = T.lvector('n1')\n",
    "        n2 = T.lvector('n2')\n",
    "        di = T.dvector('di')\n",
    "        dj = T.dvector('dj')\n",
    "        \n",
    "        x_ui = T.dot(T.dot(self.W1[u],self.M2), T.dot(self.M1, self.H1[i].sum(axis=1).T/n1)).diagonal() + self.K*(self.B1[i].T/n1).T.sum(axis=1) + self.N[n1] + self.D*di + T.dot(T.dot(self.theta1[u],self.A1), T.dot(self.A2, self.TG1[i].sum(axis=1).T/n1)).diagonal()\n",
    "        x_uj = T.dot(T.dot(self.W1[u],self.M2), T.dot(self.M1, self.H1[j].sum(axis=1).T/n2)).diagonal() + self.K*(self.B1[j].T/n2).T.sum(axis=1) + self.N[n2] + self.D*dj + T.dot(T.dot(self.theta1[u],self.A1), T.dot(self.A2, self.TG1[j].sum(axis=1).T/n2)).diagonal()\n",
    "        \n",
    "        x_uij = x_ui-x_uj\n",
    "        self.test_model = theano.function(inputs=[u, i, j, n1, n2, di, dj], outputs=x_uij)\n",
    "        \n",
    "    def test_bundle(self, sgd_users, sgd_pos_items, sgd_neg_items, s_pos_len, s_neg_len, s_pos_diversity, s_neg_diversity, batch_size=1000):\n",
    "        \n",
    "        auc_values = []\n",
    "        z = 0\n",
    "        t2 = t1 = t0 = time.time()\n",
    "        n_sgd_samples = len(sgd_users)\n",
    "        while (z+1)*batch_size < n_sgd_samples:\n",
    "            pref_list=self.test_model(\n",
    "                sgd_users[z*batch_size: (z+1)*batch_size],\n",
    "                sgd_pos_items[z*batch_size: (z+1)*batch_size],\n",
    "                sgd_neg_items[z*batch_size: (z+1)*batch_size],\n",
    "                s_pos_len[z*batch_size: (z+1)*batch_size],\n",
    "                s_neg_len[z*batch_size: (z+1)*batch_size],\n",
    "                s_pos_diversity[z*batch_size: (z+1)*batch_size],\n",
    "                s_neg_diversity[z*batch_size: (z+1)*batch_size]\n",
    "            )\n",
    "            z += 1\n",
    "            t2 = time.time()\n",
    "            sys.stderr.write(\"\\rProcessed %s ( %.2f%% ) in %.4f seconds\" %(str(z*batch_size), 100.0 * float(z*batch_size)/n_sgd_samples, t2 - t1))\n",
    "            t1 = t2\n",
    "            \n",
    "            auc = np.sum([1.0 if a>0.0 else 0.0 for a in pref_list])\n",
    "            auc /= batch_size\n",
    "            \n",
    "            auc_values.append(auc)\n",
    "            sys.stderr.write(\"\\rCurrent AUC mean (%s samples): %0.5f\" % (str(z*batch_size), numpy.mean(auc_values)))\n",
    "            sys.stderr.flush()\n",
    "        \n",
    "        sys.stderr.write(\"\\n\")\n",
    "        sys.stderr.flush()\n",
    "        return numpy.mean(auc_values)\n",
    "  "
   ]
  },
  {
   "cell_type": "code",
   "execution_count": null,
   "metadata": {
    "collapsed": true
   },
   "outputs": [],
   "source": [
    "bpr_cold = BPR_Cold(10, max_bundle_size, len(user_bundle_map.keys()), len(items_set), len(tags_map))"
   ]
  },
  {
   "cell_type": "code",
   "execution_count": null,
   "metadata": {
    "collapsed": true
   },
   "outputs": [],
   "source": [
    "# --- Siyu \n",
    "# store training and testing data\n",
    "cPickle.dump(sgd_users, open('../train_test_data2/sgd_users.pkl', 'w'))\n",
    "cPickle.dump(sgd_pos_items, open('../train_test_data2/sgd_pos_items.pkl', 'w'))\n",
    "cPickle.dump(sgd_neg_items, open('../train_test_data2/sgd_neg_items.pkl', 'w'))\n",
    "cPickle.dump(sgd_pos_len, open('../train_test_data2/sgd_pos_len.pkl', 'w'))\n",
    "cPickle.dump(sgd_neg_len, open('../train_test_data2/sgd_neg_len.pkl', 'w'))\n",
    "cPickle.dump(sgd_pos_diversity, open('../train_test_data2/sgd_pos_diversity.pkl', 'w'))\n",
    "cPickle.dump(sgd_neg_diversity, open('../train_test_data2/sgd_neg_diversity.pkl', 'w'))\n",
    "\n",
    "cPickle.dump(test_users, open('../train_test_data2/test_users.pkl', 'w'))\n",
    "cPickle.dump(test_pos_items, open('../train_test_data2/test_pos_items.pkl', 'w'))\n",
    "cPickle.dump(test_neg_items, open('../train_test_data2/test_neg_items.pkl', 'w'))\n",
    "cPickle.dump(test_n1, open('../train_test_data2/test_n1.pkl', 'w'))\n",
    "cPickle.dump(test_n2, open('../train_test_data2/test_n2.pkl', 'w'))\n",
    "cPickle.dump(test_pos_diversity, open('../train_test_data2/test_pos_diversity.pkl', 'w'))\n",
    "cPickle.dump(test_neg_diversity, open('../train_test_data2/test_neg_diversity.pkl', 'w'))"
   ]
  },
  {
   "cell_type": "code",
   "execution_count": null,
   "metadata": {
    "collapsed": false
   },
   "outputs": [],
   "source": [
    "bpr_cold.train(s_users=sgd_users, s_pos_items=sgd_pos_items, s_neg_items=sgd_neg_items, \n",
    "          s_pos_len=sgd_pos_len, s_neg_len=sgd_neg_len, s_pos_diversity=sgd_pos_diversity, s_neg_diversity=sgd_neg_diversity)\n",
    "#bpr_cold.train(s_users=sgd_users, s_pos_items=sgd_pos_items, s_neg_items=sgd_neg_items, \n",
    "#          s_pos_len=sgd_pos_len, s_neg_len=sgd_neg_len, s_pos_diversity=sgd_pos_diversity, s_neg_diversity=sgd_neg_diversity)"
   ]
  },
  {
   "cell_type": "code",
   "execution_count": null,
   "metadata": {
    "collapsed": false
   },
   "outputs": [],
   "source": [
    "bpr_cold.test_bundle(test_users, test_pos_items, test_neg_items, test_n1, test_n2, test_pos_diversity, test_neg_diversity)"
   ]
  },
  {
   "cell_type": "code",
   "execution_count": null,
   "metadata": {
    "collapsed": true
   },
   "outputs": [],
   "source": []
  },
  {
   "cell_type": "code",
   "execution_count": null,
   "metadata": {
    "collapsed": true
   },
   "outputs": [],
   "source": [
    "def generate_bundle(items_set, user, initial_size = 3, max_iteration = 1000, sample_size = 5):\n",
    "    current_bundle = np.random.choice(list(items_set), initial_size)\n",
    "    \n",
    "    T=1000.0\n",
    "    \n",
    "    iteration = 0\n",
    "    while iteration < max_iteration:\n",
    "        iteration+=1\n",
    "        curr_diversity = compute_diversity(current_bundle, Gamma)\n",
    "        user_set=[]\n",
    "        pos_item_set=[]\n",
    "        actual_item_set=[]\n",
    "        neg_item_set=[]\n",
    "        pos_item_count=[]\n",
    "        neg_item_count=[]\n",
    "        pos_diversity=[]\n",
    "        neg_diversity=[]\n",
    "        \n",
    "        \n",
    "        candidate_items = set(np.random.choice(list(items_set), sample_size))\n",
    "        \n",
    "        for item in current_bundle:\n",
    "            if item in candidate_items:\n",
    "                candidate_items.remove(item)\n",
    "        \n",
    "    \n",
    "        #Generating new bundles by adding and removing new items  \n",
    "        for cand_item in candidate_items:\n",
    "            #Add an item case\n",
    "            if len(current_bundle)<10:\n",
    "                user_set.append(user)    \n",
    "                neg_item_set.append(add_bogus_items(current_bundle , max_bundle_size, len(items_set)))\n",
    "                neg_item_count.append(len(current_bundle))\n",
    "                neg_diversity.append(curr_diversity)         \n",
    "                new_bundle=list(current_bundle)\n",
    "                new_bundle.append(cand_item)\n",
    "                pos_item_count.append(len(new_bundle))\n",
    "                pos_diversity.append(compute_diversity(new_bundle, Gamma))\n",
    "                actual_item_set.append(new_bundle)\n",
    "                pos_item_set.append(add_bogus_items(new_bundle , max_bundle_size, len(items_set)))\n",
    "\n",
    "            # Replace an item case\n",
    "            for curr_item in current_bundle:\n",
    "                user_set.append(user)\n",
    "                \n",
    "                neg_item_set.append(add_bogus_items(current_bundle , max_bundle_size, len(items_set)))\n",
    "                neg_item_count.append(len(current_bundle))\n",
    "                neg_diversity.append(curr_diversity)\n",
    "                \n",
    "                new_bundle=list(current_bundle)\n",
    "                new_bundle.append(cand_item)\n",
    "                new_bundle.remove(curr_item)\n",
    "                pos_item_set.append(add_bogus_items(new_bundle , max_bundle_size, len(items_set)))\n",
    "                actual_item_set.append(new_bundle)\n",
    "                pos_item_count.append(len(new_bundle))\n",
    "                pos_diversity.append(compute_diversity(new_bundle, Gamma))\n",
    "         \n",
    "        \n",
    "        # Remove an item case\n",
    "        if len(current_bundle)>2:\n",
    "            for curr_item in current_bundle:\n",
    "                user_set.append(user)\n",
    "\n",
    "                neg_item_set.append(add_bogus_items(current_bundle , max_bundle_size, len(items_set)))\n",
    "                neg_item_count.append(len(current_bundle))\n",
    "                neg_diversity.append(curr_diversity)\n",
    "\n",
    "                new_bundle=list(current_bundle)\n",
    "                new_bundle.remove(curr_item)\n",
    "                actual_item_set.append(new_bundle)\n",
    "                pos_item_set.append(add_bogus_items(new_bundle , max_bundle_size, len(items_set)))\n",
    "                pos_item_count.append(len(new_bundle))\n",
    "                pos_diversity.append(compute_diversity(new_bundle, Gamma))\n",
    "        \n",
    "                \n",
    "        pref_score = bpr_cold.test_model(user_set, pos_item_set, neg_item_set, pos_item_count, \n",
    "                                    neg_item_count, pos_diversity, neg_diversity)\n",
    "                                    \n",
    "        #print pref_score, pos_item_count, neg_item_count\n",
    "        index = np.argmax(pref_score)\n",
    "        #print \"Pref Score \", pref_score[index]\n",
    "        if(pref_score[index]>0):\n",
    "            current_bundle = actual_item_set[index]\n",
    "        else:\n",
    "            prob = np.exp(pref_score[index]/T)\n",
    "            if prob < .00001:\n",
    "                break\n",
    "            if np.random.rand() < prob:\n",
    "                current_bundle = actual_item_set[index]\n",
    "        T=T*0.9\n",
    "    #print iteration\n",
    "    return current_bundle "
   ]
  },
  {
   "cell_type": "code",
   "execution_count": null,
   "metadata": {
    "collapsed": true
   },
   "outputs": [],
   "source": [
    "def add_bogus_items(bundle, max_bundle_size, index):\n",
    "    item=list(bundle);\n",
    "    for i in range(len(item),max_bundle_size):\n",
    "        item.append(index)\n",
    "    return item\n",
    "\n",
    "def remove_bogus_items(bundle, max_bundle_size, index):\n",
    "    item=list(bundle);\n",
    "    i=0\n",
    "    while i< len(bundle):\n",
    "        if bundle[i]==index:\n",
    "            break\n",
    "        i+=1\n",
    "    return bundle[:i]\n",
    "\n",
    "def get_bundle_rank(user, new_bundle, bundle_item_map, bundle_diversity_map):\n",
    "    user_set=[]\n",
    "    pos_item_set=[]\n",
    "    neg_item_set=[]\n",
    "    pos_item_count=[]\n",
    "    neg_item_count=[]\n",
    "    pos_diversity=[]\n",
    "    neg_diversity=[]\n",
    "    \n",
    "    bundle_diversity=compute_diversity(new_bundle, Gamma)\n",
    "    for bundle_id,bundle in bundle_item_map.items():\n",
    "        user_set.append(user)\n",
    "        pos_item_set.append(add_bogus_items(bundle, max_bundle_size, len(items_set)))\n",
    "        neg_item_set.append(add_bogus_items(new_bundle, max_bundle_size, len(items_set)))\n",
    "        pos_item_count.append(len(bundle))\n",
    "        neg_item_count.append(len(new_bundle))\n",
    "        pos_diversity.append(bundle_diversity_map[bundle_id])\n",
    "        neg_diversity.append(bundle_diversity)\n",
    "        \n",
    "    pref_score = bpr_cold.test_model(user_set, pos_item_set, neg_item_set, pos_item_count, \n",
    "                                    neg_item_count, pos_diversity, neg_diversity)\n",
    "  \n",
    "    rank = np.sum([1.0 if p>0 else 0.0 for p in pref_score])\n",
    "    return rank"
   ]
  },
  {
   "cell_type": "code",
   "execution_count": null,
   "metadata": {
    "collapsed": false
   },
   "outputs": [],
   "source": [
    "sizes=[10]\n",
    "diversities=[]\n",
    "scores=[]\n",
    "bundle_sizes=[]\n",
    "for size in sizes:\n",
    "    aggregate_diversity=set()\n",
    "    pred_score=[]\n",
    "    b_size=[]\n",
    "    generated_bundles=[]\n",
    "    for user in sorted(user_bundle_map.keys())[:100]:\n",
    "        new_bundle = generate_bundle(items_set, user, 4, 1000,size)\n",
    "        rank = get_bundle_rank(user, new_bundle, bundle_item_map, bundle_diversity_map)\n",
    "        purchased_bundles = len(user_bundle_map[user])\n",
    "        aggregate_diversity=aggregate_diversity.union(set(new_bundle))\n",
    "        generated_bundles.append(new_bundle)\n",
    "        pred_score.append(rank)\n",
    "        b_size.append(len(new_bundle)*1.0)\n",
    "        print 'Rank of user %d : %d, Size of bundle : %d, Bundles purchased : %d Aggregate diversity: %d Score: %f, Average bundle size: %f' %(user, \n",
    "                                                                                     rank, \n",
    "                                                                                     len(new_bundle),                                 \n",
    "                                                                                     purchased_bundles,\n",
    "                                                                                     len(aggregate_diversity),\n",
    "                                                                                     1.0+np.mean(pred_score),\n",
    "                                                                                     np.mean(b_size))\n",
    "    diversities.append(len(aggregate_diversity))\n",
    "    scores.append(1.0+np.mean(pred_score))\n",
    "    bundle_sizes.append(np.mean(b_size)*100)\n",
    "    "
   ]
  },
  {
   "cell_type": "code",
   "execution_count": null,
   "metadata": {
    "collapsed": true
   },
   "outputs": [],
   "source": []
  }
 ],
 "metadata": {
  "kernelspec": {
   "display_name": "Python [conda root]",
   "language": "python",
   "name": "conda-root-py"
  },
  "language_info": {
   "codemirror_mode": {
    "name": "ipython",
    "version": 2
   },
   "file_extension": ".py",
   "mimetype": "text/x-python",
   "name": "python",
   "nbconvert_exporter": "python",
   "pygments_lexer": "ipython2",
   "version": "2.7.12"
  }
 },
 "nbformat": 4,
 "nbformat_minor": 1
}
