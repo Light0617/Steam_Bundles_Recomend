{
 "cells": [
  {
   "cell_type": "code",
   "execution_count": null,
   "metadata": {
    "collapsed": true
   },
   "outputs": [],
   "source": [
    "import pickle\n",
    "import sys\n",
    "import json\n",
    "import matplotlib.pyplot as plt\n",
    "import numpy as np\n",
    "from collections import defaultdict\n",
    "import os\n",
    "import cPickle\n",
    "%matplotlib inline"
   ]
  },
  {
   "cell_type": "code",
   "execution_count": null,
   "metadata": {
    "collapsed": false
   },
   "outputs": [],
   "source": [
    "all_item_data = []\n",
    "accumulator = ''\n",
    "len1 = 0\n",
    "len2 = 0\n",
    "f = open('../../all_items.json')\n",
    "f.read(1)\n",
    "for subs in f.read():\n",
    "    accumulator += subs\n",
    "    if accumulator == ',':\n",
    "        accumulator = ''\n",
    "    try:\n",
    "        new_record = json.loads(accumulator)\n",
    "        all_item_data.append(new_record)\n",
    "        print len(all_item_data)\n",
    "        accumulator = ''\n",
    "    except:\n",
    "        pass"
   ]
  },
  {
   "cell_type": "code",
   "execution_count": null,
   "metadata": {
    "collapsed": true
   },
   "outputs": [],
   "source": [
    "for item in all_item_data:\n",
    "    item['item_id'] = int(item['item_id'])"
   ]
  },
  {
   "cell_type": "code",
   "execution_count": null,
   "metadata": {
    "collapsed": false
   },
   "outputs": [],
   "source": [
    "all_item_set = set()\n",
    "for item in all_item_data:\n",
    "    all_item_set.add(item['item_id'])"
   ]
  },
  {
   "cell_type": "code",
   "execution_count": 119,
   "metadata": {
    "collapsed": false
   },
   "outputs": [
    {
     "data": {
      "text/plain": [
       "10258"
      ]
     },
     "execution_count": 119,
     "metadata": {},
     "output_type": "execute_result"
    }
   ],
   "source": [
    "len(all_item_set)"
   ]
  },
  {
   "cell_type": "code",
   "execution_count": 118,
   "metadata": {
    "collapsed": true
   },
   "outputs": [],
   "source": [
    "cPickle.dump(all_item_data, open('processed_data/all_item_data.pkl','w'))"
   ]
  },
  {
   "cell_type": "code",
   "execution_count": null,
   "metadata": {
    "collapsed": true
   },
   "outputs": [],
   "source": [
    "user_item=json.load(open('../../australia_users_items.json'))"
   ]
  },
  {
   "cell_type": "code",
   "execution_count": null,
   "metadata": {
    "collapsed": false
   },
   "outputs": [],
   "source": [
    "user_item[0]"
   ]
  },
  {
   "cell_type": "code",
   "execution_count": null,
   "metadata": {
    "collapsed": true
   },
   "outputs": [],
   "source": [
    "bundle_data = json.load(open('../../bundle_data.json'))"
   ]
  },
  {
   "cell_type": "code",
   "execution_count": null,
   "metadata": {
    "collapsed": false
   },
   "outputs": [],
   "source": [
    "bundle_data[0]"
   ]
  },
  {
   "cell_type": "code",
   "execution_count": 103,
   "metadata": {
    "collapsed": false
   },
   "outputs": [],
   "source": [
    "bundle_item_map=[]\n",
    "bundle_discount_map=[]\n",
    "item_id_lookup=[]\n",
    "id_item_lookup=dict()\n",
    "\n",
    "bundle_id_lookup = []\n",
    "id_bundle_lookup=dict()\n",
    "\n",
    "items_id_set = set()\n",
    "items_index_set = set()\n",
    "bundle_id_set = set()\n",
    "bundle_index_set = set()\n",
    "\n",
    "index_bundle = 0\n",
    "index_item = 0\n",
    "\n",
    "def check_item_exist(index,index_item):\n",
    "    \n",
    "    if index in all_item_set:\n",
    "        if index not in id_item_lookup:\n",
    "            id_item_lookup[index]=index_item\n",
    "            item_id_lookup.append(index)\n",
    "            items_id_set.add(index)\n",
    "            items_index_set.add(index_item)\n",
    "            index_item = index_item + 1\n",
    "        item_list.append(id_item_lookup[index])\n",
    "    return item_list,index_item\n",
    "    \n",
    "    \n",
    "for bundle in bundle_data:\n",
    "    item_list = []\n",
    "    bundle_discount_map.append(bundle['bundle_discount'])\n",
    "    bundle_id_set.add(int(bundle['bundle_id']))\n",
    "    bundle_index_set.add(index_bundle)\n",
    "    bundle_id_lookup.append(int(bundle['bundle_id']))\n",
    "    id_bundle_lookup[int(bundle['bundle_id'])] = index_bundle\n",
    "    for item in bundle['items']:\n",
    "        if item['item_id'] != '':\n",
    "            if \",\" in item['item_id']:\n",
    "                mul_item_list = item['item_id'].split(\",\")\n",
    "                for id1 in mul_item_list:\n",
    "                    sub_item_list, index_item = check_item_exist(int(id1),index_item)\n",
    "                    item_list.append(sub_item_list)\n",
    "            else:\n",
    "                item_list,index_item = check_item_exist(int(item['item_id']),index_item)\n",
    "    bundle_item_map.append(item_list)\n",
    "    index_bundle = index_bundle+1        \n",
    "    "
   ]
  },
  {
   "cell_type": "code",
   "execution_count": 107,
   "metadata": {
    "collapsed": false
   },
   "outputs": [],
   "source": [
    "user_bundle_map=dict()\n",
    "user_item_map=dict()\n",
    "user_id_lookup = []\n",
    "id_user_lookup = dict()\n",
    "\n",
    "index_user = 0\n",
    "for user in user_item:\n",
    "    item_list = []\n",
    "    bundle_list = []\n",
    "    for item in user['items']:\n",
    "        item_index = int(item['item_id'])\n",
    "        if item_index in items_set:\n",
    "            item_list.append(id_item_lookup[item_index])\n",
    "        elif item_index in bundle_set:\n",
    "            bundle_list.append(id_bundle_lookup[item_index])\n",
    "    if len(bundle_list) != 0:\n",
    "        user_bundle_map[index_user] = bundle_list\n",
    "        user_item_map[index_user] = item_list\n",
    "        id_user_lookup[user['user_id']] = index_user\n",
    "        user_id_lookup.append(user['user_id'])\n",
    "        index_user = index_user + 1\n",
    "        "
   ]
  },
  {
   "cell_type": "code",
   "execution_count": 113,
   "metadata": {
    "collapsed": false
   },
   "outputs": [],
   "source": [
    "cPickle.dump(user_id_lookup, open('processed_data/user_id_lookup.pkl','w'))\n",
    "cPickle.dump(id_user_lookup, open('processed_data/id_user_lookup.pkl','w'))\n",
    "cPickle.dump(user_bundle_map, open('processed_data/user_bundle_map.pkl','w'))\n",
    "cPickle.dump(user_item_map, open('processed_data/user_item_map.pkl','w'))\n",
    "cPickle.dump(bundle_item_map, open('processed_data/bundle_item_map.pkl','w'))\n",
    "cPickle.dump(bundle_discount_map, open('processed_data/bundle_discount_map.pkl','w'))\n",
    "cPickle.dump(item_id_lookup, open('processed_data/item_id_lookup.pkl','w'))\n",
    "cPickle.dump(id_item_lookup, open('processed_data/id_item_lookup.pkl','w'))\n",
    "cPickle.dump(bundle_id_lookup, open('processed_data/bundle_id_lookup.pkl','w'))\n",
    "cPickle.dump(id_bundle_lookup, open('processed_data/id_bundle_lookup.pkl','w'))\n",
    "cPickle.dump(items_id_set, open('processed_data/items_id_set.pkl','w'))\n",
    "cPickle.dump(items_index_set, open('processed_data/items_index_set.pkl','w'))\n",
    "cPickle.dump(bundle_id_set, open('processed_data/bundle_id_set.pkl','w'))\n",
    "cPickle.dump(bundle_index_set, open('processed_data/bundle_id_set.pkl','w'))\n"
   ]
  },
  {
   "cell_type": "code",
   "execution_count": 109,
   "metadata": {
    "collapsed": false
   },
   "outputs": [],
   "source": [
    "user_item_played = np.zeros((len(user_item_map.keys()),len(items_set)))\n",
    "for lines in user_item:\n",
    "    user_id = lines['user_id']\n",
    "    if user_id in id_user_lookup:\n",
    "        user_index = id_user_lookup[user_id]\n",
    "        for items in lines['items']:\n",
    "            item_id = int(items['item_id'])\n",
    "            if item_id in id_item_lookup:\n",
    "                item_index = id_item_lookup[item_id]\n",
    "                playtime = items['playtime_forever']\n",
    "                user_item_played[user_index][item_index] = int(playtime)       "
   ]
  },
  {
   "cell_type": "code",
   "execution_count": 122,
   "metadata": {
    "collapsed": true
   },
   "outputs": [],
   "source": [
    "user_total_playtime = user_item_played.sum(axis=1)\n",
    "user_item_played_percentage = np.zeros((len(user_item_map.keys()),len(items_set)),dtype=np.float)\n",
    "for i in range(len(user_item_map.keys())):\n",
    "    if user_total_playtime[i] != 0:\n",
    "        for j in range(len(items_set)):\n",
    "            user_item_played_percentage[i][j] = float(user_item_played[i][j]) / user_total_playtime[i]"
   ]
  },
  {
   "cell_type": "code",
   "execution_count": 123,
   "metadata": {
    "collapsed": false
   },
   "outputs": [],
   "source": [
    "cPickle.dump(user_item_played_percentage, open('processed_data/user_item_played_percentage.pkl','w'))"
   ]
  },
  {
   "cell_type": "code",
   "execution_count": null,
   "metadata": {
    "collapsed": true
   },
   "outputs": [],
   "source": [
    "item_data=pickle.load(open('processed_data/all_item_data.pkl','rb'))"
   ]
  },
  {
   "cell_type": "code",
   "execution_count": null,
   "metadata": {
    "collapsed": true
   },
   "outputs": [],
   "source": [
    "item_data_map=dict() #appid, item\n",
    "tags_set=set()\n",
    "for item in item_data:\n",
    "    item_data_map[int(item['item_id'])]=item\n",
    "    for tag in item['genre']:\n",
    "        tags_set.add(tag)\n",
    "tags_map=dict()\n",
    "for i,tag in enumerate(tags_set):\n",
    "    tags_map[tag]=i \n",
    "    \n",
    "def get_feat(tags):\n",
    "    feat=np.zeros(len(tags_map))\n",
    "    for tag in tags:\n",
    "        feat[tags_map[tag]]=1\n",
    "    return feat\n",
    "    \n",
    "def get_item_data_map_id(index):\n",
    "    id = item_id_lookup[index]\n",
    "    for i in range(0,len(item_data)-1):\n",
    "        if item_data[i]['item_id'] == id:\n",
    "            return i\n",
    "            \n",
    "sgd_tags = np.array([get_feat(item_data[get_item_data_map_id(i)]['genre']) for i in items_set])\n",
    "print(sgd_tags.shape)"
   ]
  },
  {
   "cell_type": "code",
   "execution_count": null,
   "metadata": {
    "collapsed": true
   },
   "outputs": [],
   "source": [
    "user_genre_played_percentage = np.dot(user_item_played_percentage,sgd_tags)\n",
    "cPickle.dump(user_genre_played_percentage, open('processed_data/user_genre_played_percentage.pkl','w'))"
   ]
  }
 ],
 "metadata": {
  "kernelspec": {
   "display_name": "Python [conda env:py27]",
   "language": "python",
   "name": "conda-env-py27-py"
  },
  "language_info": {
   "codemirror_mode": {
    "name": "ipython",
    "version": 2
   },
   "file_extension": ".py",
   "mimetype": "text/x-python",
   "name": "python",
   "nbconvert_exporter": "python",
   "pygments_lexer": "ipython2",
   "version": "2.7.13"
  }
 },
 "nbformat": 4,
 "nbformat_minor": 2
}
