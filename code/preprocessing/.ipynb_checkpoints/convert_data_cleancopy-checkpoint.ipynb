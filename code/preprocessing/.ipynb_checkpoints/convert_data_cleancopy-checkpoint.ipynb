{
 "cells": [
  {
   "cell_type": "code",
   "execution_count": 1,
   "metadata": {
    "collapsed": true
   },
   "outputs": [],
   "source": [
    "import pickle\n",
    "import cPickle\n",
    "from collections import defaultdict"
   ]
  },
  {
   "cell_type": "code",
   "execution_count": 2,
   "metadata": {
    "collapsed": true
   },
   "outputs": [],
   "source": [
    "folder = '../'\n",
    "items_set=pickle.load(open(folder + '../data/processed_data/item_set','rb')) \n",
    "item_data=pickle.load(open(folder + '../data/processed_data/all_items','rb'))\n",
    "item_id_lookup = pickle.load(open(folder + '../data/processed_data/item_id_lookup','rb'))\n",
    "item_name_map=pickle.load(open(folder + '../data/processed_data/item_name_map','rb'))"
   ]
  },
  {
   "cell_type": "code",
   "execution_count": 3,
   "metadata": {},
   "outputs": [
    {
     "name": "stdout",
     "output_type": "stream",
     "text": [
      "10258\n",
      "304\n"
     ]
    }
   ],
   "source": [
    "item_appid_set = set()\n",
    "for item in item_data:\n",
    "    item_appid_set.add(int(item['appid']))\n",
    "print len(item_appid_set)\n",
    "\n",
    "#存储需要去掉的item index\n",
    "item_index_to_remove = set()\n",
    "for item_ind in items_set:\n",
    "    if item_id_lookup[item_ind] not in item_appid_set:\n",
    "        item_index_to_remove.add(item_ind)\n",
    "print len(item_index_to_remove)"
   ]
  },
  {
   "cell_type": "code",
   "execution_count": 4,
   "metadata": {},
   "outputs": [
    {
     "name": "stdout",
     "output_type": "stream",
     "text": [
      "2515\n"
     ]
    }
   ],
   "source": [
    "# 建立 old 和 new index 之间的map\n",
    "old_new_item_index_map = dict()\n",
    "new_old_item_index_map = dict()\n",
    "new_index = 0\n",
    "for old_index in items_set:\n",
    "    if old_index not in item_index_to_remove:\n",
    "        old_new_item_index_map[old_index] = new_index\n",
    "        new_old_item_index_map[new_index] = old_index\n",
    "        new_index += 1\n",
    "print len(old_new_item_index_map)"
   ]
  },
  {
   "cell_type": "code",
   "execution_count": 5,
   "metadata": {
    "collapsed": true
   },
   "outputs": [],
   "source": [
    "user_item_map=pickle.load(open(folder + '../data/processed_data/user_item_map','rb'))"
   ]
  },
  {
   "cell_type": "code",
   "execution_count": 6,
   "metadata": {},
   "outputs": [
    {
     "name": "stdout",
     "output_type": "stream",
     "text": [
      "29634\n"
     ]
    }
   ],
   "source": [
    "temp_user_item_map = defaultdict(set)\n",
    "for user_index in user_item_map:\n",
    "    for old_item_index in user_item_map[user_index]:\n",
    "        if old_item_index not in item_index_to_remove:\n",
    "            new_item_index = old_new_item_index_map[old_item_index]\n",
    "            temp_user_item_map[user_index].add(new_item_index)\n",
    "print len(temp_user_item_map)"
   ]
  },
  {
   "cell_type": "code",
   "execution_count": 7,
   "metadata": {},
   "outputs": [
    {
     "name": "stdout",
     "output_type": "stream",
     "text": [
      "615\n"
     ]
    }
   ],
   "source": [
    "#dict: bundle_index --> items set\n",
    "bundle_item_map=pickle.load(open(folder + '../data/processed_data/bundle_item_map','rb')) \n",
    "print len(bundle_item_map)"
   ]
  },
  {
   "cell_type": "code",
   "execution_count": 8,
   "metadata": {},
   "outputs": [
    {
     "name": "stdout",
     "output_type": "stream",
     "text": [
      "608\n"
     ]
    }
   ],
   "source": [
    "# old bundle index 和 new bundle index 之间的map\n",
    "old_new_bundle_index_map = dict()\n",
    "new_old_bundle_index_map = dict()\n",
    "# 新的 bundle item map\n",
    "new_bundle_item_map = dict()\n",
    "new_bundle_index = 0\n",
    "for old_bundle_index in bundle_item_map:\n",
    "    temp_set = set()\n",
    "    for old_item_index in bundle_item_map[old_bundle_index]:\n",
    "        if old_item_index not in item_index_to_remove:\n",
    "            new_item_index = old_new_item_index_map[old_item_index]\n",
    "            temp_set.add(new_item_index)\n",
    "    if len(temp_set) > 0:\n",
    "        new_bundle_item_map[new_bundle_index] = temp_set\n",
    "        old_new_bundle_index_map[old_bundle_index] = new_bundle_index\n",
    "        new_old_bundle_index_map[new_bundle_index] = old_bundle_index\n",
    "        new_bundle_index += 1\n",
    "\n",
    "print len(new_bundle_item_map)\n",
    "pickle.dump(new_bundle_item_map, open(folder + '../data/new_data/bundle_item_map.pkl', 'w'))"
   ]
  },
  {
   "cell_type": "code",
   "execution_count": 9,
   "metadata": {},
   "outputs": [],
   "source": [
    "user_bundle_map=pickle.load(open(folder +'../data/processed_data/user_bundle_map','rb'))"
   ]
  },
  {
   "cell_type": "code",
   "execution_count": 10,
   "metadata": {},
   "outputs": [
    {
     "name": "stdout",
     "output_type": "stream",
     "text": [
      "7171\n"
     ]
    }
   ],
   "source": [
    "# 发现更新bundle 后，user 7171 没有任何bundle了，因此需要建立新的user list。\n",
    "for u in user_bundle_map:\n",
    "    bs = 0\n",
    "    for b in user_bundle_map[u]:\n",
    "        if b in old_new_bundle_index_map:\n",
    "            bs += 1\n",
    "    if bs <= 0:\n",
    "        print u"
   ]
  },
  {
   "cell_type": "code",
   "execution_count": 11,
   "metadata": {},
   "outputs": [
    {
     "name": "stdout",
     "output_type": "stream",
     "text": [
      "29633\n"
     ]
    }
   ],
   "source": [
    "# temporary user bundle map\n",
    "temp_user_bundle_map = defaultdict(set)\n",
    "for u in user_bundle_map:\n",
    "    for old_bundle_index in user_bundle_map[u]:\n",
    "        if old_bundle_index in old_new_bundle_index_map:\n",
    "            new_bundle_index = old_new_bundle_index_map[old_bundle_index]\n",
    "            temp_user_bundle_map[u].add(new_bundle_index)\n",
    "print len(temp_user_bundle_map)"
   ]
  },
  {
   "cell_type": "code",
   "execution_count": 12,
   "metadata": {},
   "outputs": [
    {
     "name": "stdout",
     "output_type": "stream",
     "text": [
      "29633\n",
      "29633\n",
      "7171\n"
     ]
    }
   ],
   "source": [
    "# 建立 old user index 和 new user index 之间的 map\n",
    "old_new_user_index_map = dict()\n",
    "new_old_user_index_map = dict()\n",
    "# 新的 new_user_bundle_map\n",
    "new_user_bundle_map = defaultdict(set)\n",
    "new_user_index = 0\n",
    "for old_user_index in user_bundle_map:\n",
    "    if old_user_index in temp_user_bundle_map:\n",
    "        old_new_user_index_map[old_user_index] = new_user_index\n",
    "        new_old_user_index_map[new_user_index] = old_user_index\n",
    "        new_user_bundle_map[new_user_index] = temp_user_bundle_map[old_user_index]\n",
    "        new_user_index += 1\n",
    "print len(new_user_bundle_map)\n",
    "print len(old_new_user_index_map)\n",
    "print old_new_user_index_map[7172]\n",
    "pickle.dump(new_user_bundle_map, open(folder + '../data/new_data/user_bundle_map.pkl', 'w'))"
   ]
  },
  {
   "cell_type": "code",
   "execution_count": 13,
   "metadata": {},
   "outputs": [
    {
     "name": "stdout",
     "output_type": "stream",
     "text": [
      "29633\n"
     ]
    }
   ],
   "source": [
    "# 新的 new_user_item_map\n",
    "new_user_item_map = dict()\n",
    "for old_user_index in temp_user_item_map:\n",
    "    if old_user_index in old_new_user_index_map:\n",
    "        new_user_index = old_new_user_index_map[old_user_index]\n",
    "        new_user_item_map[new_user_index] = temp_user_item_map[old_user_index]\n",
    "print len(new_user_item_map)\n",
    "pickle.dump(new_user_item_map, open(folder + '../data/new_data/user_item_map.pkl', 'w'))"
   ]
  },
  {
   "cell_type": "code",
   "execution_count": 31,
   "metadata": {},
   "outputs": [],
   "source": [
    "bundle_discount_map=pickle.load(open('../../data/processed_data/bundle_discount_map','rb')) "
   ]
  },
  {
   "cell_type": "code",
   "execution_count": 46,
   "metadata": {},
   "outputs": [],
   "source": [
    "new_bundle_discount_map = {}\n",
    "for bid in bundle_discount_map:\n",
    "    if bid - 1 in old_new_bundle_index_map:\n",
    "        new_bid = old_new_bundle_index_map[bid-1]\n",
    "        new_bundle_discount_map[new_bid] = bundle_discount_map[bid] / 100.0"
   ]
  },
  {
   "cell_type": "code",
   "execution_count": null,
   "metadata": {
    "collapsed": true
   },
   "outputs": [],
   "source": [
    "new_bundle_discount_percentage_map = dict()\n",
    "for old_bundle_index in bundle_discount_map:\n",
    "    if old_bundle_index - 1 in old_new_bundle_index_map:\n",
    "        new_bundle_index = old_new_bundle_index_map[old_bundle_index - 1]\n",
    "        new_bundle_discount_percentage_map[new_bundle_index] = bundle_discount_map[old_bundle_index] / 100.0"
   ]
  },
  {
   "cell_type": "code",
   "execution_count": 47,
   "metadata": {},
   "outputs": [
    {
     "name": "stdout",
     "output_type": "stream",
     "text": [
      "0 0.1\n",
      "1 0.22\n",
      "2 0.22\n",
      "3 0.4\n",
      "4 0.22\n",
      "5 0.65\n",
      "6 0.1\n",
      "7 0.4\n",
      "8 0.25\n",
      "9 0.33\n"
     ]
    }
   ],
   "source": [
    "for bid in new_bundle_discount_map:\n",
    "    if bid < 10 :\n",
    "        print bid, new_bundle_discount_map[bid]"
   ]
  },
  {
   "cell_type": "code",
   "execution_count": 48,
   "metadata": {
    "collapsed": true
   },
   "outputs": [],
   "source": [
    "pickle.dump(new_bundle_discount_map, open('../../data/new_data/bundle_discount_map.pkl', 'w'))"
   ]
  },
  {
   "cell_type": "code",
   "execution_count": 17,
   "metadata": {},
   "outputs": [
    {
     "name": "stdout",
     "output_type": "stream",
     "text": [
      "(2515, 327)\n"
     ]
    }
   ],
   "source": [
    "import numpy as np\n",
    "item_data_map=dict() #appid, item\n",
    "tags_set=set()\n",
    "for item in item_data:\n",
    "    item_data_map[int(item['appid'])]=item\n",
    "    for tag in item['tags']:\n",
    "        tags_set.add(tag)\n",
    "tags_map=dict()\n",
    "for i,tag in enumerate(tags_set):\n",
    "    tags_map[tag]=i \n",
    "    \n",
    "def get_feat(tags):\n",
    "    feat=np.zeros(len(tags_map))\n",
    "    for tag in tags:\n",
    "        feat[tags_map[tag]]=1\n",
    "    return feat\n",
    "    \n",
    "def get_item_data_map_id(index):\n",
    "    id = item_id_lookup[index]\n",
    "    for i in range(0,len(item_data)-1):\n",
    "        if item_data[i]['appid'] == id:\n",
    "            return i\n",
    "            \n",
    "sgd_tags = np.array([get_feat(item_data[old_new_item_index_map[i]]['tags']) for i in items_set if i not in item_index_to_remove])\n",
    "print(sgd_tags.shape)"
   ]
  },
  {
   "cell_type": "code",
   "execution_count": 18,
   "metadata": {
    "collapsed": true
   },
   "outputs": [],
   "source": [
    "pickle.dump(sgd_tags, open(folder + '../data/new_data/sgd_tags.pkl', 'w'))"
   ]
  },
  {
   "cell_type": "code",
   "execution_count": 20,
   "metadata": {},
   "outputs": [],
   "source": [
    "folder = '../../data/new_data/'\n",
    "bundle_discount_map=pickle.load(open(folder + 'bundle_discount_map.pkl','rb'))"
   ]
  },
  {
   "cell_type": "code",
   "execution_count": 52,
   "metadata": {},
   "outputs": [],
   "source": [
    "folder = '../../data/processed_data/'\n",
    "itemID_tags_map = pickle.load(open(folder +'itemID_tags_map','rb'))"
   ]
  },
  {
   "cell_type": "code",
   "execution_count": 53,
   "metadata": {
    "collapsed": true
   },
   "outputs": [],
   "source": [
    "new_itemID_tags_map = {}\n",
    "for newItemID in new_old_item_index_map:\n",
    "    oldItemID = new_old_item_index_map[newItemID]\n",
    "    tags = itemID_tags_map[oldItemID]\n",
    "    new_itemID_tags_map[newItemID] = tags"
   ]
  },
  {
   "cell_type": "code",
   "execution_count": 55,
   "metadata": {},
   "outputs": [],
   "source": [
    "pickle.dump(new_itemID_tags_map, open('../../data/new_data/itemID_tags_map.pkl', 'w'))"
   ]
  },
  {
   "cell_type": "code",
   "execution_count": null,
   "metadata": {
    "collapsed": true
   },
   "outputs": [],
   "source": []
  }
 ],
 "metadata": {
  "anaconda-cloud": {},
  "kernelspec": {
   "display_name": "Python [conda env:py2]",
   "language": "python",
   "name": "conda-env-py2-py"
  },
  "language_info": {
   "codemirror_mode": {
    "name": "ipython",
    "version": 2
   },
   "file_extension": ".py",
   "mimetype": "text/x-python",
   "name": "python",
   "nbconvert_exporter": "python",
   "pygments_lexer": "ipython2",
   "version": "2.7.13"
  }
 },
 "nbformat": 4,
 "nbformat_minor": 2
}
