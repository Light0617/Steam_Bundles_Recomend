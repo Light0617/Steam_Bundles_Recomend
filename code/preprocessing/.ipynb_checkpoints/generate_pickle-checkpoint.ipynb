{
 "cells": [
  {
   "cell_type": "code",
   "execution_count": 1,
   "metadata": {
    "collapsed": true
   },
   "outputs": [],
   "source": [
    "import pickle\n",
    "import matplotlib.pyplot as plt\n",
    "import numpy as np\n",
    "from collections import defaultdict\n",
    "import pandas as pd\n",
    "import matplotlib.pyplot as plt\n",
    "%matplotlib inline"
   ]
  },
  {
   "cell_type": "code",
   "execution_count": 2,
   "metadata": {
    "collapsed": true
   },
   "outputs": [],
   "source": [
    "folder = '../../data/processed_data'\n",
    "items_set=pickle.load(open(folder + '/item_set','rb'))\n",
    "bundle_item_map=pickle.load(open(folder + '/bundle_item_map','rb'))\n",
    "user_bundle_map=pickle.load(open(folder + '/user_bundle_map','rb'))\n",
    "user_item_map=pickle.load(open(folder + '/user_item_map','rb'))\n",
    "bundle_diversity_map=pickle.load(open(folder + '/bundle_diversity_map','rb'))\n",
    "item_data=pickle.load(open(folder + '/all_items','rb'))\n",
    "itemID_appID_map = pickle.load(open(folder + '/item_id_lookup','rb'))"
   ]
  },
  {
   "cell_type": "code",
   "execution_count": 4,
   "metadata": {
    "collapsed": true
   },
   "outputs": [],
   "source": [
    "appID_item_map = {}\n",
    "for date in item_data:\n",
    "    appID = int(date['appid'])\n",
    "    appID_item_map[appID] = date"
   ]
  },
  {
   "cell_type": "code",
   "execution_count": 4,
   "metadata": {
    "collapsed": true
   },
   "outputs": [],
   "source": [
    "with open(folder + '/appID_item_map.pickle', 'wb') as handle:\n",
    "    pickle.dump(appID_item_map, handle, protocol=pickle.HIGHEST_PROTOCOL)"
   ]
  },
  {
   "cell_type": "code",
   "execution_count": 5,
   "metadata": {
    "collapsed": true
   },
   "outputs": [],
   "source": [
    "itemID_item_map = {}\n",
    "for itemID in itemID_appID_map:\n",
    "    appID = itemID_appID_map[itemID]\n",
    "    if appID in appID_item_map:\n",
    "        itemID_item_map[itemID] = appID_item_map[appID]\n",
    "    else:\n",
    "        itemID_item_map[itemID] = {}"
   ]
  },
  {
   "cell_type": "code",
   "execution_count": 6,
   "metadata": {
    "collapsed": true
   },
   "outputs": [],
   "source": [
    "with open(folder + '/itemID_item_map', 'wb') as handle:\n",
    "    pickle.dump(itemID_item_map, handle, protocol=pickle.HIGHEST_PROTOCOL)"
   ]
  },
  {
   "cell_type": "code",
   "execution_count": 7,
   "metadata": {
    "collapsed": true,
    "scrolled": false
   },
   "outputs": [],
   "source": [
    "for i in range(len(itemID_item_map)):\n",
    "    try:\n",
    "        if int(itemID_item_map[i]['appid']) != itemID_appID_map[i]:\n",
    "            print int(itemID_item_map[i]['appid']),  itemID_appID_map[i]\n",
    "    except:\n",
    "        i = i"
   ]
  },
  {
   "cell_type": "code",
   "execution_count": 8,
   "metadata": {},
   "outputs": [
    {
     "data": {
      "text/plain": [
       "516100"
      ]
     },
     "execution_count": 8,
     "metadata": {},
     "output_type": "execute_result"
    }
   ],
   "source": [
    "itemID_appID_map[2]"
   ]
  },
  {
   "cell_type": "code",
   "execution_count": 9,
   "metadata": {
    "collapsed": true
   },
   "outputs": [],
   "source": [
    "users = []\n",
    "for user in user_item_map:\n",
    "    for item in user_item_map[user]:\n",
    "        users += [user, item],\n",
    "user_item = pd.DataFrame(users,  columns=['userID', 'itemID'])"
   ]
  },
  {
   "cell_type": "code",
   "execution_count": 10,
   "metadata": {
    "collapsed": true
   },
   "outputs": [],
   "source": [
    " itemMap = pd.DataFrame([ [x] + [d[k] for k in d] for x, d in itemID_item_map.items()], \n",
    "                        columns=['itemID', 'original_price', 'discount_original_price', 'discount_final_price',\n",
    "                                'tags', 'reviews', 'appid', 'date'])"
   ]
  },
  {
   "cell_type": "code",
   "execution_count": 11,
   "metadata": {
    "collapsed": true
   },
   "outputs": [],
   "source": [
    "user_items = pd.merge(user_item, itemMap, how='left', on = 'itemID')"
   ]
  },
  {
   "cell_type": "code",
   "execution_count": 14,
   "metadata": {
    "collapsed": true
   },
   "outputs": [],
   "source": [
    "user_items.to_csv(folder + '/user_items_matrix', index=False)"
   ]
  },
  {
   "cell_type": "code",
   "execution_count": 13,
   "metadata": {
    "collapsed": true
   },
   "outputs": [],
   "source": [
    "def convert2Float(x):\n",
    "    if isinstance(x, float):\n",
    "        return -1\n",
    "    else:\n",
    "        idx = x.find('$')\n",
    "        if idx == -1:\n",
    "            return 0\n",
    "        else:\n",
    "            return int(float((x[idx+1:])))"
   ]
  },
  {
   "cell_type": "code",
   "execution_count": 18,
   "metadata": {
    "scrolled": false
   },
   "outputs": [],
   "source": [
    "itemID_price_map = {}\n",
    "for itemID in itemID_item_map:\n",
    "    item = itemID_item_map[itemID]\n",
    "    if 'discount_final_price' not in item:\n",
    "        itemID_price_map[itemID] = -2\n",
    "    elif item['discount_final_price'] == '' and item['original_price'] == '':\n",
    "        itemID_price_map[itemID] = -3\n",
    "    elif item['discount_final_price'] == '' or item['original_price'] == '':\n",
    "        if item['discount_final_price'] == '':\n",
    "            itemID_price_map[itemID] = convert2Float(item['original_price'])\n",
    "        else:\n",
    "            itemID_price_map[itemID] = convert2Float(item['discount_final_price'])\n",
    "    else:\n",
    "        p1 = convert2Float(item['discount_final_price'])\n",
    "        p2 = convert2Float(item['original_price'])\n",
    "        itemID_price_map[itemID] = int(p1 + p2 / 2)"
   ]
  },
  {
   "cell_type": "code",
   "execution_count": 71,
   "metadata": {},
   "outputs": [
    {
     "name": "stdout",
     "output_type": "stream",
     "text": [
      "2819\n"
     ]
    }
   ],
   "source": [
    "print len(itemID_price_map)"
   ]
  },
  {
   "cell_type": "code",
   "execution_count": 16,
   "metadata": {
    "collapsed": true
   },
   "outputs": [],
   "source": [
    "with open(folder + '/itemID_price_map', 'wb') as handle:\n",
    "    pickle.dump(itemID_price_map, handle, protocol=pickle.HIGHEST_PROTOCOL)"
   ]
  },
  {
   "cell_type": "code",
   "execution_count": 17,
   "metadata": {
    "scrolled": false
   },
   "outputs": [
    {
     "name": "stdout",
     "output_type": "stream",
     "text": [
      "-2\n",
      "-2\n",
      "-2\n",
      "-2\n",
      "-2\n",
      "-2\n",
      "-2\n",
      "-2\n",
      "-2\n",
      "-2\n",
      "-2\n",
      "-2\n",
      "-2\n",
      "-2\n",
      "-2\n",
      "-2\n",
      "-2\n",
      "-2\n",
      "-2\n",
      "-2\n",
      "-2\n",
      "-2\n",
      "-2\n",
      "-2\n",
      "-2\n",
      "-2\n",
      "-2\n",
      "-2\n",
      "-2\n",
      "-2\n",
      "-2\n",
      "-2\n",
      "-2\n",
      "-2\n",
      "-2\n",
      "-2\n",
      "-2\n",
      "-2\n",
      "-2\n",
      "-2\n",
      "-2\n",
      "-2\n",
      "-2\n",
      "-2\n",
      "-2\n",
      "-2\n",
      "-2\n",
      "-2\n",
      "-2\n",
      "-2\n",
      "-2\n",
      "-2\n",
      "-2\n",
      "-2\n",
      "-2\n",
      "-2\n",
      "-2\n",
      "-2\n",
      "-2\n",
      "-2\n",
      "-2\n",
      "-2\n",
      "-2\n",
      "-2\n",
      "-2\n",
      "-2\n",
      "-2\n",
      "-2\n",
      "-2\n",
      "-2\n",
      "-2\n",
      "-2\n",
      "-2\n",
      "-2\n",
      "-2\n",
      "-2\n",
      "-2\n",
      "-2\n",
      "-2\n",
      "-2\n",
      "-2\n",
      "-2\n",
      "-2\n",
      "-2\n",
      "-2\n",
      "-2\n",
      "-2\n",
      "-2\n",
      "-2\n",
      "-2\n",
      "-2\n",
      "-2\n",
      "-2\n",
      "-2\n",
      "-2\n",
      "-2\n",
      "-2\n",
      "-2\n",
      "-2\n",
      "-2\n",
      "-2\n",
      "-2\n",
      "-2\n",
      "-2\n",
      "-2\n",
      "-2\n",
      "-2\n",
      "-2\n",
      "-2\n",
      "-2\n",
      "-2\n",
      "-2\n",
      "-2\n",
      "-2\n",
      "-2\n",
      "-2\n",
      "-2\n",
      "-2\n",
      "-2\n",
      "-2\n",
      "-2\n",
      "-2\n",
      "-2\n",
      "-2\n",
      "-2\n",
      "-2\n",
      "-2\n",
      "-2\n",
      "-2\n",
      "-2\n",
      "-2\n",
      "-2\n",
      "-2\n",
      "-2\n",
      "-2\n",
      "-2\n",
      "-2\n",
      "-2\n",
      "-2\n",
      "-2\n",
      "-2\n",
      "-2\n",
      "-2\n",
      "-2\n",
      "-2\n",
      "-2\n",
      "-2\n",
      "-2\n",
      "-2\n",
      "-2\n",
      "-2\n",
      "-2\n",
      "-2\n",
      "-2\n",
      "-2\n",
      "-2\n",
      "-2\n",
      "-2\n",
      "-2\n",
      "-2\n",
      "-2\n",
      "-2\n",
      "-2\n",
      "-2\n",
      "-2\n",
      "-2\n",
      "-2\n",
      "-2\n",
      "-2\n",
      "-2\n",
      "-2\n",
      "-2\n",
      "-2\n",
      "-2\n",
      "-2\n",
      "-2\n",
      "-2\n",
      "-2\n",
      "-2\n",
      "-2\n",
      "-2\n",
      "-2\n",
      "-2\n",
      "-2\n",
      "-2\n",
      "-2\n",
      "-2\n",
      "-2\n",
      "-2\n",
      "-2\n",
      "-2\n",
      "-2\n",
      "-2\n",
      "-2\n",
      "-2\n",
      "-2\n",
      "-2\n",
      "-2\n",
      "-2\n",
      "-2\n",
      "-2\n",
      "-2\n",
      "-2\n",
      "-2\n",
      "-2\n",
      "-2\n",
      "-2\n",
      "-2\n",
      "-2\n",
      "-2\n",
      "-2\n",
      "-2\n",
      "-2\n",
      "-2\n",
      "-2\n",
      "-2\n",
      "-2\n",
      "-2\n",
      "-2\n",
      "-2\n",
      "-2\n",
      "-2\n",
      "-2\n",
      "-2\n",
      "-2\n",
      "-2\n",
      "-2\n",
      "-2\n",
      "-2\n",
      "-2\n",
      "-2\n",
      "-2\n",
      "-2\n",
      "-2\n",
      "-2\n",
      "-2\n",
      "-2\n",
      "-2\n",
      "-2\n",
      "-2\n",
      "-2\n",
      "-2\n",
      "-2\n",
      "-2\n",
      "-2\n",
      "-2\n",
      "-2\n",
      "-2\n",
      "-2\n",
      "-2\n",
      "-2\n",
      "-2\n",
      "-2\n",
      "-2\n",
      "-2\n",
      "-2\n",
      "-2\n",
      "-2\n",
      "-2\n",
      "-2\n",
      "-2\n",
      "-2\n",
      "-2\n",
      "-2\n",
      "-2\n",
      "-2\n",
      "-2\n",
      "-2\n",
      "-2\n",
      "-2\n",
      "-2\n",
      "-2\n",
      "-2\n",
      "-2\n",
      "-2\n",
      "-2\n",
      "-2\n",
      "-2\n",
      "-2\n",
      "-2\n",
      "-2\n",
      "-2\n",
      "-2\n",
      "-2\n",
      "-2\n",
      "-2\n",
      "-2\n",
      "-2\n",
      "-2\n",
      "-2\n",
      "-2\n",
      "-2\n",
      "-2\n",
      "-2\n",
      "-2\n",
      "-2\n",
      "-2\n",
      "-2\n",
      "-2\n",
      "-2\n",
      "-2\n",
      "-2\n",
      "-2\n",
      "-2\n"
     ]
    }
   ],
   "source": [
    "for x in itemID_price_map:\n",
    "    y = itemID_price_map[x]\n",
    "    if not isinstance(y, int):\n",
    "        print y\n",
    "    if y < 0:\n",
    "        print y"
   ]
  },
  {
   "cell_type": "code",
   "execution_count": 11,
   "metadata": {},
   "outputs": [
    {
     "data": {
      "text/plain": [
       "{'appid': '409600',\n",
       " 'date': u'Dec 11, 2015',\n",
       " 'discount_final_price': u'$15.17',\n",
       " 'discount_original_price': '',\n",
       " 'original_price': u'$5.99',\n",
       " 'reviews': [u'Mixed'],\n",
       " 'tags': [u'Adventure', u'Casual', u'Hidden Object', u'Point & Click']}"
      ]
     },
     "execution_count": 11,
     "metadata": {},
     "output_type": "execute_result"
    }
   ],
   "source": [
    "itemID_item_map[0]"
   ]
  },
  {
   "cell_type": "code",
   "execution_count": null,
   "metadata": {
    "collapsed": true
   },
   "outputs": [],
   "source": [
    "user_price_mean = user_items.groupby('userID')['price'].apply(lambda x: np.mean(x.tolist())).to_dict()\n",
    "user_price_std = user_items.groupby('userID')['price'].apply(lambda x: np.std(x.tolist())).to_dict()"
   ]
  },
  {
   "cell_type": "code",
   "execution_count": null,
   "metadata": {
    "collapsed": true
   },
   "outputs": [],
   "source": [
    "for k in  user_price_std:\n",
    "    if user_price_std[k] == 0:\n",
    "        print k, user_price_mean[k], user_price_std[k]\n",
    "        user_price_std[k] = 500"
   ]
  },
  {
   "cell_type": "code",
   "execution_count": null,
   "metadata": {
    "collapsed": true
   },
   "outputs": [],
   "source": [
    "with open(folder + '/user_price_std', 'wb') as handle:\n",
    "    pickle.dump(user_price_std, handle, protocol=pickle.HIGHEST_PROTOCOL)"
   ]
  }
 ],
 "metadata": {
  "anaconda-cloud": {},
  "kernelspec": {
   "display_name": "Python [conda env:py2]",
   "language": "python",
   "name": "conda-env-py2-py"
  },
  "language_info": {
   "codemirror_mode": {
    "name": "ipython",
    "version": 2
   },
   "file_extension": ".py",
   "mimetype": "text/x-python",
   "name": "python",
   "nbconvert_exporter": "python",
   "pygments_lexer": "ipython2",
   "version": "2.7.13"
  }
 },
 "nbformat": 4,
 "nbformat_minor": 2
}
