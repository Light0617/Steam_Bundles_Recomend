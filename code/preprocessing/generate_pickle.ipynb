{
 "cells": [
  {
   "cell_type": "code",
   "execution_count": 1,
   "metadata": {
    "collapsed": true
   },
   "outputs": [],
   "source": [
    "import pickle\n",
    "import matplotlib.pyplot as plt\n",
    "import numpy as np\n",
    "from collections import defaultdict\n",
    "import pandas as pd\n",
    "import matplotlib.pyplot as plt\n",
    "%matplotlib inline"
   ]
  },
  {
   "cell_type": "code",
   "execution_count": 2,
   "metadata": {
    "collapsed": true
   },
   "outputs": [],
   "source": [
    "folder = '../../data/processed_data'\n",
    "items_set=pickle.load(open(folder + '/item_set','rb'))\n",
    "bundle_item_map=pickle.load(open(folder + '/bundle_item_map','rb'))\n",
    "user_bundle_map=pickle.load(open(folder + '/user_bundle_map','rb'))\n",
    "user_item_map=pickle.load(open(folder + '/user_item_map','rb'))\n",
    "bundle_diversity_map=pickle.load(open(folder + '/bundle_diversity_map','rb'))\n",
    "item_data=pickle.load(open(folder + '/all_items','rb'))\n",
    "itemID_appID_map = pickle.load(open(folder + '/item_id_lookup','rb'))"
   ]
  },
  {
   "cell_type": "code",
   "execution_count": 40,
   "metadata": {
    "collapsed": true
   },
   "outputs": [],
   "source": [
    "bundle_final_price_map = pickle.load(open(folder + '/bundle_final_price_map','rb'))\n",
    "bundle_discount_map = pickle.load(open(folder + '/bundle_discount_map','rb'))\n",
    "bundle_price_map = pickle.load(open(folder + '/bundle_price_map','rb'))\n",
    "item_price_map = pickle.load(open(folder + '/item_price_map','rb'))\n",
    "item_id_lookup = pickle.load(open(folder + '/item_id_lookup','rb'))"
   ]
  },
  {
   "cell_type": "code",
   "execution_count": 3,
   "metadata": {
    "collapsed": true
   },
   "outputs": [],
   "source": [
    "appID_item_map = {}\n",
    "for date in item_data:\n",
    "    appID = int(date['appid'])\n",
    "    appID_item_map[appID] = date"
   ]
  },
  {
   "cell_type": "code",
   "execution_count": 4,
   "metadata": {
    "collapsed": true
   },
   "outputs": [],
   "source": [
    "with open(folder + '/appID_item_map.pickle', 'wb') as handle:\n",
    "    pickle.dump(appID_item_map, handle, protocol=pickle.HIGHEST_PROTOCOL)"
   ]
  },
  {
   "cell_type": "code",
   "execution_count": 54,
   "metadata": {
    "collapsed": true
   },
   "outputs": [],
   "source": [
    "itemID_item_map = {}\n",
    "for itemID in itemID_appID_map:\n",
    "    appID = itemID_appID_map[itemID]\n",
    "    if appID in appID_item_map:\n",
    "        itemID_item_map[itemID] = appID_item_map[appID]\n",
    "    else:\n",
    "        itemID_item_map[itemID] = {}"
   ]
  },
  {
   "cell_type": "code",
   "execution_count": 6,
   "metadata": {
    "collapsed": true
   },
   "outputs": [],
   "source": [
    "with open(folder + '/itemID_item_map', 'wb') as handle:\n",
    "    pickle.dump(itemID_item_map, handle, protocol=pickle.HIGHEST_PROTOCOL)"
   ]
  },
  {
   "cell_type": "code",
   "execution_count": 55,
   "metadata": {
    "collapsed": true,
    "scrolled": false
   },
   "outputs": [],
   "source": [
    "for i in range(len(itemID_item_map)):\n",
    "    try:\n",
    "        if int(itemID_item_map[i]['appid']) != itemID_appID_map[i]:\n",
    "            print int(itemID_item_map[i]['appid']),  itemID_appID_map[i]\n",
    "    except:\n",
    "        i = i"
   ]
  },
  {
   "cell_type": "code",
   "execution_count": 8,
   "metadata": {},
   "outputs": [
    {
     "data": {
      "text/plain": [
       "516100"
      ]
     },
     "execution_count": 8,
     "metadata": {},
     "output_type": "execute_result"
    }
   ],
   "source": [
    "itemID_appID_map[2]"
   ]
  },
  {
   "cell_type": "code",
   "execution_count": 56,
   "metadata": {
    "collapsed": true
   },
   "outputs": [],
   "source": [
    "users = []\n",
    "for user in user_item_map:\n",
    "    for item in user_item_map[user]:\n",
    "        users += [user, item],\n",
    "user_item = pd.DataFrame(users,  columns=['userID', 'itemID'])"
   ]
  },
  {
   "cell_type": "code",
   "execution_count": 57,
   "metadata": {
    "collapsed": true
   },
   "outputs": [],
   "source": [
    " itemMap = pd.DataFrame([ [x] + [d[k] for k in d] for x, d in itemID_item_map.items()], \n",
    "                        columns=['itemID', 'original_price', 'discount_original_price', 'discount_final_price',\n",
    "                                'tags', 'reviews', 'appid', 'date'])"
   ]
  },
  {
   "cell_type": "code",
   "execution_count": 58,
   "metadata": {
    "collapsed": true
   },
   "outputs": [],
   "source": [
    "user_items = pd.merge(user_item, itemMap, how='left', on = 'itemID')"
   ]
  },
  {
   "cell_type": "code",
   "execution_count": 14,
   "metadata": {
    "collapsed": true
   },
   "outputs": [],
   "source": [
    "user_items.to_csv(folder + '/user_items_matrix', index=False)"
   ]
  },
  {
   "cell_type": "code",
   "execution_count": 74,
   "metadata": {
    "collapsed": true
   },
   "outputs": [],
   "source": [
    "def convert2Float(x):\n",
    "    if isinstance(x, float):\n",
    "        return -1\n",
    "    else:\n",
    "        idx = x.find('$')\n",
    "        if idx == -1:\n",
    "            return 0\n",
    "        else:\n",
    "            return float((x[idx+1:]))"
   ]
  },
  {
   "cell_type": "code",
   "execution_count": 87,
   "metadata": {
    "scrolled": false
   },
   "outputs": [],
   "source": [
    "itemID_price_map = {}\n",
    "itemID_discount_map = {}\n",
    "orign, discount = 0, 0 \n",
    "for itemID in itemID_item_map:\n",
    "    item = itemID_item_map[itemID]\n",
    "    if 'discount_final_price' not in item:\n",
    "        itemID_price_map[itemID] = -2\n",
    "        itemID_discount_map[itemID] = 0\n",
    "#         orign += 1\n",
    "#         discount += 1\n",
    "    elif item['discount_final_price'] == '' and item['original_price'] == '':\n",
    "        itemID_price_map[itemID] = -3\n",
    "        itemID_discount_map[itemID] = 0\n",
    "    elif item['original_price'] == '' and item['discount_original_price'] != '' and\\\n",
    "        item['discount_final_price'] != '':\n",
    "        p2 = convert2Float(item['discount_original_price'])\n",
    "        p3 = convert2Float(item['discount_final_price'])\n",
    "        p1 = p2 + p3\n",
    "        itemID_discount_map[itemID] =  1 - (float(p3) / p1)\n",
    "    elif item['discount_final_price'] == '' or item['original_price'] == '':\n",
    "        if item['discount_final_price'] == '':\n",
    "            itemID_price_map[itemID] = convert2Float(item['original_price'])\n",
    "            orign += 1\n",
    "        else:\n",
    "            itemID_price_map[itemID] = convert2Float(item['discount_final_price'])\n",
    "            discount += 1\n",
    "        itemID_discount_map[itemID] = 0\n",
    "    else:\n",
    "        p3 = convert2Float(item['discount_final_price'])\n",
    "        p1 = convert2Float(item['original_price'])\n",
    "        itemID_price_map[itemID] = int(p1 + p3 / 2)\n",
    "        if p3 < p1:\n",
    "            itemID_discount_map[itemID] =   1 - (float(p3) / p1)\n",
    "        else:\n",
    "            itemID_discount_map[itemID] = 0"
   ]
  },
  {
   "cell_type": "code",
   "execution_count": 77,
   "metadata": {},
   "outputs": [],
   "source": [
    "count1, count2, count3, count13, count123 = 0, 0, 0, 0, 0\n",
    "for itemID in itemID_item_map:\n",
    "    item = itemID_item_map[itemID]\n",
    "    if 'original_price' not in item: continue\n",
    "    if(item['original_price'] == ''):\n",
    "        count1 += 1\n",
    "    if(item['discount_original_price'] == ''):\n",
    "        count2 += 1\n",
    "    if(item['discount_final_price'] == ''):\n",
    "        count3 += 1\n",
    "    if (item['original_price'] == '') and (item['discount_final_price'] == ''):\n",
    "        count13 += 1\n",
    "    if item['original_price'] == '' and item['discount_original_price'] != '' and item['discount_final_price'] != '':\n",
    "#         print item['discount_original_price'], item['discount_final_price']\n",
    "        count123 += 1"
   ]
  },
  {
   "cell_type": "code",
   "execution_count": 69,
   "metadata": {},
   "outputs": [
    {
     "name": "stdout",
     "output_type": "stream",
     "text": [
      "105 2026 17 0 101\n"
     ]
    }
   ],
   "source": [
    "print count1, count2, count3, count13, count123"
   ]
  },
  {
   "cell_type": "code",
   "execution_count": 86,
   "metadata": {
    "scrolled": false
   },
   "outputs": [
    {
     "name": "stdout",
     "output_type": "stream",
     "text": [
      "17 4\n",
      "2819\n",
      "0.90991902834\n"
     ]
    }
   ],
   "source": [
    "print orign, discount\n",
    "print len(itemID_discount_map)\n",
    "for k in itemID_discount_map:\n",
    "    if itemID_discount_map[k] < 1:\n",
    "        print itemID_discount_map[k]\n",
    "        break"
   ]
  },
  {
   "cell_type": "code",
   "execution_count": 88,
   "metadata": {
    "collapsed": true
   },
   "outputs": [],
   "source": [
    "with open(folder + '/itemID_discount_map', 'wb') as handle:\n",
    "    pickle.dump(itemID_discount_map, handle, protocol=pickle.HIGHEST_PROTOCOL)"
   ]
  },
  {
   "cell_type": "code",
   "execution_count": 26,
   "metadata": {
    "collapsed": true
   },
   "outputs": [],
   "source": [
    "list = []\n",
    "for id in bundle_final_price_map:\n",
    "    d = (1 - float(bundle_final_price_map[id]) / bundle_price_map[id]) * 100\n",
    "    list += [d, bundle_discount_map[id]],"
   ]
  },
  {
   "cell_type": "code",
   "execution_count": 28,
   "metadata": {},
   "outputs": [],
   "source": [
    "for x in list:\n",
    "    if abs(x[0] - x[1]) > 1:\n",
    "        print x"
   ]
  },
  {
   "cell_type": "code",
   "execution_count": 30,
   "metadata": {},
   "outputs": [
    {
     "name": "stdout",
     "output_type": "stream",
     "text": [
      "2819\n",
      "615 2819\n"
     ]
    }
   ],
   "source": [
    "print len(itemID_price_map)\n",
    "print len(list), len(itemID_discount_map)\n",
    "#321 409"
   ]
  },
  {
   "cell_type": "code",
   "execution_count": 16,
   "metadata": {
    "collapsed": true
   },
   "outputs": [],
   "source": [
    "with open(folder + '/itemID_price_map', 'wb') as handle:\n",
    "    pickle.dump(itemID_price_map, handle, protocol=pickle.HIGHEST_PROTOCOL)"
   ]
  },
  {
   "cell_type": "code",
   "execution_count": 11,
   "metadata": {},
   "outputs": [
    {
     "data": {
      "text/plain": [
       "{'appid': '409600',\n",
       " 'date': u'Dec 11, 2015',\n",
       " 'discount_final_price': u'$15.17',\n",
       " 'discount_original_price': '',\n",
       " 'original_price': u'$5.99',\n",
       " 'reviews': [u'Mixed'],\n",
       " 'tags': [u'Adventure', u'Casual', u'Hidden Object', u'Point & Click']}"
      ]
     },
     "execution_count": 11,
     "metadata": {},
     "output_type": "execute_result"
    }
   ],
   "source": [
    "itemID_item_map[0]"
   ]
  },
  {
   "cell_type": "code",
   "execution_count": null,
   "metadata": {
    "collapsed": true
   },
   "outputs": [],
   "source": [
    "user_price_mean = user_items.groupby('userID')['price'].apply(lambda x: np.mean(x.tolist())).to_dict()\n",
    "user_price_std = user_items.groupby('userID')['price'].apply(lambda x: np.std(x.tolist())).to_dict()"
   ]
  },
  {
   "cell_type": "code",
   "execution_count": null,
   "metadata": {
    "collapsed": true
   },
   "outputs": [],
   "source": [
    "for k in user_price_std:\n",
    "    if user_price_std[k] == 0:\n",
    "        print k, user_price_mean[k], user_price_std[k]\n",
    "        user_price_std[k] = 500"
   ]
  },
  {
   "cell_type": "code",
   "execution_count": null,
   "metadata": {
    "collapsed": true
   },
   "outputs": [],
   "source": [
    "with open(folder + '/user_price_std', 'wb') as handle:\n",
    "    pickle.dump(user_price_std, handle, protocol=pickle.HIGHEST_PROTOCOL)"
   ]
  },
  {
   "cell_type": "code",
   "execution_count": 37,
   "metadata": {},
   "outputs": [
    {
     "name": "stdout",
     "output_type": "stream",
     "text": [
      "0 4.79\n"
     ]
    }
   ],
   "source": [
    "for k in item_price_map:\n",
    "    print k, item_price_map[k]\n",
    "    break"
   ]
  },
  {
   "cell_type": "code",
   "execution_count": 66,
   "metadata": {},
   "outputs": [
    {
     "name": "stdout",
     "output_type": "stream",
     "text": [
      "2819\n"
     ]
    }
   ],
   "source": [
    "print len(item_price_map)"
   ]
  },
  {
   "cell_type": "code",
   "execution_count": 44,
   "metadata": {},
   "outputs": [
    {
     "name": "stdout",
     "output_type": "stream",
     "text": [
      "{'original_price': u'$5.99', 'discount_original_price': '', 'discount_final_price': '', 'tags': [u'Strategy', u'Medieval', u'Classic', u'RTS', u'Base-Building', u'Simulation', u'Economy', u'Multiplayer', u'City Builder', u'Resource Management', u'Singleplayer', u'Great Soundtrack', u'Historical', u'Atmospheric', u'2D'], 'reviews': [u'Very Positive', u'Very Positive'], 'appid': '40960', 'date': u'Oct 19, 2001'}\n",
      "19.99\n"
     ]
    }
   ],
   "source": [
    "print itemID_item_map[1]\n",
    "print item_price_map[1]"
   ]
  },
  {
   "cell_type": "code",
   "execution_count": 46,
   "metadata": {},
   "outputs": [
    {
     "name": "stdout",
     "output_type": "stream",
     "text": [
      "{'original_price': u'$14.99', 'discount_original_price': '', 'discount_final_price': '', 'tags': [u'Strategy', u'Action', u'Indie', u'Multiplayer', u'Turn-Based', u'Funny'], 'reviews': [u'Mixed'], 'appid': '270910', 'date': u'Jul 16, 2015'}\n"
     ]
    }
   ],
   "source": [
    "print appID_item_map[270910]"
   ]
  },
  {
   "cell_type": "code",
   "execution_count": 47,
   "metadata": {},
   "outputs": [
    {
     "name": "stdout",
     "output_type": "stream",
     "text": [
      "40960 2819\n"
     ]
    }
   ],
   "source": [
    "print item_id_lookup[1], len(item_id_lookup)"
   ]
  },
  {
   "cell_type": "code",
   "execution_count": 48,
   "metadata": {
    "collapsed": true
   },
   "outputs": [],
   "source": [
    "dict = {}\n",
    "for key in item_id_lookup:\n",
    "    val = item_id_lookup[key]\n",
    "    dict[val] = key"
   ]
  },
  {
   "cell_type": "code",
   "execution_count": 52,
   "metadata": {},
   "outputs": [
    {
     "name": "stdout",
     "output_type": "stream",
     "text": [
      "2819\n"
     ]
    }
   ],
   "source": [
    "print len(dict)"
   ]
  },
  {
   "cell_type": "code",
   "execution_count": 65,
   "metadata": {},
   "outputs": [
    {
     "name": "stdout",
     "output_type": "stream",
     "text": [
      "29634\n"
     ]
    }
   ],
   "source": [
    "print len(user_items.userID.unique())"
   ]
  },
  {
   "cell_type": "code",
   "execution_count": null,
   "metadata": {
    "collapsed": true
   },
   "outputs": [],
   "source": [
    "print len(user_items.userID.unique())"
   ]
  }
 ],
 "metadata": {
  "anaconda-cloud": {},
  "kernelspec": {
   "display_name": "Python [conda env:py2]",
   "language": "python",
   "name": "conda-env-py2-py"
  },
  "language_info": {
   "codemirror_mode": {
    "name": "ipython",
    "version": 2
   },
   "file_extension": ".py",
   "mimetype": "text/x-python",
   "name": "python",
   "nbconvert_exporter": "python",
   "pygments_lexer": "ipython2",
   "version": "2.7.13"
  }
 },
 "nbformat": 4,
 "nbformat_minor": 2
}
