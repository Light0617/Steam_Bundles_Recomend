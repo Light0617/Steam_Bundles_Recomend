{
 "cells": [
  {
   "cell_type": "code",
   "execution_count": 1,
   "metadata": {
    "collapsed": true
   },
   "outputs": [],
   "source": [
    "import pickle\n",
    "import matplotlib.pyplot as plt\n",
    "import numpy as np\n",
    "from collections import defaultdict\n",
    "import pandas as pd\n",
    "import matplotlib.pyplot as plt\n",
    "%matplotlib inline"
   ]
  },
  {
   "cell_type": "code",
   "execution_count": 2,
   "metadata": {
    "collapsed": true
   },
   "outputs": [],
   "source": [
    "folder = '../../data/processed_data'\n",
    "items_set=pickle.load(open(folder + '/item_set','rb'))\n",
    "bundle_item_map=pickle.load(open(folder + '/bundle_item_map','rb'))\n",
    "user_bundle_map=pickle.load(open(folder + '/user_bundle_map','rb'))\n",
    "user_item_map=pickle.load(open(folder + '/user_item_map','rb'))\n",
    "bundle_diversity_map=pickle.load(open(folder + '/bundle_diversity_map','rb'))\n",
    "item_data=pickle.load(open(folder + '/all_items','rb'))\n",
    "itemID_appID_map = pickle.load(open(folder + '/item_id_lookup','rb'))"
   ]
  },
  {
   "cell_type": "code",
   "execution_count": 3,
   "metadata": {
    "collapsed": true
   },
   "outputs": [],
   "source": [
    "appID_item_map = {}\n",
    "for date in item_data:\n",
    "    appID = int(date['appid'])\n",
    "    appID_item_map[appID] = date"
   ]
  },
  {
   "cell_type": "code",
   "execution_count": 4,
   "metadata": {
    "collapsed": true
   },
   "outputs": [],
   "source": [
    "with open(folder + '/appID_item_map.pickle', 'wb') as handle:\n",
    "    pickle.dump(appID_item_map, handle, protocol=pickle.HIGHEST_PROTOCOL)"
   ]
  },
  {
   "cell_type": "code",
   "execution_count": 5,
   "metadata": {
    "collapsed": true
   },
   "outputs": [],
   "source": [
    "itemID_item_map = {}\n",
    "for itemID in itemID_appID_map:\n",
    "    appID = itemID_appID_map[itemID]\n",
    "    if appID in appID_item_map:\n",
    "        itemID_item_map[itemID] = appID_item_map[appID]\n",
    "    else:\n",
    "        itemID_item_map[itemID] = {}"
   ]
  },
  {
   "cell_type": "code",
   "execution_count": 6,
   "metadata": {
    "collapsed": true
   },
   "outputs": [],
   "source": [
    "with open(folder + '/itemID_item_map.pickle', 'wb') as handle:\n",
    "    pickle.dump(itemID_item_map, handle, protocol=pickle.HIGHEST_PROTOCOL)"
   ]
  },
  {
   "cell_type": "code",
   "execution_count": 7,
   "metadata": {
    "collapsed": true,
    "scrolled": false
   },
   "outputs": [],
   "source": [
    "for i in range(len(itemID_item_map)):\n",
    "    try:\n",
    "        if int(itemID_item_map[i]['appid']) != itemID_appID_map[i]:\n",
    "            print int(itemID_item_map[i]['appid']),  itemID_appID_map[i]\n",
    "    except:\n",
    "        i = i"
   ]
  },
  {
   "cell_type": "code",
   "execution_count": 8,
   "metadata": {},
   "outputs": [
    {
     "data": {
      "text/plain": [
       "516100"
      ]
     },
     "execution_count": 8,
     "metadata": {},
     "output_type": "execute_result"
    }
   ],
   "source": [
    "itemID_appID_map[2]"
   ]
  },
  {
   "cell_type": "code",
   "execution_count": 9,
   "metadata": {
    "collapsed": true
   },
   "outputs": [],
   "source": [
    "users = []\n",
    "for user in user_item_map:\n",
    "    for item in user_item_map[user]:\n",
    "        users += [user, item],\n",
    "user_item = pd.DataFrame(users,  columns=['userID', 'itemID'])"
   ]
  },
  {
   "cell_type": "code",
   "execution_count": 10,
   "metadata": {
    "collapsed": true
   },
   "outputs": [],
   "source": [
    " itemMap = pd.DataFrame([ [x] + [d[k] for k in d] for x, d in itemID_item_map.items()], \n",
    "                        columns=['itemID', 'original_price', 'discount_original_price', 'discount_final_price',\n",
    "                                'tags', 'reviews', 'appid', 'date'])"
   ]
  },
  {
   "cell_type": "code",
   "execution_count": 11,
   "metadata": {
    "collapsed": true
   },
   "outputs": [],
   "source": [
    "user_items = pd.merge(user_item, itemMap, how='left', on = 'itemID')"
   ]
  },
  {
   "cell_type": "code",
   "execution_count": 13,
   "metadata": {
    "collapsed": true
   },
   "outputs": [],
   "source": [
    "user_items.to_csv(folder + '/user_items_matrix', index=False)"
   ]
  },
  {
   "cell_type": "code",
   "execution_count": null,
   "metadata": {
    "collapsed": true
   },
   "outputs": [],
   "source": []
  }
 ],
 "metadata": {
  "anaconda-cloud": {},
  "kernelspec": {
   "display_name": "Python [conda env:py2]",
   "language": "python",
   "name": "conda-env-py2-py"
  },
  "language_info": {
   "codemirror_mode": {
    "name": "ipython",
    "version": 2
   },
   "file_extension": ".py",
   "mimetype": "text/x-python",
   "name": "python",
   "nbconvert_exporter": "python",
   "pygments_lexer": "ipython2",
   "version": "2.7.13"
  }
 },
 "nbformat": 4,
 "nbformat_minor": 2
}
