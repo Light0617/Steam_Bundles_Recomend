{
 "cells": [
  {
   "cell_type": "code",
   "execution_count": 1,
   "metadata": {},
   "outputs": [],
   "source": [
    "import pickle\n",
    "import matplotlib.pyplot as plt\n",
    "import numpy as np\n",
    "from collections import defaultdict\n",
    "import pandas as pd\n",
    "import matplotlib.pyplot as plt\n",
    "%matplotlib inline"
   ]
  },
  {
   "cell_type": "code",
   "execution_count": 10,
   "metadata": {},
   "outputs": [],
   "source": [
    "folder = '../../data/data1'\n",
    "items_set=pickle.load(open(folder + '/items_index_set','rb'))\n",
    "bundle_item_map=pickle.load(open(folder + '/bundle_item_map','rb'))\n",
    "user_bundle_map=pickle.load(open(folder + '/user_bundle_map','rb'))\n",
    "user_item_map=pickle.load(open(folder + '/user_item_map','rb'))\n",
    "item_data=pickle.load(open(folder + '/all_item_data','rb'))\n",
    "itemID_appID_map = pickle.load(open(folder + '/item_id_lookup','rb'))\n",
    "item_id_lookup = pickle.load(open(folder + '/item_id_lookup','rb'))"
   ]
  },
  {
   "cell_type": "code",
   "execution_count": 15,
   "metadata": {},
   "outputs": [
    {
     "name": "stdout",
     "output_type": "stream",
     "text": [
      "326950\n"
     ]
    }
   ],
   "source": [
    "for itemID in range(len(itemID_appID_map)):\n",
    "    appID = itemID_appID_map[itemID]\n",
    "    print appID\n",
    "    break"
   ]
  },
  {
   "cell_type": "code",
   "execution_count": 20,
   "metadata": {},
   "outputs": [],
   "source": [
    "appID_item_map = {}\n",
    "for item in item_data:\n",
    "    appID = item['item_id']\n",
    "    appID_item_map[appID] = item"
   ]
  },
  {
   "cell_type": "code",
   "execution_count": 22,
   "metadata": {},
   "outputs": [],
   "source": [
    "itemID_item_map = {}\n",
    "for itemID in range(len(itemID_appID_map)):\n",
    "    appID = itemID_appID_map[itemID]\n",
    "    item = appID_item_map[appID]\n",
    "    itemID_item_map[itemID] = item"
   ]
  },
  {
   "cell_type": "code",
   "execution_count": 23,
   "metadata": {},
   "outputs": [],
   "source": [
    "with open(folder + '/itemID_item_map', 'wb') as handle:\n",
    "    pickle.dump(itemID_item_map, handle, protocol=pickle.HIGHEST_PROTOCOL)\n",
    "with open(folder + '/appID_item_map', 'wb') as handle:\n",
    "    pickle.dump(appID_item_map, handle, protocol=pickle.HIGHEST_PROTOCOL)"
   ]
  },
  {
   "cell_type": "code",
   "execution_count": 25,
   "metadata": {},
   "outputs": [],
   "source": [
    "buy_items = set([])\n",
    "for user in user_item_map:\n",
    "    for itemID in user_item_map[user]:\n",
    "        buy_items.add(itemID)"
   ]
  },
  {
   "cell_type": "code",
   "execution_count": 26,
   "metadata": {},
   "outputs": [],
   "source": [
    "for itemID in buy_items:\n",
    "    item = itemID_item_map[itemID]"
   ]
  },
  {
   "cell_type": "code",
   "execution_count": 28,
   "metadata": {},
   "outputs": [],
   "source": [
    "def convert2Float(x):\n",
    "    if isinstance(x, float):\n",
    "        return -1\n",
    "    else:\n",
    "        idx = x.find('$')\n",
    "        if idx == -1:\n",
    "            return 0\n",
    "        else:\n",
    "            return float((x[idx+1:]))"
   ]
  },
  {
   "cell_type": "code",
   "execution_count": 34,
   "metadata": {},
   "outputs": [],
   "source": [
    "itemID_price_map = {}\n",
    "itemID_discount_map = {}\n",
    "orign, discount, strange = 0, 0, 0\n",
    "for itemID in itemID_item_map:\n",
    "    item = itemID_item_map[itemID]\n",
    "    if 'discount_final_price' not in item:\n",
    "        itemID_price_map[itemID] = -2\n",
    "        itemID_discount_map[itemID] = 0\n",
    "    elif item['discount_final_price'] == '' and item['original_price'] == '':\n",
    "        itemID_price_map[itemID] = -3\n",
    "        itemID_discount_map[itemID] = 0\n",
    "    elif item['original_price'] == '' and item['discount_original_price'] != '' and\\\n",
    "        item['discount_final_price'] != '':\n",
    "        p2 = convert2Float(item['discount_original_price'])\n",
    "        p3 = convert2Float(item['discount_final_price'])\n",
    "        p1 = p2 + p3\n",
    "        itemID_discount_map[itemID] =  1 - (float(p3) / p1)\n",
    "    elif item['discount_final_price'] == '' or item['original_price'] == '':\n",
    "        if item['discount_final_price'] == '':\n",
    "            itemID_price_map[itemID] = convert2Float(item['original_price'])\n",
    "            orign += 1\n",
    "        else:\n",
    "            itemID_price_map[itemID] = convert2Float(item['discount_final_price'])\n",
    "            discount += 1\n",
    "        itemID_discount_map[itemID] = 0\n",
    "    else:\n",
    "        p3 = convert2Float(item['discount_final_price'])\n",
    "        p1 = convert2Float(item['original_price'])\n",
    "        itemID_price_map[itemID] = int(p1 + p3 / 2)\n",
    "        if p3 < p1:\n",
    "            strange += 1\n",
    "            itemID_discount_map[itemID] =   1 - (float(p3) / p1)\n",
    "        else:\n",
    "            itemID_discount_map[itemID] = 0"
   ]
  },
  {
   "cell_type": "code",
   "execution_count": 36,
   "metadata": {
    "scrolled": false
   },
   "outputs": [
    {
     "name": "stdout",
     "output_type": "stream",
     "text": [
      "17 4 49\n"
     ]
    }
   ],
   "source": [
    "print orign, discount, strange"
   ]
  },
  {
   "cell_type": "code",
   "execution_count": 37,
   "metadata": {},
   "outputs": [],
   "source": [
    "with open(folder + '/itemID_discount_map', 'wb') as handle:\n",
    "    pickle.dump(itemID_discount_map, handle, protocol=pickle.HIGHEST_PROTOCOL)"
   ]
  },
  {
   "cell_type": "code",
   "execution_count": null,
   "metadata": {},
   "outputs": [],
   "source": []
  }
 ],
 "metadata": {
  "kernelspec": {
   "display_name": "Python 2",
   "language": "python",
   "name": "python2"
  },
  "language_info": {
   "codemirror_mode": {
    "name": "ipython",
    "version": 2
   },
   "file_extension": ".py",
   "mimetype": "text/x-python",
   "name": "python",
   "nbconvert_exporter": "python",
   "pygments_lexer": "ipython2",
   "version": "2.7.11"
  }
 },
 "nbformat": 4,
 "nbformat_minor": 2
}
