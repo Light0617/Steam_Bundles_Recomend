{
 "cells": [
  {
   "cell_type": "code",
   "execution_count": 29,
   "metadata": {
    "collapsed": true
   },
   "outputs": [],
   "source": [
    "import pickle\n",
    "import cPickle\n",
    "from collections import defaultdict"
   ]
  },
  {
   "cell_type": "code",
   "execution_count": 30,
   "metadata": {
    "collapsed": true
   },
   "outputs": [],
   "source": [
    "folder = '../../data/new_data'\n",
    "user_item_map=pickle.load(open(folder + '/user_item_map.pkl','rb')) "
   ]
  },
  {
   "cell_type": "code",
   "execution_count": 31,
   "metadata": {
    "collapsed": true
   },
   "outputs": [],
   "source": [
    "item_id_lookup = pickle.load(open(folder + '/item_id_lookup.pkl','rb')) "
   ]
  },
  {
   "cell_type": "code",
   "execution_count": 45,
   "metadata": {},
   "outputs": [],
   "source": [
    "folder = '../../data/new_data'\n",
    "user_bundle_map=pickle.load(open(folder +'/user_bundle_map.pkl','rb'))\n",
    "bundle_item_map=pickle.load(open(folder +'/bundle_item_map.pkl','rb'))"
   ]
  },
  {
   "cell_type": "code",
   "execution_count": 42,
   "metadata": {
    "collapsed": true
   },
   "outputs": [],
   "source": [
    "folder = '../../data/processed_data'\n",
    "old_user_bundle_map=pickle.load(open(folder +'/user_bundle_map','rb'))\n",
    "old_bundle_item_map=pickle.load(open(folder +'/bundle_item_map','rb'))"
   ]
  },
  {
   "cell_type": "code",
   "execution_count": 53,
   "metadata": {
    "collapsed": true
   },
   "outputs": [],
   "source": [
    "old_items = set()\n",
    "for user in old_user_bundle_map:\n",
    "    for bundle in old_user_bundle_map[user]:\n",
    "        for item in old_bundle_item_map[bundle]:\n",
    "            old_items.add(item)"
   ]
  },
  {
   "cell_type": "code",
   "execution_count": 57,
   "metadata": {},
   "outputs": [],
   "source": [
    "items = set()\n",
    "for user in user_bundle_map:\n",
    "    bundles = user_bundle_map[user]\n",
    "    for bundle in bundles:\n",
    "        items1 = bundle_item_map[bundle]\n",
    "        for item in items1:\n",
    "            items.add(item)"
   ]
  },
  {
   "cell_type": "code",
   "execution_count": 34,
   "metadata": {
    "collapsed": true
   },
   "outputs": [],
   "source": [
    "from collections import defaultdict\n",
    "item_buy_map = defaultdict(float)\n",
    "for user in user_item_map:\n",
    "    for item in user_item_map[user]:\n",
    "        item_buy_map[item] += 1\n",
    "#         item_buy_map[item] = item_buy_map.get(item, 0) + 1"
   ]
  },
  {
   "cell_type": "code",
   "execution_count": 58,
   "metadata": {},
   "outputs": [
    {
     "name": "stdout",
     "output_type": "stream",
     "text": [
      "2515\n",
      "1244\n",
      "666\n",
      "758\n"
     ]
    }
   ],
   "source": [
    "print len(item_id_lookup)\n",
    "print len(item_buy_map)\n",
    "print len(items)\n",
    "print len(old_items)"
   ]
  },
  {
   "cell_type": "code",
   "execution_count": 8,
   "metadata": {
    "collapsed": true
   },
   "outputs": [],
   "source": [
    "item_buy_arr = [0] * len(item_id_lookup)"
   ]
  },
  {
   "cell_type": "code",
   "execution_count": 9,
   "metadata": {
    "collapsed": true
   },
   "outputs": [],
   "source": [
    "for item in item_buy_map:\n",
    "    item_buy_arr[item] = item_buy_map[item]"
   ]
  },
  {
   "cell_type": "code",
   "execution_count": 10,
   "metadata": {
    "collapsed": true
   },
   "outputs": [],
   "source": [
    "pickle.dump(item_buy_arr, open(folder + '/item_buy_arr.pkl', 'w'))"
   ]
  },
  {
   "cell_type": "code",
   "execution_count": 11,
   "metadata": {},
   "outputs": [
    {
     "name": "stdout",
     "output_type": "stream",
     "text": [
      "[25, 164, 0, 491, 9234, 400, 489, 6197, 740, 489]\n"
     ]
    }
   ],
   "source": [
    "print item_buy_arr[:10]"
   ]
  },
  {
   "cell_type": "code",
   "execution_count": 19,
   "metadata": {},
   "outputs": [
    {
     "name": "stdout",
     "output_type": "stream",
     "text": [
      "23849\n"
     ]
    }
   ],
   "source": [
    "total =  max(item_buy_arr)\n",
    "print total"
   ]
  },
  {
   "cell_type": "code",
   "execution_count": 25,
   "metadata": {},
   "outputs": [
    {
     "name": "stdout",
     "output_type": "stream",
     "text": [
      "59204597\n"
     ]
    }
   ],
   "source": [
    "item_pick_prob_arr = [(total - x) for x in item_buy_arr]\n",
    "total = sum(item_pick_prob_arr)\n",
    "print total\n",
    "item_pick_prob_arr = [ float(x) / total for x in item_pick_prob_arr]"
   ]
  },
  {
   "cell_type": "code",
   "execution_count": 16,
   "metadata": {},
   "outputs": [
    {
     "name": "stdout",
     "output_type": "stream",
     "text": [
      "1949953932\n"
     ]
    }
   ],
   "source": [
    "print sum(item_pick_prob_arr)"
   ]
  },
  {
   "cell_type": "code",
   "execution_count": 26,
   "metadata": {},
   "outputs": [
    {
     "name": "stdout",
     "output_type": "stream",
     "text": [
      "[0.0004024011851647263, 0.0004000533945024573, 0.00040282344967232863, 0.0003945301747430187, 0.0002468558311443282, 0.0003960672175506912, 0.0003945639559036269, 0.00029815252352786054, 0.00039032442024729936, 0.0003945639559036269]\n",
      "[25, 164, 0, 491, 9234, 400, 489, 6197, 740, 489]\n"
     ]
    }
   ],
   "source": [
    "print item_pick_prob_arr[:10]\n",
    "print item_buy_arr[:10]"
   ]
  },
  {
   "cell_type": "code",
   "execution_count": 28,
   "metadata": {
    "collapsed": true
   },
   "outputs": [],
   "source": [
    "pickle.dump(item_buy_arr, open(folder + '/item_buy_arr.pkl', 'w'))\n",
    "pickle.dump(item_pick_prob_arr, open(folder + '/item_pick_prob_arr.pkl', 'w'))"
   ]
  },
  {
   "cell_type": "code",
   "execution_count": 59,
   "metadata": {
    "collapsed": true
   },
   "outputs": [],
   "source": [
    "unbuy_items = set()\n",
    "for item in item_id_lookup:\n",
    "    unbuy_items.add(item)"
   ]
  },
  {
   "cell_type": "code",
   "execution_count": 60,
   "metadata": {},
   "outputs": [
    {
     "name": "stdout",
     "output_type": "stream",
     "text": [
      "2515\n"
     ]
    }
   ],
   "source": [
    "print len(unbuy_items)"
   ]
  },
  {
   "cell_type": "code",
   "execution_count": 62,
   "metadata": {},
   "outputs": [],
   "source": [
    "for user in user_item_map:\n",
    "    for item in user_item_map[user]:\n",
    "        if item in unbuy_items:\n",
    "            unbuy_items.remove(item)"
   ]
  },
  {
   "cell_type": "code",
   "execution_count": 64,
   "metadata": {},
   "outputs": [
    {
     "name": "stdout",
     "output_type": "stream",
     "text": [
      "True\n"
     ]
    }
   ],
   "source": [
    "print len(unbuy_items) + len(item_buy_map) == len(item_id_lookup)"
   ]
  },
  {
   "cell_type": "code",
   "execution_count": 65,
   "metadata": {
    "collapsed": true
   },
   "outputs": [],
   "source": [
    "pickle.dump(unbuy_items, open(folder + '/unbuy_items.pkl', 'w'))"
   ]
  },
  {
   "cell_type": "code",
   "execution_count": null,
   "metadata": {
    "collapsed": true
   },
   "outputs": [],
   "source": []
  }
 ],
 "metadata": {
  "anaconda-cloud": {},
  "kernelspec": {
   "display_name": "Python [conda env:py2]",
   "language": "python",
   "name": "conda-env-py2-py"
  },
  "language_info": {
   "codemirror_mode": {
    "name": "ipython",
    "version": 2
   },
   "file_extension": ".py",
   "mimetype": "text/x-python",
   "name": "python",
   "nbconvert_exporter": "python",
   "pygments_lexer": "ipython2",
   "version": "2.7.13"
  }
 },
 "nbformat": 4,
 "nbformat_minor": 2
}
