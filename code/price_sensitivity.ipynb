{
 "cells": [
  {
   "cell_type": "code",
   "execution_count": 1,
   "metadata": {
    "collapsed": true
   },
   "outputs": [],
   "source": [
    "import pickle\n",
    "import matplotlib.pyplot as plt\n",
    "import numpy as np\n",
    "from collections import defaultdict\n",
    "import pandas as pd\n",
    "import matplotlib.pyplot as plt\n",
    "import csv\n",
    "%matplotlib inline"
   ]
  },
  {
   "cell_type": "code",
   "execution_count": 2,
   "metadata": {},
   "outputs": [],
   "source": [
    "folder = '../data/processed_data'\n",
    "user_items = pd.read_csv(folder + '/user_items_matrix')"
   ]
  },
  {
   "cell_type": "code",
   "execution_count": 3,
   "metadata": {},
   "outputs": [
    {
     "name": "stdout",
     "output_type": "stream",
     "text": [
      "   userID  itemID original_price discount_original_price discount_final_price  \\\n",
      "0       0    2432            NaN                     NaN                  NaN   \n",
      "1       0     129          $4.99                     NaN               $90.45   \n",
      "2       0    2818         $14.99                     NaN              $224.61   \n",
      "3       0    2219         $19.99                     NaN               $99.71   \n",
      "4       0       4          $9.99                     NaN               $29.22   \n",
      "\n",
      "                                                tags  \\\n",
      "0                                                NaN   \n",
      "1  [u'Action', u'FPS', u'Multiplayer', u'Shooter'...   \n",
      "2  [u'Open World', u'Action', u'Sandbox', u'Third...   \n",
      "3  [u'Adventure', u'Action', u'Female Protagonist...   \n",
      "4  [u'Action', u'FPS', u'Multiplayer', u'Shooter'...   \n",
      "\n",
      "                                             reviews     appid          date  \n",
      "0                                                NaN       NaN           NaN  \n",
      "1               [u'Very Positive', u'Very Positive']     320.0   Nov 1, 2004  \n",
      "2               [u'Very Positive', u'Very Positive']    8190.0  Mar 23, 2010  \n",
      "3     [u'Very Positive', u'Overwhelmingly Positive']  203160.0   Mar 4, 2013  \n",
      "4  [u'Overwhelmingly Positive', u'Overwhelmingly ...      10.0   Nov 1, 2000  \n"
     ]
    }
   ],
   "source": []
  },
  {
   "cell_type": "code",
   "execution_count": null,
   "metadata": {
    "collapsed": true
   },
   "outputs": [],
   "source": []
  }
 ],
 "metadata": {
  "anaconda-cloud": {},
  "kernelspec": {
   "display_name": "Python [conda env:py2]",
   "language": "python",
   "name": "conda-env-py2-py"
  },
  "language_info": {
   "codemirror_mode": {
    "name": "ipython",
    "version": 2
   },
   "file_extension": ".py",
   "mimetype": "text/x-python",
   "name": "python",
   "nbconvert_exporter": "python",
   "pygments_lexer": "ipython2",
   "version": "2.7.13"
  }
 },
 "nbformat": 4,
 "nbformat_minor": 2
}
