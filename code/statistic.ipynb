{
 "cells": [
  {
   "cell_type": "code",
   "execution_count": 1,
   "metadata": {
    "collapsed": true
   },
   "outputs": [],
   "source": [
    "import pickle\n",
    "import matplotlib.pyplot as plt\n",
    "import numpy as np\n",
    "from collections import defaultdict\n",
    "import pandas as pd\n",
    "import matplotlib.pyplot as plt\n",
    "%matplotlib inline"
   ]
  },
  {
   "cell_type": "code",
   "execution_count": 2,
   "metadata": {},
   "outputs": [],
   "source": [
    "bundle_item_map=pickle.load(open('../data/processed_data/bundle_item_map','rb'))\n",
    "user_bundle_map=pickle.load(open('../data/processed_data/user_bundle_map','rb'))\n",
    "bundle_diversity_map=pickle.load(open('../data/processed_data/bundle_diversity_map','rb'))"
   ]
  },
  {
   "cell_type": "code",
   "execution_count": 3,
   "metadata": {},
   "outputs": [],
   "source": [
    "user_item_map=pickle.load(open('../data/processed_data/user_item_map','rb'))\n",
    "item_data=pickle.load(open('../data/processed_data/all_items','rb'))\n",
    "itemID_item_map = pickle.load(open('../data/processed_data/itemID_item_map','rb'))"
   ]
  },
  {
   "cell_type": "code",
   "execution_count": 4,
   "metadata": {
    "scrolled": false
   },
   "outputs": [],
   "source": [
    "def convert2Price(data, key):\n",
    "    res = []\n",
    "    for k in item_data:\n",
    "        if '$' not in k[key]:\n",
    "            res += 0,\n",
    "        else:\n",
    "            try:\n",
    "                idx = k[key].find('$')\n",
    "                res += float(k[key][idx+1:]),\n",
    "            except:\n",
    "                print k[key]\n",
    "    return res"
   ]
  },
  {
   "cell_type": "code",
   "execution_count": 5,
   "metadata": {},
   "outputs": [],
   "source": [
    "original_price = np.array(convert2Price(item_data, 'original_price'))\n",
    "discount_final_price = np.array(convert2Price(item_data, 'discount_final_price'))"
   ]
  },
  {
   "cell_type": "code",
   "execution_count": 6,
   "metadata": {
    "scrolled": false
   },
   "outputs": [
    {
     "data": {
      "image/png": "[encoded data removed]",
      "text/plain": [
       "<matplotlib.figure.Figure at 0x110f1ce90>"
      ]
     },
     "metadata": {},
     "output_type": "display_data"
    }
   ],
   "source": [
    "plt.hist(original_price, bins=np.arange(original_price.min(), original_price.max()+1))\n",
    "plt.xlabel('original_price')\n",
    "plt.ylabel('count')\n",
    "plt.show()"
   ]
  },
  {
   "cell_type": "code",
   "execution_count": 8,
   "metadata": {},
   "outputs": [
    {
     "data": {
      "image/png": "[encoded data removed]",
      "text/plain": [
       "<matplotlib.figure.Figure at 0x116de8b10>"
      ]
     },
     "metadata": {},
     "output_type": "display_data"
    }
   ],
   "source": [
    "plt.hist(discount_final_price, bins=np.arange(discount_final_price.min(), discount_final_price.max()+1))\n",
    "plt.xlabel('discount_final_price')\n",
    "plt.ylabel('count')\n",
    "plt.show()"
   ]
  },
  {
   "cell_type": "code",
   "execution_count": 9,
   "metadata": {},
   "outputs": [],
   "source": [
    "from itertools import groupby\n",
    "freq = {key:len(list(group)) for key, group in \\\n",
    "        groupby(np.sort([str(int(x) / 5 * 5) + '~' + str((int(x) / 5  + 1)* 5) for x in discount_final_price]))}"
   ]
  },
  {
   "cell_type": "code",
   "execution_count": 10,
   "metadata": {},
   "outputs": [],
   "source": [
    "topPrice =  sorted(freq.items(), key = lambda x: -x[1])[:20]"
   ]
  },
  {
   "cell_type": "code",
   "execution_count": 11,
   "metadata": {},
   "outputs": [
    {
     "name": "stdout",
     "output_type": "stream",
     "text": [
      "('0~5', 7785)\n",
      "('20~25', 364)\n",
      "('5~10', 209)\n",
      "('15~20', 188)\n",
      "('10~15', 187)\n",
      "('35~40', 130)\n",
      "('45~50', 107)\n",
      "('25~30', 104)\n",
      "('40~45', 94)\n",
      "('115~120', 71)\n",
      "('55~60', 69)\n",
      "('50~55', 69)\n",
      "('30~35', 66)\n",
      "('215~220', 61)\n",
      "('220~225', 60)\n",
      "('330~335', 48)\n",
      "('80~85', 48)\n",
      "('95~100', 42)\n",
      "('135~140', 40)\n",
      "('60~65', 40)\n"
     ]
    }
   ],
   "source": [
    "for price in topPrice:\n",
    "    print price"
   ]
  },
  {
   "cell_type": "code",
   "execution_count": 12,
   "metadata": {},
   "outputs": [],
   "source": [
    "table = pd.DataFrame({'item_price' : [x[0] for x in topPrice], 'count': [x[1] for x in topPrice]})"
   ]
  },
  {
   "cell_type": "code",
   "execution_count": 13,
   "metadata": {
    "collapsed": true
   },
   "outputs": [],
   "source": [
    "diff = original_price - discount_final_price"
   ]
  },
  {
   "cell_type": "code",
   "execution_count": 14,
   "metadata": {},
   "outputs": [
    {
     "name": "stdout",
     "output_type": "stream",
     "text": [
      "2843\n",
      "7415\n"
     ]
    }
   ],
   "source": [
    "print len(diff[diff < 0])\n",
    "print len(diff[diff >= 0])"
   ]
  },
  {
   "cell_type": "code",
   "execution_count": 19,
   "metadata": {
    "collapsed": true
   },
   "outputs": [],
   "source": [
    "boughtItems = []\n",
    "for itemID in itemID_item_map:\n",
    "    item = itemID_item_map[itemID]\n",
    "    if 'discount_final_price' in item:\n",
    "        boughtItems += item,"
   ]
  },
  {
   "cell_type": "code",
   "execution_count": 20,
   "metadata": {},
   "outputs": [
    {
     "name": "stdout",
     "output_type": "stream",
     "text": [
      "2515\n"
     ]
    }
   ],
   "source": [
    "print  len(boughtItems)"
   ]
  },
  {
   "cell_type": "code",
   "execution_count": 21,
   "metadata": {},
   "outputs": [],
   "source": [
    "buy_original_price = np.array(convert2Price(boughtItems, 'original_price'))\n",
    "buy_discount_final_price = np.array(convert2Price(boughtItems, 'discount_final_price'))"
   ]
  },
  {
   "cell_type": "code",
   "execution_count": 22,
   "metadata": {
    "collapsed": true
   },
   "outputs": [],
   "source": [
    "buy_diff = buy_original_price - buy_discount_final_price"
   ]
  },
  {
   "cell_type": "code",
   "execution_count": 23,
   "metadata": {},
   "outputs": [
    {
     "name": "stdout",
     "output_type": "stream",
     "text": [
      "2843\n",
      "7415\n"
     ]
    }
   ],
   "source": [
    "print len(buy_diff[buy_diff < 0])\n",
    "print len(buy_diff[buy_diff >= 0])"
   ]
  },
  {
   "cell_type": "code",
   "execution_count": null,
   "metadata": {
    "collapsed": true
   },
   "outputs": [],
   "source": []
  }
 ],
 "metadata": {
  "anaconda-cloud": {},
  "kernelspec": {
   "display_name": "Python [conda env:py2]",
   "language": "python",
   "name": "conda-env-py2-py"
  },
  "language_info": {
   "codemirror_mode": {
    "name": "ipython",
    "version": 2
   },
   "file_extension": ".py",
   "mimetype": "text/x-python",
   "name": "python",
   "nbconvert_exporter": "python",
   "pygments_lexer": "ipython2",
   "version": "2.7.13"
  }
 },
 "nbformat": 4,
 "nbformat_minor": 2
}
