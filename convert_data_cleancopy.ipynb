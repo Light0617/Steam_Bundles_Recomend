{
 "cells": [
  {
   "cell_type": "code",
   "execution_count": 1,
   "metadata": {
    "collapsed": true
   },
   "outputs": [],
   "source": [
    "import pickle\n",
    "import cPickle\n",
    "from collections import defaultdict"
   ]
  },
  {
   "cell_type": "code",
   "execution_count": 2,
   "metadata": {
    "collapsed": false
   },
   "outputs": [],
   "source": [
    "items_set=pickle.load(open('../data/processed_data/item_set','rb')) \n",
    "item_data=pickle.load(open('../data/processed_data/all_items','rb'))\n",
    "item_id_lookup = pickle.load(open('../data/processed_data/item_id_lookup','rb'))\n",
    "item_name_map=pickle.load(open('../data/processed_data/item_name_map','rb'))"
   ]
  },
  {
   "cell_type": "code",
   "execution_count": 3,
   "metadata": {
    "collapsed": false
   },
   "outputs": [
    {
     "name": "stdout",
     "output_type": "stream",
     "text": [
      "{'original_price': u'$14.99', 'discount_original_price': '', 'discount_final_price': '', 'tags': [u'Tower Defense', u'Strategy', u'Indie', u'Sci-fi', u'Co-op', u'Space', u'Multiplayer', u'Adventure', u'Singleplayer', u'Kickstarter', u'Local Co-Op'], 'reviews': [u'Mixed', u'Very Positive'], 'appid': '221540', 'date': u'Sep 23, 2014'}\n"
     ]
    }
   ],
   "source": [
    "print item_data[0]"
   ]
  },
  {
   "cell_type": "code",
   "execution_count": 4,
   "metadata": {
    "collapsed": false
   },
   "outputs": [
    {
     "name": "stdout",
     "output_type": "stream",
     "text": [
      "10258\n",
      "304\n"
     ]
    }
   ],
   "source": [
    "item_appid_set = set()\n",
    "for item in item_data:\n",
    "    item_appid_set.add(int(item['appid']))\n",
    "print len(item_appid_set)\n",
    "\n",
    "#存储需要去掉的item index\n",
    "item_index_to_remove = set()\n",
    "for item_ind in items_set:\n",
    "    if item_id_lookup[item_ind] not in item_appid_set:\n",
    "        item_index_to_remove.add(item_ind)\n",
    "print len(item_index_to_remove)"
   ]
  },
  {
   "cell_type": "code",
   "execution_count": 5,
   "metadata": {
    "collapsed": false
   },
   "outputs": [
    {
     "name": "stdout",
     "output_type": "stream",
     "text": [
      "2515\n"
     ]
    }
   ],
   "source": [
    "# 建立 old 和 new index 之间的map\n",
    "old_new_item_index_map = dict()\n",
    "new_old_item_index_map = dict()\n",
    "new_index = 0\n",
    "for old_index in items_set:\n",
    "    if old_index not in item_index_to_remove:\n",
    "        old_new_item_index_map[old_index] = new_index\n",
    "        new_old_item_index_map[new_index] = old_index\n",
    "        new_index += 1\n",
    "print len(old_new_item_index_map)"
   ]
  },
  {
   "cell_type": "code",
   "execution_count": 6,
   "metadata": {
    "collapsed": true
   },
   "outputs": [],
   "source": [
    "#dict: user index --> item index set\n",
    "user_item_map=pickle.load(open('../data/processed_data/user_item_map','rb'))"
   ]
  },
  {
   "cell_type": "code",
   "execution_count": 7,
   "metadata": {
    "collapsed": false
   },
   "outputs": [
    {
     "name": "stdout",
     "output_type": "stream",
     "text": [
      "29634\n"
     ]
    }
   ],
   "source": [
    "# temporary user item map,把每个user的item 的 index 都改为最新的。user index没有更新，在下一段处理。\n",
    "temp_user_item_map = defaultdict(set)\n",
    "for user_index in user_item_map:\n",
    "    for old_item_index in user_item_map[user_index]:\n",
    "        if old_item_index not in item_index_to_remove:\n",
    "            new_item_index = old_new_item_index_map[old_item_index]\n",
    "            temp_user_item_map[user_index].add(new_item_index)\n",
    "print len(temp_user_item_map)"
   ]
  },
  {
   "cell_type": "code",
   "execution_count": 8,
   "metadata": {
    "collapsed": false
   },
   "outputs": [],
   "source": [
    "# 发现上一段处理中没有去掉任何user\n",
    "for u in temp_user_item_map:\n",
    "    if len(temp_user_item_map[u]) <= 0:\n",
    "        print u"
   ]
  },
  {
   "cell_type": "code",
   "execution_count": 9,
   "metadata": {
    "collapsed": false
   },
   "outputs": [
    {
     "name": "stdout",
     "output_type": "stream",
     "text": [
      "615\n"
     ]
    }
   ],
   "source": [
    "#dict: bundle_index --> items set\n",
    "bundle_item_map=pickle.load(open('../data/processed_data/bundle_item_map','rb')) \n",
    "print len(bundle_item_map)"
   ]
  },
  {
   "cell_type": "code",
   "execution_count": 10,
   "metadata": {
    "collapsed": false
   },
   "outputs": [
    {
     "name": "stdout",
     "output_type": "stream",
     "text": [
      "608\n"
     ]
    }
   ],
   "source": [
    "# old bundle index 和 new bundle index 之间的map\n",
    "old_new_bundle_index_map = dict()\n",
    "new_old_bundle_index_map = dict()\n",
    "# 新的 bundle item map\n",
    "new_bundle_item_map = dict()\n",
    "new_bundle_index = 0\n",
    "for old_bundle_index in bundle_item_map:\n",
    "    temp_set = set()\n",
    "    for old_item_index in bundle_item_map[old_bundle_index]:\n",
    "        if old_item_index not in item_index_to_remove:\n",
    "            new_item_index = old_new_item_index_map[old_item_index]\n",
    "            temp_set.add(new_item_index)\n",
    "    if len(temp_set) > 0:\n",
    "        new_bundle_item_map[new_bundle_index] = temp_set\n",
    "        old_new_bundle_index_map[old_bundle_index] = new_bundle_index\n",
    "        new_old_bundle_index_map[new_bundle_index] = old_bundle_index\n",
    "        new_bundle_index += 1\n",
    "\n",
    "print len(new_bundle_item_map)\n",
    "cPickle.dump(new_bundle_item_map, open('../data/new_data/bundle_item_map.pkl', 'w'))"
   ]
  },
  {
   "cell_type": "code",
   "execution_count": 11,
   "metadata": {
    "collapsed": false
   },
   "outputs": [],
   "source": [
    "user_bundle_map=pickle.load(open('../data/processed_data/user_bundle_map','rb')) "
   ]
  },
  {
   "cell_type": "code",
   "execution_count": 12,
   "metadata": {
    "collapsed": false
   },
   "outputs": [
    {
     "name": "stdout",
     "output_type": "stream",
     "text": [
      "7171\n"
     ]
    }
   ],
   "source": [
    "# 发现更新bundle 后，user 7171 没有任何bundle了，因此需要建立新的user list。\n",
    "for u in user_bundle_map:\n",
    "    bs = 0\n",
    "    for b in user_bundle_map[u]:\n",
    "        if b in old_new_bundle_index_map:\n",
    "            bs += 1\n",
    "    if bs <= 0:\n",
    "        print u"
   ]
  },
  {
   "cell_type": "code",
   "execution_count": 13,
   "metadata": {
    "collapsed": false
   },
   "outputs": [
    {
     "name": "stdout",
     "output_type": "stream",
     "text": [
      "29633\n"
     ]
    }
   ],
   "source": [
    "# temporary user bundle map\n",
    "temp_user_bundle_map = defaultdict(set)\n",
    "for u in user_bundle_map:\n",
    "    for old_bundle_index in user_bundle_map[u]:\n",
    "        if old_bundle_index in old_new_bundle_index_map:\n",
    "            new_bundle_index = old_new_bundle_index_map[old_bundle_index]\n",
    "            temp_user_bundle_map[u].add(new_bundle_index)\n",
    "print len(temp_user_bundle_map)\n"
   ]
  },
  {
   "cell_type": "code",
   "execution_count": 14,
   "metadata": {
    "collapsed": false
   },
   "outputs": [
    {
     "name": "stdout",
     "output_type": "stream",
     "text": [
      "29633\n",
      "29633\n",
      "7171\n"
     ]
    }
   ],
   "source": [
    "# 建立 old user index 和 new user index 之间的 map\n",
    "old_new_user_index_map = dict()\n",
    "new_old_user_index_map = dict()\n",
    "# 新的 new_user_bundle_map\n",
    "new_user_bundle_map = defaultdict(set)\n",
    "new_user_index = 0\n",
    "for old_user_index in user_bundle_map:\n",
    "    if old_user_index in temp_user_bundle_map:\n",
    "        old_new_user_index_map[old_user_index] = new_user_index\n",
    "        new_old_user_index_map[new_user_index] = old_user_index\n",
    "        new_user_bundle_map[new_user_index] = temp_user_bundle_map[old_user_index]\n",
    "        new_user_index += 1\n",
    "print len(new_user_bundle_map)\n",
    "print len(old_new_user_index_map)\n",
    "print old_new_user_index_map[7172]\n",
    "cPickle.dump(new_user_bundle_map, open('../data/new_data/user_bundle_map.pkl', 'w'))"
   ]
  },
  {
   "cell_type": "code",
   "execution_count": 15,
   "metadata": {
    "collapsed": false
   },
   "outputs": [
    {
     "name": "stdout",
     "output_type": "stream",
     "text": [
      "29633\n"
     ]
    }
   ],
   "source": [
    "# 新的 new_user_item_map\n",
    "new_user_item_map = dict()\n",
    "for old_user_index in temp_user_item_map:\n",
    "    if old_user_index in old_new_user_index_map:\n",
    "        new_user_index = old_new_user_index_map[old_user_index]\n",
    "        new_user_item_map[new_user_index] = temp_user_item_map[old_user_index]\n",
    "print len(new_user_item_map)\n",
    "cPickle.dump(new_user_item_map, open('../data/new_data/user_item_map.pkl', 'w'))"
   ]
  },
  {
   "cell_type": "code",
   "execution_count": null,
   "metadata": {
    "collapsed": true
   },
   "outputs": [],
   "source": []
  }
 ],
 "metadata": {
  "kernelspec": {
   "display_name": "Python [conda root]",
   "language": "python",
   "name": "conda-root-py"
  },
  "language_info": {
   "codemirror_mode": {
    "name": "ipython",
    "version": 2
   },
   "file_extension": ".py",
   "mimetype": "text/x-python",
   "name": "python",
   "nbconvert_exporter": "python",
   "pygments_lexer": "ipython2",
   "version": "2.7.12"
  }
 },
 "nbformat": 4,
 "nbformat_minor": 1
}
